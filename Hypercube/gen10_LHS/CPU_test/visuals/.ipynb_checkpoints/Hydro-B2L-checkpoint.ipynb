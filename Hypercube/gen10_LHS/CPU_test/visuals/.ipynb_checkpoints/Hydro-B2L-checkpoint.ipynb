{
 "cells": [
  {
   "cell_type": "code",
   "execution_count": 1,
   "metadata": {},
   "outputs": [],
   "source": [
    "from metrics import *\n",
    "import os\n",
    "# sys.path.append(path + '\\\\visuals\\\\')\n",
    "\n",
    "path = os.getcwd()"
   ]
  },
  {
   "cell_type": "code",
   "execution_count": 2,
   "metadata": {},
   "outputs": [
    {
     "data": {
      "text/plain": [
       "'C:\\\\Users\\\\pablo\\\\Documents\\\\LisemTests\\\\beach2Lisem\\\\master\\\\visuals'"
      ]
     },
     "execution_count": 2,
     "metadata": {},
     "output_type": "execute_result"
    }
   ],
   "source": [
    "path"
   ]
  },
  {
   "cell_type": "code",
   "execution_count": 3,
   "metadata": {},
   "outputs": [],
   "source": [
    "# Save coupled model results\n",
    "concat_periods(\"Q_out\", 2, path)"
   ]
  },
  {
   "cell_type": "code",
   "execution_count": 4,
   "metadata": {},
   "outputs": [],
   "source": [
    "# Merge TSS results from B2L periods\n",
    "# def merge_periods(measure, periods):\n",
    "#     if measure == 'Q_out':\n",
    "#         # Simulated\n",
    "#         filename = \"resW_accQ_m3.tss\"\n",
    "#         col = 'Q Sim.'\n",
    "    \n",
    "#     dsets = []\n",
    "#     for p in range(periods):\n",
    "#         sim_path =  path + \"\\\\output_coup\\\\\" + str(p) + \"\\\\\"\n",
    "#         sim = pd.read_table(sim_path + filename,\n",
    "#                             skiprows=4, delim_whitespace=True,\n",
    "#                             names=['Jdays', col],\n",
    "#                             header=None)\n",
    "#         if p + 1 < periods: \n",
    "#             sim = sim.iloc[:-2,:]\n",
    "#         dsets.append(sim)\n",
    "    \n",
    "#     sim = pd.concat(dsets)\n",
    "    \n",
    "#     # Observed\n",
    "#     name_obs = measure.lower() + '_cal'\n",
    "#     obs = get_obs(name_obs)\n",
    "        \n",
    "#     # Merge\n",
    "#     match = pd.merge(obs, sim, how='inner', on='Jdays')\n",
    "#     return match "
   ]
  },
  {
   "cell_type": "code",
   "execution_count": 5,
   "metadata": {},
   "outputs": [],
   "source": [
    "# q_coup = pd.read_csv(path + \"\\\\output_coup\\\\all\\\\\" + \"resW_accQ_m3.tss\", index_col=0)"
   ]
  },
  {
   "cell_type": "code",
   "execution_count": 24,
   "metadata": {},
   "outputs": [
    {
     "data": {
      "text/plain": [
       "0.7095875245628427"
      ]
     },
     "execution_count": 24,
     "metadata": {},
     "output_type": "execute_result"
    }
   ],
   "source": [
    "free = path + \"\\\\output_free\\\\0\\\\\"\n",
    "q_free = get_dataframe(free, \"Q_out\")\n",
    "q_free = q_free.rename(index=str, columns={\"Q Sim.\": \"Q Free.\"})\n",
    "get_kge(q_free, \"Qm3\", \"Q Free.\")"
   ]
  },
  {
   "cell_type": "code",
   "execution_count": 23,
   "metadata": {},
   "outputs": [
    {
     "data": {
      "text/plain": [
       "0.67613649333331"
      ]
     },
     "execution_count": 23,
     "metadata": {},
     "output_type": "execute_result"
    }
   ],
   "source": [
    "coup = path + \"\\\\output_coup\\\\all\\\\\"\n",
    "q_coup = get_dataframe(coup, \"Q_out\")\n",
    "q_coup = q_coup.rename(index=str, columns={\"Q Sim.\": \"Q Coup.\"})\n",
    "get_kge(q_coup, \"Qm3\", \"Q Coup.\")"
   ]
  },
  {
   "cell_type": "code",
   "execution_count": 25,
   "metadata": {},
   "outputs": [
    {
     "data": {
      "text/html": [
       "<div>\n",
       "<style scoped>\n",
       "    .dataframe tbody tr th:only-of-type {\n",
       "        vertical-align: middle;\n",
       "    }\n",
       "\n",
       "    .dataframe tbody tr th {\n",
       "        vertical-align: top;\n",
       "    }\n",
       "\n",
       "    .dataframe thead th {\n",
       "        text-align: right;\n",
       "    }\n",
       "</style>\n",
       "<table border=\"1\" class=\"dataframe\">\n",
       "  <thead>\n",
       "    <tr style=\"text-align: right;\">\n",
       "      <th></th>\n",
       "      <th>Jdays</th>\n",
       "      <th>Q Free.</th>\n",
       "      <th>Qm3</th>\n",
       "      <th>Q Coup.</th>\n",
       "    </tr>\n",
       "  </thead>\n",
       "  <tbody>\n",
       "    <tr>\n",
       "      <th>0</th>\n",
       "      <td>177</td>\n",
       "      <td>42.3836</td>\n",
       "      <td>28.678</td>\n",
       "      <td>42.3836</td>\n",
       "    </tr>\n",
       "    <tr>\n",
       "      <th>1</th>\n",
       "      <td>178</td>\n",
       "      <td>42.2446</td>\n",
       "      <td>28.655</td>\n",
       "      <td>42.2446</td>\n",
       "    </tr>\n",
       "    <tr>\n",
       "      <th>2</th>\n",
       "      <td>179</td>\n",
       "      <td>42.1505</td>\n",
       "      <td>28.440</td>\n",
       "      <td>42.1505</td>\n",
       "    </tr>\n",
       "    <tr>\n",
       "      <th>3</th>\n",
       "      <td>180</td>\n",
       "      <td>42.1382</td>\n",
       "      <td>30.559</td>\n",
       "      <td>42.1382</td>\n",
       "    </tr>\n",
       "    <tr>\n",
       "      <th>4</th>\n",
       "      <td>181</td>\n",
       "      <td>42.1582</td>\n",
       "      <td>29.590</td>\n",
       "      <td>42.1582</td>\n",
       "    </tr>\n",
       "  </tbody>\n",
       "</table>\n",
       "</div>"
      ],
      "text/plain": [
       "   Jdays  Q Free.     Qm3  Q Coup.\n",
       "0    177  42.3836  28.678  42.3836\n",
       "1    178  42.2446  28.655  42.2446\n",
       "2    179  42.1505  28.440  42.1505\n",
       "3    180  42.1382  30.559  42.1382\n",
       "4    181  42.1582  29.590  42.1582"
      ]
     },
     "execution_count": 25,
     "metadata": {},
     "output_type": "execute_result"
    }
   ],
   "source": [
    "q_free = q_free[[\"Jdays\",\"Q Free.\"]]\n",
    "match = pd.merge(q_free, q_coup, how='inner', on='Jdays')\n",
    "match.head()"
   ]
  },
  {
   "cell_type": "code",
   "execution_count": 26,
   "metadata": {},
   "outputs": [],
   "source": [
    "dm_simp = pd.melt(match, \n",
    "                 id_vars=['Jdays'\n",
    "                         ],\n",
    "#              value_vars=['z3_factor',\n",
    "                 )"
   ]
  },
  {
   "cell_type": "markdown",
   "metadata": {},
   "source": [
    "## Plotting"
   ]
  },
  {
   "cell_type": "code",
   "execution_count": 27,
   "metadata": {},
   "outputs": [
    {
     "ename": "ImportError",
     "evalue": "No module named seaborn",
     "output_type": "error",
     "traceback": [
      "\u001b[1;31m---------------------------------------------------------------------------\u001b[0m",
      "\u001b[1;31mImportError\u001b[0m                               Traceback (most recent call last)",
      "\u001b[1;32m<ipython-input-27-b8f2d1d4c9fb>\u001b[0m in \u001b[0;36m<module>\u001b[1;34m()\u001b[0m\n\u001b[1;32m----> 1\u001b[1;33m \u001b[1;32mimport\u001b[0m \u001b[0mseaborn\u001b[0m \u001b[1;32mas\u001b[0m \u001b[0msns\u001b[0m\u001b[1;33m\u001b[0m\u001b[0m\n\u001b[0m\u001b[0;32m      2\u001b[0m \u001b[1;31m# plt.style.use('seaborn-white')\u001b[0m\u001b[1;33m\u001b[0m\u001b[1;33m\u001b[0m\u001b[0m\n\u001b[0;32m      3\u001b[0m \u001b[0msns\u001b[0m\u001b[1;33m.\u001b[0m\u001b[0mset\u001b[0m\u001b[1;33m(\u001b[0m\u001b[0mstyle\u001b[0m\u001b[1;33m=\u001b[0m\u001b[1;34m\"darkgrid\"\u001b[0m\u001b[1;33m)\u001b[0m\u001b[1;33m\u001b[0m\u001b[0m\n\u001b[0;32m      4\u001b[0m \u001b[1;32mimport\u001b[0m \u001b[0mmatplotlib\u001b[0m\u001b[1;33m.\u001b[0m\u001b[0mpyplot\u001b[0m \u001b[1;32mas\u001b[0m \u001b[0mplt\u001b[0m\u001b[1;33m\u001b[0m\u001b[0m\n",
      "\u001b[1;31mImportError\u001b[0m: No module named seaborn"
     ]
    }
   ],
   "source": [
    "import seaborn as sns\n",
    "# plt.style.use('seaborn-white')\n",
    "sns.set(style=\"darkgrid\")\n",
    "import matplotlib.pyplot as plt"
   ]
  },
  {
   "cell_type": "code",
   "execution_count": null,
   "metadata": {},
   "outputs": [],
   "source": [
    "# Plot the responses for different events and regions\n",
    "sns.lineplot(x=\"Jdays\", y=\"value\",\n",
    "             hue=\"variable\", \n",
    "#              style=\"event\",\n",
    "             data=dm_simp)"
   ]
  },
  {
   "cell_type": "markdown",
   "metadata": {},
   "source": [
    "## Plotting multiple components"
   ]
  },
  {
   "cell_type": "code",
   "execution_count": null,
   "metadata": {},
   "outputs": [],
   "source": [
    "tss = [\"resW_accQ_m3.tss\", # Q sim\n",
    "       \"resW_outLatflow_m3.tss\",  # Outlet latflow (m3)\n",
    "       \"resW_accRunoff_m3.tss\",  # Runoff (m3)\n",
    "       \"resW_accDrain_m3.tss\",  # Drainage (m3)\n",
    "       \"resW_accBaseflow_m3.tss\"  # Baseflow, linear reservoir (m3)\n",
    "      ] \n",
    "\n",
    "names = ['Q Sim.', \n",
    "         'LF Sim.', \n",
    "         'ROFF Sim.', \n",
    "         'Drain Sim.', \n",
    "         'BF Sim.'\n",
    "        ]\n",
    "\n",
    "palette = ['blue', 'purple', 'rgb(178,223,138)', '#F44336', '#3F51B5', 'orange']\n"
   ]
  },
  {
   "cell_type": "code",
   "execution_count": null,
   "metadata": {},
   "outputs": [],
   "source": [
    "data = []\n",
    "data.append(obs_q)\n",
    "for i in range(len(tss)):  # Append simulated components\n",
    "    filename = tss[i]\n",
    "    sim_pd = pd.read_table(path + sim_name + filename, \n",
    "                            skiprows=4, delim_whitespace=True,\n",
    "                            names=['Jdays', names[i]],\n",
    "                            header=None)\n",
    "    \n",
    "    data.append(sim_pd)\n",
    "\n",
    "df_free = reduce(lambda left, right: pd.merge(left, right, on='Jdays'), data)"
   ]
  }
 ],
 "metadata": {
  "kernelspec": {
   "display_name": "Python 2",
   "language": "python",
   "name": "python2"
  },
  "language_info": {
   "codemirror_mode": {
    "name": "ipython",
    "version": 2
   },
   "file_extension": ".py",
   "mimetype": "text/x-python",
   "name": "python",
   "nbconvert_exporter": "python",
   "pygments_lexer": "ipython2",
   "version": "2.7.15"
  }
 },
 "nbformat": 4,
 "nbformat_minor": 2
}
