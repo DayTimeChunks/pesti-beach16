{
 "cells": [
  {
   "cell_type": "code",
   "execution_count": null,
   "metadata": {
    "collapsed": true
   },
   "outputs": [],
   "source": [
    "resW_tot_accVol_m3\n",
    "resW_accRunoff_m3\n",
    "resW_o_accDrain_m3\n",
    "resW_o_cellLatflow_m3\n",
    "resW_accBaseflow_m3\n",
    "\n",
    "resM_EXP_Smet_g\n",
    "\n",
    "resM_accDEGz0_L\n",
    "resM_accAGED_L\n",
    "\n",
    "resM_accRO_L\n",
    "resM_accLCHz0_L\n",
    "resM_accADR_L\n",
    "resM_accLF_L\n",
    "\n",
    "resNash_q_m3\n",
    "resNash_outConc_ugL\n",
    "resNash_outIso_delta"
   ]
  }
 ],
 "metadata": {
  "kernelspec": {
   "display_name": "Python 2",
   "language": "python",
   "name": "python2"
  },
  "language_info": {
   "codemirror_mode": {
    "name": "ipython",
    "version": 2
   },
   "file_extension": ".py",
   "mimetype": "text/x-python",
   "name": "python",
   "nbconvert_exporter": "python",
   "pygments_lexer": "ipython2",
   "version": "2.7.12"
  }
 },
 "nbformat": 4,
 "nbformat_minor": 2
}
