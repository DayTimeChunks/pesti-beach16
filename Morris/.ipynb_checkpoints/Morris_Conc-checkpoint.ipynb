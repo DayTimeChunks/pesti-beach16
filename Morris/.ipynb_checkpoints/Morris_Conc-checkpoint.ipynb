{
 "cells": [
  {
   "cell_type": "code",
   "execution_count": 1,
   "metadata": {},
   "outputs": [],
   "source": [
    "import seaborn as sns\n",
    "import matplotlib.pyplot as plt\n",
    "from mo_notebook_fns import *"
   ]
  },
  {
   "cell_type": "code",
   "execution_count": 2,
   "metadata": {},
   "outputs": [],
   "source": [
    "# If you want to store the Morris output\n",
    "file_name = \"Morris_NashConc.json\""
   ]
  },
  {
   "cell_type": "markdown",
   "metadata": {},
   "source": [
    "## How was the problem posed?"
   ]
  },
  {
   "cell_type": "code",
   "execution_count": 3,
   "metadata": {},
   "outputs": [],
   "source": [
    "names = ['z3_factor',\n",
    "         'cZ0Z1', 'cZ',\n",
    "         'c_adr',\n",
    "         'k_g',\n",
    "         'gamma01', 'gammaZ',\n",
    "         'f_transp',\n",
    "         'FCz2', 'FCZ',\n",
    "         'SATz2', 'SATZ',\n",
    "         'WPz2', 'WPZ',\n",
    "         'W100_30mm', 'W100_1550mm', 'W100_1555mm',\n",
    "         'f_oc', 'k_oc',\n",
    "         'beta_runoff',\n",
    "         'dt_50_aged',\n",
    "         'dt_50_ab',\n",
    "         'dt_50_ref',\n",
    "         'epsilon_iso',\n",
    "         'beta_moisture']\n",
    "\n",
    "bounds = [[0.75, 0.99],  # z3_factor\n",
    "          [0.01, 1.0], [0.01, 1.0],  # c_lf\n",
    "          [0.001, 1.0],  # cadr\n",
    "          [1100.0, 3650.0],  # k_g\n",
    "          [0.0001, 1.0], [0, 1.0],  # gamma\n",
    "          [0.0001, 1.0],  # f_transp\n",
    "          [0.34, 0.41], [0.34, 0.41],  # FC\n",
    "          [0.44, 0.61], [0.47, 0.53],  # SAT\n",
    "          [0.13, 0.24], [0.13, 0.24],  # WP\n",
    "          [0.39, 0.42], [0.34, 0.43], [0.35, 0.41],  # W100\n",
    "          [0.01, 0.05], [110.0, 369.0],  # f_oc, k_oc\n",
    "          [0.01, 1.0],  # beta_runoff\n",
    "          [140.0, 7000.0],  # age_rate\n",
    "          [130.0, 230.0],  # dt_50_ab\n",
    "          [26.0, 37.0],  # dt_50_ref\n",
    "          [1.0, 3.0],  # epsilon (in absolute, convert to negative!!)\n",
    "          [0.01, 1.0]]  # beta_moisture\n",
    "\n",
    "\n",
    "problem = {\n",
    "        'num_vars': len(names),\n",
    "        'names': names,\n",
    "        'bounds': bounds\n",
    "    }\n",
    "\n",
    "params_test = np.loadtxt('input_vectors.txt', float)\n",
    "\n",
    "p = 4.0\n",
    "grid_jump = 2\n",
    "r = 4\n",
    "runs = 104"
   ]
  },
  {
   "cell_type": "markdown",
   "metadata": {},
   "source": [
    "## Output vars?"
   ]
  },
  {
   "cell_type": "code",
   "execution_count": 4,
   "metadata": {},
   "outputs": [],
   "source": [
    "def get_tss(folder, name):\n",
    "    path = str(folder) + \"/\" + name + \".tss\"\n",
    "    res = np.loadtxt(path, float, skiprows=4, usecols=[1])\n",
    "    return res\n",
    "\n",
    "# get_tss(1, \"resNash_q_m3\")"
   ]
  },
  {
   "cell_type": "code",
   "execution_count": 5,
   "metadata": {},
   "outputs": [],
   "source": [
    "nash = [\"resNash_NcompConc_L\",\n",
    "        \"resNash_NcompIso\",\n",
    "        \"resNash_outConc_ugL\",\n",
    "        \"resNash_outIso_delta\",\n",
    "        \"resNash_q_m3\", \n",
    "        \"resNash_ScompConc_L\", \n",
    "        \"resNash_ScompIso\", \n",
    "        \"resNash_VcompConc_L\", \n",
    "        \"resNash_VcompIso\"\n",
    "        ]\n",
    "\n",
    "nash = [\"resNash_q_m3\",\n",
    "        \"resNash_outConc_ugL\",\n",
    "        \"resNash_NcompConc_L\",\n",
    "        \"resNash_ScompConc_L\",\n",
    "        \"resNash_VcompConc_L\"\n",
    "       ]"
   ]
  },
  {
   "cell_type": "code",
   "execution_count": 6,
   "metadata": {},
   "outputs": [],
   "source": [
    "morris_results = getSiList(\n",
    "    nash, \n",
    "    problem, \n",
    "    params_test, \n",
    "    grid_jump, p, runs, nash=True, console=False)"
   ]
  },
  {
   "cell_type": "code",
   "execution_count": 7,
   "metadata": {},
   "outputs": [],
   "source": [
    "# saveMorris(nash_iso, morris_results, filename=file_name)"
   ]
  },
  {
   "cell_type": "code",
   "execution_count": 8,
   "metadata": {},
   "outputs": [],
   "source": [
    "df = get_morris_df(nash, morris_results)"
   ]
  },
  {
   "cell_type": "code",
   "execution_count": 9,
   "metadata": {},
   "outputs": [
    {
     "data": {
      "text/html": [
       "<div>\n",
       "<style scoped>\n",
       "    .dataframe tbody tr th:only-of-type {\n",
       "        vertical-align: middle;\n",
       "    }\n",
       "\n",
       "    .dataframe tbody tr th {\n",
       "        vertical-align: top;\n",
       "    }\n",
       "\n",
       "    .dataframe thead th {\n",
       "        text-align: right;\n",
       "    }\n",
       "</style>\n",
       "<table border=\"1\" class=\"dataframe\">\n",
       "  <thead>\n",
       "    <tr style=\"text-align: right;\">\n",
       "      <th></th>\n",
       "      <th>mu_star</th>\n",
       "      <th>parameter</th>\n",
       "      <th>sigma</th>\n",
       "      <th>name</th>\n",
       "    </tr>\n",
       "  </thead>\n",
       "  <tbody>\n",
       "    <tr>\n",
       "      <th>0</th>\n",
       "      <td>0.717218</td>\n",
       "      <td>z3_factor</td>\n",
       "      <td>1.000000</td>\n",
       "      <td>resNash_q_m3</td>\n",
       "    </tr>\n",
       "    <tr>\n",
       "      <th>1</th>\n",
       "      <td>0.109581</td>\n",
       "      <td>cZ0Z1</td>\n",
       "      <td>0.181458</td>\n",
       "      <td>resNash_q_m3</td>\n",
       "    </tr>\n",
       "    <tr>\n",
       "      <th>2</th>\n",
       "      <td>0.082750</td>\n",
       "      <td>cZ</td>\n",
       "      <td>0.170500</td>\n",
       "      <td>resNash_q_m3</td>\n",
       "    </tr>\n",
       "    <tr>\n",
       "      <th>3</th>\n",
       "      <td>0.022517</td>\n",
       "      <td>c_adr</td>\n",
       "      <td>0.047599</td>\n",
       "      <td>resNash_q_m3</td>\n",
       "    </tr>\n",
       "    <tr>\n",
       "      <th>4</th>\n",
       "      <td>0.450626</td>\n",
       "      <td>k_g</td>\n",
       "      <td>0.550387</td>\n",
       "      <td>resNash_q_m3</td>\n",
       "    </tr>\n",
       "  </tbody>\n",
       "</table>\n",
       "</div>"
      ],
      "text/plain": [
       "    mu_star  parameter     sigma          name\n",
       "0  0.717218  z3_factor  1.000000  resNash_q_m3\n",
       "1  0.109581      cZ0Z1  0.181458  resNash_q_m3\n",
       "2  0.082750         cZ  0.170500  resNash_q_m3\n",
       "3  0.022517      c_adr  0.047599  resNash_q_m3\n",
       "4  0.450626        k_g  0.550387  resNash_q_m3"
      ]
     },
     "execution_count": 9,
     "metadata": {},
     "output_type": "execute_result"
    }
   ],
   "source": [
    "df.head()"
   ]
  },
  {
   "cell_type": "code",
   "execution_count": 10,
   "metadata": {},
   "outputs": [],
   "source": [
    "marker = ['o', 'x', '^', '+', '*', '1', '2', '3', '4', '8', 's', 'p', \n",
    "          'D', 'o', 'x', '^', '+', '*', '1', '2', '3', '4', '8', 's', '+', '*']\n",
    "\n",
    "# markers = [marker[i] for i in range(len(df[\"parameter\"].unique()))]"
   ]
  },
  {
   "cell_type": "code",
   "execution_count": 11,
   "metadata": {},
   "outputs": [
    {
     "data": {
      "image/png": "[encoded data removed]",
      "text/plain": [
       "<Figure size 538.625x648 with 5 Axes>"
      ]
     },
     "metadata": {},
     "output_type": "display_data"
    }
   ],
   "source": [
    "g = sns.FacetGrid(df, col=\"name\", hue=\"parameter\", \n",
    "                  hue_kws={\"marker\": marker}, col_wrap=2)\n",
    "g = g.map(plt.scatter, \"mu_star\", \"sigma\", edgecolor=\"w\").add_legend()"
   ]
  }
 ],
 "metadata": {
  "kernelspec": {
   "display_name": "Python 2",
   "language": "python",
   "name": "python2"
  },
  "language_info": {
   "codemirror_mode": {
    "name": "ipython",
    "version": 2
   },
   "file_extension": ".py",
   "mimetype": "text/x-python",
   "name": "python",
   "nbconvert_exporter": "python",
   "pygments_lexer": "ipython2",
   "version": "2.7.14"
  }
 },
 "nbformat": 4,
 "nbformat_minor": 2
}
