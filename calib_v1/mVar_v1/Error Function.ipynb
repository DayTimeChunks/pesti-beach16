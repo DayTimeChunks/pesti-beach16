{
 "cells": [
  {
   "cell_type": "code",
   "execution_count": 2,
   "metadata": {},
   "outputs": [
    {
     "name": "stdout",
     "output_type": "stream",
     "text": [
      "C:\\Users\\pablo\\Documents\\pablo-models\\pesti-beach16\\calib_v1\\mVar_v1\n"
     ]
    }
   ],
   "source": [
    "import os\n",
    "import numpy as np\n",
    "import pandas as pd\n",
    "import sys\n",
    "sys.path.append('D:/Documents/these_pablo/Models/BEACH2016/Analysis')\n",
    "print(os.getcwd())"
   ]
  },
  {
   "cell_type": "code",
   "execution_count": 3,
   "metadata": {},
   "outputs": [],
   "source": [
    "def getSoilDataCal(path, name):\n",
    "    path += name + \".tss\"\n",
    "    obs = pd.read_table(path)\n",
    "    return obs\n",
    "\n",
    "# Function to add column ID, with first letter capitalized.\n",
    "def newlabel(row, plot):\n",
    "    return plot.capitalize() + '-' + str(int(row['Jdays']))"
   ]
  },
  {
   "cell_type": "code",
   "execution_count": 4,
   "metadata": {},
   "outputs": [],
   "source": [
    "path = 'D:/Documents/these_pablo/Models/BEACH2016/Analysis/Data/BEACH_R/'\n",
    "path = 'C:/Users/pablo\\Documents/pablo-models/pesti-beach16/Analysis/Data/BEACH_R/'\n"
   ]
  },
  {
   "cell_type": "code",
   "execution_count": 5,
   "metadata": {},
   "outputs": [],
   "source": [
    "def get_dataframe(name_obs_detail, name_obs_comp, name_sim):\n",
    "    \"\"\"\n",
    "    name_obs_detail = 'delta_det_cal' | 'conc_det_cal'\n",
    "    name_obs_comp = 'delta_comp_cal' | 'conc_comp_cal'\n",
    "    name_sim = 'd13C_real' | 'CONC_real'\n",
    "    \n",
    "    \"\"\"\n",
    "    \n",
    "    detail_plots = ['n1', 'n2', 'n3', 'n4', 'n5', 'n7', 'n8',\n",
    "                    'v4', 'v5', 'v7', 'v8', 'v9', 'v10',\n",
    "                    's11', 's12', 's13']\n",
    "    \n",
    "    matches = []\n",
    "    for sample in range(len(detail_plots)):\n",
    "        plot = detail_plots[sample]\n",
    "\n",
    "        # Simulated\n",
    "        filename = \"resM_\" + plot + name_sim + \".tss\"  \n",
    "        det_sim = pd.read_table(filename, \n",
    "                                    skiprows=4, delim_whitespace=True,\n",
    "                                    names=['Jdays', 'SIM'],\n",
    "                                    header=None)\n",
    "        # Observed \n",
    "        det_sim['IDcal'] = det_sim.apply (lambda row: newlabel (row, plot),axis=1)  # Add ID\n",
    "        n = getSoilDataCal(path, name_obs_detail)   # Name observed detailed\n",
    "\n",
    "        match = pd.merge(n, det_sim, how='inner', on='IDcal')\n",
    "        matches.append(match)\n",
    "        \n",
    "    conc_det_dat = pd.concat(matches)\n",
    "    \n",
    "    # Prepare composites and concatenate\n",
    "    sample_comp = ['nor', 'val', 'sou']\n",
    "    matches = []\n",
    "\n",
    "    for sample in range(len(sample_comp)):\n",
    "        plot = sample_comp[sample]\n",
    "        filename = \"resM_\" + plot + name_sim + \".tss\"\n",
    "        det_sim = pd.read_table(filename, \n",
    "                                    skiprows=4, delim_whitespace=True,\n",
    "                                    names=['Jdays', 'SIM'],\n",
    "                                    header=None)\n",
    "        label = plot[0]\n",
    "        det_sim['IDcal'] = det_sim.apply (lambda row: newlabel (row, label),axis=1) \n",
    "        n = getSoilDataCal(path, name_obs_comp)  # Name observed composites\n",
    "        match = pd.merge(n, det_sim, how='inner', on='IDcal')\n",
    "        matches.append(match)\n",
    "    # Concatenate composites\n",
    "    conc_comp_dat = pd.concat(matches)\n",
    "    conc_dat = pd.concat([conc_det_dat, conc_comp_dat])\n",
    "    \n",
    "    # Concatenate detailed AND COMPOSITES\n",
    "    return conc_dat"
   ]
  },
  {
   "cell_type": "code",
   "execution_count": 6,
   "metadata": {},
   "outputs": [],
   "source": [
    "def get_error(var):\n",
    "    \n",
    "    # Define observation dataframes to use\n",
    "    if var == \"ug.g\":\n",
    "        name_obs_detail = 'conc_det_cal'\n",
    "        name_obs_comp = 'conc_comp_cal'\n",
    "        name_sim = 'CONC_real'\n",
    "    else:\n",
    "        name_obs_detail = 'delta_det_cal'\n",
    "        name_obs_comp = 'delta_comp_cal'\n",
    "        name_sim = 'd13C_real'\n",
    "        \n",
    "    df1 = get_dataframe(name_obs_detail, name_obs_comp, name_sim)\n",
    "    \n",
    "    # Nash\n",
    "    mean = df1[var].mean()\n",
    "    # Diff sim vs. obs\n",
    "    dfn = df1.assign(diff_sim=lambda row: (row['SIM'] - row[var]) ** 2)\n",
    "    err_sim = dfn['diff_sim'].sum()\n",
    "    # Variance\n",
    "    dfn = dfn.assign(diff_obs=lambda row: (row[var] - mean) ** 2)\n",
    "    err_obs = dfn['diff_obs'].sum()\n",
    "    error = err_sim / err_obs\n",
    "    # nash = 1 - error\n",
    "    if var == 'ug.g':  # Log only for concentrations\n",
    "        lnmean = np.log(df1[var]).mean()\n",
    "        # Log Diff sim vs. obs\n",
    "        dfn = dfn.assign(lndiff_sim=lambda row: (np.log(row['SIM']) - np.log(row[var])) ** 2)\n",
    "        err_lnsim = dfn['lndiff_sim'].sum()\n",
    "        # Log variance\n",
    "        dfn = dfn.assign(lndiff_obs=lambda row: (np.log(row[var]) - lnmean) ** 2)\n",
    "        err_lnobs = dfn['lndiff_obs'].sum()\n",
    "        error += err_lnsim / err_lnobs\n",
    "        error *= 0.5\n",
    "    return error"
   ]
  },
  {
   "cell_type": "code",
   "execution_count": 7,
   "metadata": {},
   "outputs": [
    {
     "data": {
      "text/plain": [
       "0.5550627880917681"
      ]
     },
     "execution_count": 7,
     "metadata": {},
     "output_type": "execute_result"
    }
   ],
   "source": [
    "get_error('d13C')"
   ]
  },
  {
   "cell_type": "code",
   "execution_count": 8,
   "metadata": {},
   "outputs": [
    {
     "data": {
      "text/plain": [
       "0.16420873034135822"
      ]
     },
     "execution_count": 8,
     "metadata": {},
     "output_type": "execute_result"
    }
   ],
   "source": [
    "get_error('ug.g')"
   ]
  },
  {
   "cell_type": "code",
   "execution_count": 9,
   "metadata": {},
   "outputs": [
    {
     "data": {
      "text/plain": [
       "0.6403642407834369"
      ]
     },
     "execution_count": 9,
     "metadata": {},
     "output_type": "execute_result"
    }
   ],
   "source": [
    "nash = 1 - 0.5*(get_error('d13C') + get_error('ug.g'))\n",
    "nash"
   ]
  },
  {
   "cell_type": "code",
   "execution_count": null,
   "metadata": {
    "collapsed": true
   },
   "outputs": [],
   "source": []
  }
 ],
 "metadata": {
  "kernelspec": {
   "display_name": "Python 2",
   "language": "python",
   "name": "python2"
  },
  "language_info": {
   "codemirror_mode": {
    "name": "ipython",
    "version": 2
   },
   "file_extension": ".py",
   "mimetype": "text/x-python",
   "name": "python",
   "nbconvert_exporter": "python",
   "pygments_lexer": "ipython2",
   "version": "2.7.14"
  }
 },
 "nbformat": 4,
 "nbformat_minor": 2
}
