{
 "cells": [
  {
   "cell_type": "code",
   "execution_count": 1,
   "metadata": {},
   "outputs": [],
   "source": [
    "import numpy as np\n",
    "import pandas as pd\n"
   ]
  },
  {
   "cell_type": "code",
   "execution_count": 2,
   "metadata": {},
   "outputs": [],
   "source": [
    "def getOutletData(name, var=None, tss=True):\n",
    "    path = '../Analysis/Data/BEACH_R/'\n",
    "    if var is None:\n",
    "        var = name\n",
    "    if tss:\n",
    "        path += name + \".tss\"\n",
    "        obs = pd.read_table(path, header=None)\n",
    "        obs = obs.rename(index=str, columns={0: \"Jdays\", 1: var})\n",
    "    else:\n",
    "        path += name + \".csv\"\n",
    "        obs = pd.read_csv(path, sep=\",\")\n",
    "\n",
    "    return obs\n",
    "\n",
    "\n",
    "def get_outlet_merged():\n",
    "\n",
    "    # Simulated\n",
    "    filename = \"resW_\" + \"tot_accVOl_m3\" + \".tss\"\n",
    "    out_sim = pd.read_table(filename,\n",
    "                            skiprows=4, delim_whitespace=True,\n",
    "                            names=['Jdays', 'SIM'],\n",
    "                            header=None)\n",
    "\n",
    "    # Observed\n",
    "    obs = getOutletData('q_obs_m3day', var='m3d')\n",
    "\n",
    "\n",
    "    # Merge\n",
    "    match = pd.merge(obs, out_sim, how='inner', on='Jdays')\n",
    "    return match\n",
    "\n",
    "\n",
    "def get_error(var):\n",
    "    \"\"\"\n",
    "\n",
    "    :param var: 'm3d'\n",
    "    :return:\n",
    "    \"\"\"\n",
    "    # Considers only outlet volume discharged\n",
    "    # Define observation dataframes to use\n",
    "\n",
    "    df1 = get_outlet_merged()\n",
    "\n",
    "    # Nash\n",
    "    mean = df1[var].mean()\n",
    "    # Diff sim vs. obs\n",
    "    dfn = df1.assign(diff_sim=lambda row: (row['SIM'] - row[var]) ** 2)\n",
    "    err_sim = dfn['diff_sim'].sum()\n",
    "    # Variance\n",
    "    dfn = dfn.assign(diff_obs=lambda row: (row[var] - mean) ** 2)\n",
    "    err_obs = dfn['diff_obs'].sum()\n",
    "    error = err_sim / err_obs  # nash = 1 - error\n",
    "\n",
    "    return error"
   ]
  },
  {
   "cell_type": "code",
   "execution_count": 3,
   "metadata": {},
   "outputs": [
    {
     "data": {
      "text/plain": [
       "0.8251535584611449"
      ]
     },
     "execution_count": 3,
     "metadata": {},
     "output_type": "execute_result"
    }
   ],
   "source": [
    "get_error('m3d')"
   ]
  },
  {
   "cell_type": "code",
   "execution_count": null,
   "metadata": {},
   "outputs": [],
   "source": []
  }
 ],
 "metadata": {
  "kernelspec": {
   "display_name": "bunny",
   "language": "python",
   "name": "bunny"
  },
  "language_info": {
   "codemirror_mode": {
    "name": "ipython",
    "version": 2
   },
   "file_extension": ".py",
   "mimetype": "text/x-python",
   "name": "python",
   "nbconvert_exporter": "python",
   "pygments_lexer": "ipython2",
   "version": "2.7.14"
  }
 },
 "nbformat": 4,
 "nbformat_minor": 2
}
