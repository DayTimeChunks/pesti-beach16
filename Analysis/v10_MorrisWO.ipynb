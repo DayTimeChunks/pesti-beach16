{
 "cells": [
  {
   "cell_type": "code",
   "execution_count": 1,
   "metadata": {},
   "outputs": [
    {
     "name": "stdout",
     "output_type": "stream",
     "text": [
      "2016\n",
      "/Users/DayTightChunks/Documents/PhD/Models/.nosync/pesti-beach16/Analysis\n"
     ]
    }
   ],
   "source": [
    "import datetime\n",
    "import os\n",
    "\n",
    "import plotly.plotly as py\n",
    "from plotly.offline import download_plotlyjs, init_notebook_mode, plot, iplot\n",
    "from plotly.graph_objs import *\n",
    "import plotly.graph_objs as go\n",
    "\n",
    "import numpy as np\n",
    "\n",
    "from obs_data import *\n",
    "\n",
    "print(os.getcwd())"
   ]
  },
  {
   "cell_type": "code",
   "execution_count": 2,
   "metadata": {},
   "outputs": [
    {
     "data": {
      "text/html": [
       "<script>requirejs.config({paths: { 'plotly': ['https://cdn.plot.ly/plotly-latest.min']},});if(!window.Plotly) {{require(['plotly'],function(plotly) {window.Plotly=plotly;});}}</script>"
      ],
      "text/vnd.plotly.v1+html": [
       "<script>requirejs.config({paths: { 'plotly': ['https://cdn.plot.ly/plotly-latest.min']},});if(!window.Plotly) {{require(['plotly'],function(plotly) {window.Plotly=plotly;});}}</script>"
      ]
     },
     "metadata": {},
     "output_type": "display_data"
    }
   ],
   "source": [
    "init_notebook_mode(connected=True)"
   ]
  },
  {
   "cell_type": "code",
   "execution_count": 3,
   "metadata": {},
   "outputs": [
    {
     "name": "stdout",
     "output_type": "stream",
     "text": [
      "v10mo/\n"
     ]
    }
   ],
   "source": [
    "# Model version and mc-run number:\n",
    "version = \"v10mo\"\n",
    "\n",
    "# Working computer\n",
    "PC = False\n",
    "if PC:\n",
    "    back = \"\\\\\"  \n",
    "    sim_path = version + back  \n",
    "else:\n",
    "    back = \"/\"\n",
    "    sim_path = version + back\n",
    "    \n",
    "print(sim_path)"
   ]
  },
  {
   "cell_type": "code",
   "execution_count": null,
   "metadata": {
    "collapsed": true
   },
   "outputs": [],
   "source": []
  },
  {
   "cell_type": "code",
   "execution_count": 5,
   "metadata": {
    "collapsed": true
   },
   "outputs": [],
   "source": [
    "variable = \"CONC\"\n",
    "det_name = \"ug.g\"\n",
    "transect = 'North'"
   ]
  },
  {
   "cell_type": "markdown",
   "metadata": {},
   "source": [
    "## Observed"
   ]
  },
  {
   "cell_type": "markdown",
   "metadata": {},
   "source": [
    "### Detailed"
   ]
  },
  {
   "cell_type": "code",
   "execution_count": null,
   "metadata": {
    "collapsed": true
   },
   "outputs": [],
   "source": [
    "detailed = [\"n1\", \"n2\", \"n3\", \"n4\", \"n5\", \"n7\", \"n8\"]\n",
    "pallete = [\"#F44336\", '#673AB7', '#3F51B5', '#009688', '#FF9800', '#4CAF50', '#03A9F4']\n",
    "# red, purple, indigo, teal-green, orange, green, light-blue\n",
    "\n",
    "obs_list = []\n",
    "for i in range(len(detailed)):\n",
    "    name = detailed[i] + \".tss\"\n",
    "    o = getDetailed(name)\n",
    "    o = o[det_name].tolist()\n",
    "    obs_list.append(o)"
   ]
  },
  {
   "cell_type": "markdown",
   "metadata": {},
   "source": [
    "## Simulated"
   ]
  },
  {
   "cell_type": "code",
   "execution_count": 6,
   "metadata": {},
   "outputs": [
    {
     "name": "stdout",
     "output_type": "stream",
     "text": [
      "v10mo\\\n"
     ]
    }
   ],
   "source": [
    "# Model version and mc-run number:\n",
    "version = \"v10mo\"\n",
    "folder = \"1\"\n",
    "\n",
    "# Working computer\n",
    "PC = True\n",
    "if PC:\n",
    "    back = \"\\\\\"  \n",
    "    sim_path = version + back  \n",
    "else:\n",
    "    back = \"/\"\n",
    "    sim_path = version + back\n",
    "    \n",
    "print(sim_path)"
   ]
  },
  {
   "cell_type": "code",
   "execution_count": 12,
   "metadata": {},
   "outputs": [
    {
     "data": {
      "text/plain": [
       "array([ 0.58966667,  0.549     ,  0.4       ,  0.36      ,  0.09333333,\n",
       "        0.334     ,  1.        ,  0.004852  ,  0.668284  ,  1.        ,\n",
       "        0.667     ,  0.667     ,  0.667     ])"
      ]
     },
     "execution_count": 12,
     "metadata": {},
     "output_type": "execute_result"
    }
   ],
   "source": [
    "input_matrix = np.loadtxt(sim_path + \"input_vectors.txt\", float) \n",
    "input_matrix[0]"
   ]
  },
  {
   "cell_type": "code",
   "execution_count": null,
   "metadata": {
    "collapsed": true
   },
   "outputs": [],
   "source": [
    "\n",
    "\n",
    "# Time series name\n",
    "col = 'sim'\n",
    "sim_list = []\n",
    "for i in range(len(detailed)):\n",
    "    name_tss = detailed[i] + variable\n",
    "    filename = \"resM_\" + name_tss + \".tss\"\n",
    "    sim = pd.read_table(sim_path + folder + back + filename, \n",
    "                                skiprows=4, delim_whitespace=True,\n",
    "                                names=['Jdays', col],\n",
    "                                header=None)\n",
    "    sim_list.append(sim[col].tolist())"
   ]
  },
  {
   "cell_type": "markdown",
   "metadata": {},
   "source": [
    "## Plotting"
   ]
  },
  {
   "cell_type": "code",
   "execution_count": null,
   "metadata": {
    "collapsed": true
   },
   "outputs": [],
   "source": [
    "# Julian days\n",
    "# x = s_obs.Jdays.tolist()\n",
    "dates = getTime(sep=\";\")\n",
    "x = dates.Date.tolist()\n",
    "\n",
    "start = 175\n",
    "end = 300"
   ]
  },
  {
   "cell_type": "markdown",
   "metadata": {},
   "source": [
    "### Observed (markers)"
   ]
  },
  {
   "cell_type": "code",
   "execution_count": null,
   "metadata": {
    "collapsed": true
   },
   "outputs": [],
   "source": [
    "# Add markers to data\n",
    "data = []\n",
    "for i in range(len(detailed)):\n",
    "    \n",
    "    \n",
    "    obs = go.Scatter(\n",
    "        x = x[start:end],\n",
    "        y = obs_list[i][start:end],\n",
    "        mode = 'markers',\n",
    "        name = detailed[i],\n",
    "        marker=dict(\n",
    "            color= pallete[i],\n",
    "            line=dict(\n",
    "                color= 'black', #'rgba(217, 217, 217, 1.0)',\n",
    "                width=1,\n",
    "            ),\n",
    "            symbol='star',\n",
    "            size=10)\n",
    "    )\n",
    "    data.append(obs)"
   ]
  },
  {
   "cell_type": "markdown",
   "metadata": {},
   "source": [
    "### Simulated"
   ]
  },
  {
   "cell_type": "code",
   "execution_count": null,
   "metadata": {
    "collapsed": true
   },
   "outputs": [],
   "source": [
    "# Add sim lines to data\n",
    "for i in range(len(detailed)):\n",
    "    if detailed[i][0] == \"n\":\n",
    "        color = 'red'\n",
    "    elif detailed[i][0] == \"t\":\n",
    "        color = 'green'\n",
    "    else:\n",
    "        color = 'blue'\n",
    "    pobj = go.Scatter(\n",
    "        x = x[start:end],\n",
    "        y = sim_list[i][start:end],\n",
    "        mode = 'lines',\n",
    "        name = detailed[i] + \" Sim.\",\n",
    "        marker=dict(color=pallete[i]))\n",
    "    data.append(pobj)"
   ]
  },
  {
   "cell_type": "code",
   "execution_count": null,
   "metadata": {
    "collapsed": true
   },
   "outputs": [],
   "source": [
    "%matplotlib inline\n",
    "import plotlycred\n",
    "figname = transect + variable + 'D3.png'\n",
    "\n",
    "online = False\n",
    "if online:\n",
    "    # fig = py.iplot(data) \n",
    "    fig = go.Figure(data=data) # , layout=layout)\n",
    "    py.image.save_as(fig, filename=figname)\n",
    "else:\n",
    "    iplot(data)\n"
   ]
  },
  {
   "cell_type": "markdown",
   "metadata": {},
   "source": [
    "Link:\n",
    "\n",
    "https://plot.ly/~DayTimeChunks/27/"
   ]
  },
  {
   "cell_type": "code",
   "execution_count": null,
   "metadata": {
    "collapsed": true
   },
   "outputs": [],
   "source": [
    "from IPython.display import Image\n",
    "if online:\n",
    "    i = Image(figname)\n",
    "    display(i)"
   ]
  }
 ],
 "metadata": {
  "kernelspec": {
   "display_name": "Python 2",
   "language": "python",
   "name": "python2"
  },
  "language_info": {
   "codemirror_mode": {
    "name": "ipython",
    "version": 2
   },
   "file_extension": ".py",
   "mimetype": "text/x-python",
   "name": "python",
   "nbconvert_exporter": "python",
   "pygments_lexer": "ipython2",
   "version": "2.7.12"
  }
 },
 "nbformat": 4,
 "nbformat_minor": 2
}
