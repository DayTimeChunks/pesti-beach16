{
 "cells": [
  {
   "cell_type": "markdown",
   "metadata": {},
   "source": [
    "## Hydrology \n",
    "\n",
    "### Balance indicators\n",
    "\n",
    "- Observed vs sim. discharge/rainfall ratio (i.e. insights on real ETP)"
   ]
  },
  {
   "cell_type": "code",
   "execution_count": 1,
   "metadata": {},
   "outputs": [],
   "source": [
    "import mpld3\n",
    "mpld3.enable_notebook()\n",
    "\n",
    "import seaborn as sns\n",
    "sns.set_context(rc={'lines.markeredgewidth': 0.1})\n",
    "sns.set(style=\"whitegrid\")\n",
    "\n",
    "# Plot graphs within this document\n",
    "# %matplotlib inline\n",
    "%matplotlib notebook\n",
    "# For non notebook: https://stackoverflow.com/questions/9651092/my-matplotlib-pyplot-legend-is-being-cut-off"
   ]
  },
  {
   "cell_type": "code",
   "execution_count": 2,
   "metadata": {},
   "outputs": [
    {
     "data": {
      "text/html": [
       "<script>requirejs.config({paths: { 'plotly': ['https://cdn.plot.ly/plotly-latest.min']},});if(!window.Plotly) {{require(['plotly'],function(plotly) {window.Plotly=plotly;});}}</script>"
      ],
      "text/vnd.plotly.v1+html": [
       "<script>requirejs.config({paths: { 'plotly': ['https://cdn.plot.ly/plotly-latest.min']},});if(!window.Plotly) {{require(['plotly'],function(plotly) {window.Plotly=plotly;});}}</script>"
      ]
     },
     "metadata": {},
     "output_type": "display_data"
    },
    {
     "name": "stdout",
     "output_type": "stream",
     "text": [
      "/Users/DayTightChunks/Documents/PhD/Models/.nosync/pesti-beach16/Analysis\n"
     ]
    }
   ],
   "source": [
    "import datetime\n",
    "import os\n",
    "\n",
    "import plotly.plotly as py\n",
    "from plotly.offline import download_plotlyjs, init_notebook_mode, plot, iplot\n",
    "from plotly.graph_objs import *\n",
    "import plotly.graph_objs as go\n",
    "init_notebook_mode(connected=True)\n",
    "\n",
    "import numpy as np\n",
    "\n",
    "from obs_data import *\n",
    "\n",
    "print(os.getcwd())"
   ]
  },
  {
   "cell_type": "code",
   "execution_count": 3,
   "metadata": {},
   "outputs": [],
   "source": [
    "PC = False\n",
    "version = \"v10\"\n",
    "folder = \"1\""
   ]
  },
  {
   "cell_type": "code",
   "execution_count": 4,
   "metadata": {},
   "outputs": [
    {
     "name": "stdout",
     "output_type": "stream",
     "text": [
      "v10/\n"
     ]
    }
   ],
   "source": [
    "if PC:\n",
    "    back = \"\\\\\"  \n",
    "    sim_path = version + back  \n",
    "else:\n",
    "    back = \"/\"\n",
    "    sim_path = version + back\n",
    "    \n",
    "print(sim_path)"
   ]
  },
  {
   "cell_type": "markdown",
   "metadata": {},
   "source": [
    "### Observed"
   ]
  },
  {
   "cell_type": "code",
   "execution_count": 5,
   "metadata": {},
   "outputs": [],
   "source": [
    "name_tss = \"accRain_m3\"\n",
    "filename = \"resW_\" + name_tss + \".tss\"\n",
    "col = \"Rain\"\n",
    "\n",
    "# Rain (m3)\n",
    "rain_m3 = pd.read_table(sim_path + folder + back + filename, \n",
    "                            skiprows=4, delim_whitespace=True,\n",
    "                            names=['Jdays', col],\n",
    "                            header=None)\n",
    "# Q (m3)\n",
    "q_obs = getWaterData(tss=True)\n",
    "q_obs.loc[q_obs.Qm3 < 0,'Qm3'] = np.nan\n",
    "q_obs[280:].head(10)\n",
    "\n",
    "# Q sim\n",
    "name_tss = \"n_accVol_m3\"\n",
    "filename = \"resN_\" + name_tss + \".tss\"\n",
    "col = \"Qsim\"\n",
    "\n",
    "q_sim_m3 = pd.read_table(sim_path + folder + back + filename, \n",
    "                            skiprows=4, delim_whitespace=True,\n",
    "                            names=['Jdays', col],\n",
    "                            header=None)"
   ]
  },
  {
   "cell_type": "code",
   "execution_count": 6,
   "metadata": {},
   "outputs": [],
   "source": [
    "# Julian days\n",
    "start = 180\n",
    "end = 290\n",
    "\n",
    "qObs = q_obs[start:end]\n",
    "qSim = q_sim_m3[start:end]\n",
    "rain = rain_m3[start:end]\n",
    "\n",
    "obs = qObs.merge(rain, left_on='Jdays', right_on='Jdays', how='outer')\n",
    "so = obs.merge(qSim, left_on='Jdays', right_on='Jdays', how='outer')"
   ]
  },
  {
   "cell_type": "code",
   "execution_count": 7,
   "metadata": {},
   "outputs": [
    {
     "data": {
      "text/html": [
       "<div>\n",
       "<style scoped>\n",
       "    .dataframe tbody tr th:only-of-type {\n",
       "        vertical-align: middle;\n",
       "    }\n",
       "\n",
       "    .dataframe tbody tr th {\n",
       "        vertical-align: top;\n",
       "    }\n",
       "\n",
       "    .dataframe thead th {\n",
       "        text-align: right;\n",
       "    }\n",
       "</style>\n",
       "<table border=\"1\" class=\"dataframe\">\n",
       "  <thead>\n",
       "    <tr style=\"text-align: right;\">\n",
       "      <th></th>\n",
       "      <th>Jdays</th>\n",
       "      <th>Qm3</th>\n",
       "      <th>Rain</th>\n",
       "      <th>Qsim</th>\n",
       "    </tr>\n",
       "  </thead>\n",
       "  <tbody>\n",
       "    <tr>\n",
       "      <th>100</th>\n",
       "      <td>281</td>\n",
       "      <td>64.483</td>\n",
       "      <td>0.000</td>\n",
       "      <td>139.407</td>\n",
       "    </tr>\n",
       "    <tr>\n",
       "      <th>101</th>\n",
       "      <td>282</td>\n",
       "      <td>58.464</td>\n",
       "      <td>0.000</td>\n",
       "      <td>139.323</td>\n",
       "    </tr>\n",
       "    <tr>\n",
       "      <th>102</th>\n",
       "      <td>283</td>\n",
       "      <td>56.186</td>\n",
       "      <td>0.000</td>\n",
       "      <td>139.263</td>\n",
       "    </tr>\n",
       "    <tr>\n",
       "      <th>103</th>\n",
       "      <td>284</td>\n",
       "      <td>54.981</td>\n",
       "      <td>0.000</td>\n",
       "      <td>139.204</td>\n",
       "    </tr>\n",
       "    <tr>\n",
       "      <th>104</th>\n",
       "      <td>285</td>\n",
       "      <td>53.592</td>\n",
       "      <td>6576.360</td>\n",
       "      <td>254.727</td>\n",
       "    </tr>\n",
       "    <tr>\n",
       "      <th>105</th>\n",
       "      <td>286</td>\n",
       "      <td>22.995</td>\n",
       "      <td>0.000</td>\n",
       "      <td>139.046</td>\n",
       "    </tr>\n",
       "    <tr>\n",
       "      <th>106</th>\n",
       "      <td>287</td>\n",
       "      <td>NaN</td>\n",
       "      <td>2630.540</td>\n",
       "      <td>139.971</td>\n",
       "    </tr>\n",
       "    <tr>\n",
       "      <th>107</th>\n",
       "      <td>288</td>\n",
       "      <td>NaN</td>\n",
       "      <td>0.000</td>\n",
       "      <td>138.887</td>\n",
       "    </tr>\n",
       "    <tr>\n",
       "      <th>108</th>\n",
       "      <td>289</td>\n",
       "      <td>NaN</td>\n",
       "      <td>93.948</td>\n",
       "      <td>138.785</td>\n",
       "    </tr>\n",
       "    <tr>\n",
       "      <th>109</th>\n",
       "      <td>290</td>\n",
       "      <td>NaN</td>\n",
       "      <td>0.000</td>\n",
       "      <td>138.681</td>\n",
       "    </tr>\n",
       "  </tbody>\n",
       "</table>\n",
       "</div>"
      ],
      "text/plain": [
       "     Jdays     Qm3      Rain     Qsim\n",
       "100    281  64.483     0.000  139.407\n",
       "101    282  58.464     0.000  139.323\n",
       "102    283  56.186     0.000  139.263\n",
       "103    284  54.981     0.000  139.204\n",
       "104    285  53.592  6576.360  254.727\n",
       "105    286  22.995     0.000  139.046\n",
       "106    287     NaN  2630.540  139.971\n",
       "107    288     NaN     0.000  138.887\n",
       "108    289     NaN    93.948  138.785\n",
       "109    290     NaN     0.000  138.681"
      ]
     },
     "execution_count": 7,
     "metadata": {},
     "output_type": "execute_result"
    }
   ],
   "source": [
    "so.tail(10)"
   ]
  },
  {
   "cell_type": "code",
   "execution_count": 8,
   "metadata": {},
   "outputs": [],
   "source": [
    "x = so.Jdays.tolist()\n",
    "# rest_obs = rain.div(qObs, fill_value=1)\n",
    "rest_obs = (so.Rain/so.Qm3).tolist()\n",
    "rest_sim = (so.Rain/so.Qsim).tolist()"
   ]
  },
  {
   "cell_type": "code",
   "execution_count": 9,
   "metadata": {},
   "outputs": [],
   "source": [
    "traceObs = go.Scatter(\n",
    "    x = x,\n",
    "    y = rest_obs,\n",
    "    mode = 'lines',\n",
    "    name = 'Restitution',\n",
    "    marker=dict(\n",
    "        color= 'green')\n",
    ")\n",
    "\n",
    "traceSim = go.Scatter(\n",
    "    x = x,\n",
    "    y = rest_sim,\n",
    "    mode = 'lines',\n",
    "    name = 'Restitution Sim.',\n",
    "    marker=dict(\n",
    "        color= 'blue')\n",
    ")"
   ]
  },
  {
   "cell_type": "code",
   "execution_count": 10,
   "metadata": {},
   "outputs": [],
   "source": [
    "data = [traceObs, traceSim]\n",
    "figname = \"Restitution.png\"\n",
    "\n",
    "%matplotlib inline\n",
    "import plotlycred\n",
    "\n",
    "online = True\n",
    "if online:\n",
    "    # fig = py.iplot(data) \n",
    "    fig = go.Figure(data=data) # , layout=layout)\n",
    "    py.image.save_as(fig, filename=figname)\n",
    "else:\n",
    "    iplot(data)\n"
   ]
  },
  {
   "cell_type": "markdown",
   "metadata": {},
   "source": [
    "### Restitution\n",
    "https://plot.ly/~DayTimeChunks/7/ \n"
   ]
  },
  {
   "cell_type": "code",
   "execution_count": 11,
   "metadata": {},
   "outputs": [
    {
     "data": {
      "image/png": "[encoded data removed]",
      "text/plain": [
       "<IPython.core.display.Image object>"
      ]
     },
     "metadata": {},
     "output_type": "display_data"
    }
   ],
   "source": [
    "from IPython.display import Image\n",
    "if online:\n",
    "    i = Image(figname)\n",
    "    display(i)"
   ]
  }
 ],
 "metadata": {
  "anaconda-cloud": {},
  "kernelspec": {
   "display_name": "Python 2",
   "language": "python",
   "name": "python2"
  },
  "language_info": {
   "codemirror_mode": {
    "name": "ipython",
    "version": 2
   },
   "file_extension": ".py",
   "mimetype": "text/x-python",
   "name": "python",
   "nbconvert_exporter": "python",
   "pygments_lexer": "ipython2",
   "version": "2.7.14"
  }
 },
 "nbformat": 4,
 "nbformat_minor": 1
}
