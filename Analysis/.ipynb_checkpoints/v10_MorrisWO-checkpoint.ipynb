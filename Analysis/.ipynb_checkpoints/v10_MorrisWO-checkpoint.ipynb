{
 "cells": [
  {
   "cell_type": "code",
   "execution_count": 1,
   "metadata": {},
   "outputs": [
    {
     "name": "stdout",
     "output_type": "stream",
     "text": [
      "2016\n",
      "/Users/DayTightChunks/Documents/PhD/Models/phd-model-master/Analysis\n"
     ]
    }
   ],
   "source": [
    "import datetime\n",
    "import os\n",
    "\n",
    "import plotly.plotly as py\n",
    "from plotly.offline import download_plotlyjs, init_notebook_mode, plot, iplot\n",
    "from plotly.graph_objs import *\n",
    "import plotly.graph_objs as go\n",
    "\n",
    "import numpy as np\n",
    "\n",
    "from obs_data import *\n",
    "\n",
    "print(os.getcwd())"
   ]
  },
  {
   "cell_type": "code",
   "execution_count": 2,
   "metadata": {},
   "outputs": [
    {
     "data": {
      "text/html": [
       "<script>requirejs.config({paths: { 'plotly': ['https://cdn.plot.ly/plotly-latest.min']},});if(!window.Plotly) {{require(['plotly'],function(plotly) {window.Plotly=plotly;});}}</script>"
      ],
      "text/vnd.plotly.v1+html": [
       "<script>requirejs.config({paths: { 'plotly': ['https://cdn.plot.ly/plotly-latest.min']},});if(!window.Plotly) {{require(['plotly'],function(plotly) {window.Plotly=plotly;});}}</script>"
      ]
     },
     "metadata": {},
     "output_type": "display_data"
    }
   ],
   "source": [
    "init_notebook_mode(connected=True)"
   ]
  },
  {
   "cell_type": "code",
   "execution_count": 3,
   "metadata": {},
   "outputs": [
    {
     "name": "stdout",
     "output_type": "stream",
     "text": [
      "v10mo/\n"
     ]
    }
   ],
   "source": [
    "# Model version and mc-run number:\n",
    "version = \"v10mo\"\n",
    "\n",
    "# Working computer\n",
    "PC = False\n",
    "if PC:\n",
    "    back = \"\\\\\"  \n",
    "    sim_path = version + back  \n",
    "else:\n",
    "    back = \"/\"\n",
    "    sim_path = version + back\n",
    "    \n",
    "print(sim_path)"
   ]
  },
  {
   "cell_type": "code",
   "execution_count": null,
   "metadata": {},
   "outputs": [],
   "source": []
  },
  {
   "cell_type": "markdown",
   "metadata": {},
   "source": [
    "## Observed"
   ]
  },
  {
   "cell_type": "markdown",
   "metadata": {},
   "source": [
    "### Detailed"
   ]
  },
  {
   "cell_type": "code",
   "execution_count": 5,
   "metadata": {},
   "outputs": [],
   "source": [
    "detailed = [\"n1\", \"n2\", \"n3\", \"n4\", \"n5\", \"n7\", \"n8\"]\n",
    "pallete = [\"#F44336\", '#673AB7', '#3F51B5', '#009688', '#FF9800', '#4CAF50', '#03A9F4']\n",
    "# red, purple, indigo, teal-green, orange, green, light-blue\n",
    "\n",
    "obs_list = []\n",
    "for i in range(len(detailed)):\n",
    "    name = detailed[i] + \".tss\"\n",
    "    o = getDetailed(name)\n",
    "    o = o[det_name].tolist()\n",
    "    obs_list.append(o)"
   ]
  },
  {
   "cell_type": "markdown",
   "metadata": {},
   "source": [
    "## Simulated"
   ]
  },
  {
   "cell_type": "code",
   "execution_count": 6,
   "metadata": {},
   "outputs": [
    {
     "name": "stdout",
     "output_type": "stream",
     "text": [
      "v10mo/\n"
     ]
    }
   ],
   "source": [
    "# Model version and mc-run number:\n",
    "version = \"v10mo\"\n",
    "folder = \"1\"\n",
    "\n",
    "# Working computer\n",
    "PC = False\n",
    "if PC:\n",
    "    back = \"\\\\\"  \n",
    "    sim_path = version + back  \n",
    "else:\n",
    "    back = \"/\"\n",
    "    sim_path = version + back\n",
    "    \n",
    "print(sim_path)"
   ]
  },
  {
   "cell_type": "code",
   "execution_count": 16,
   "metadata": {},
   "outputs": [
    {
     "data": {
      "text/plain": [
       "array([0.61      , 0.58966667, 0.4       , 0.36      , 0.09      ,\n",
       "       1.        , 0.334     , 0.668284  , 0.004852  , 0.001     ,\n",
       "       0.667     , 0.001     , 1.        ])"
      ]
     },
     "execution_count": 16,
     "metadata": {},
     "output_type": "execute_result"
    }
   ],
   "source": [
    "input_matrix = np.loadtxt(sim_path + \"input_vectors.txt\", float) \n",
    "input_matrix[0]"
   ]
  }
 ],
 "metadata": {
  "kernelspec": {
   "display_name": "Python 2",
   "language": "python",
   "name": "python2"
  },
  "language_info": {
   "codemirror_mode": {
    "name": "ipython",
    "version": 2
   },
   "file_extension": ".py",
   "mimetype": "text/x-python",
   "name": "python",
   "nbconvert_exporter": "python",
   "pygments_lexer": "ipython2",
   "version": "2.7.14"
  }
 },
 "nbformat": 4,
 "nbformat_minor": 2
}
