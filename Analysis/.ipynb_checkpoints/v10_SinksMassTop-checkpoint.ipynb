{
 "cells": [
  {
   "cell_type": "markdown",
   "metadata": {},
   "source": [
    "## Pesticide Mass\n",
    "\n",
    "\n",
    "### Mass sink (z = 0)\n",
    "\n",
    "- Degradation\n",
    "- Volatilization\n",
    "- Leaching\n",
    "- Runoff\n",
    "- Artificial Drainage "
   ]
  },
  {
   "cell_type": "code",
   "execution_count": 1,
   "metadata": {},
   "outputs": [
    {
     "data": {
      "text/html": [
       "<script>requirejs.config({paths: { 'plotly': ['https://cdn.plot.ly/plotly-latest.min']},});if(!window.Plotly) {{require(['plotly'],function(plotly) {window.Plotly=plotly;});}}</script>"
      ],
      "text/vnd.plotly.v1+html": [
       "<script>requirejs.config({paths: { 'plotly': ['https://cdn.plot.ly/plotly-latest.min']},});if(!window.Plotly) {{require(['plotly'],function(plotly) {window.Plotly=plotly;});}}</script>"
      ]
     },
     "metadata": {},
     "output_type": "display_data"
    },
    {
     "name": "stdout",
     "output_type": "stream",
     "text": [
      "/Users/DayTightChunks/Documents/PhD/Models/.nosync/pesti-beach16/Analysis\n"
     ]
    }
   ],
   "source": [
    "import datetime\n",
    "import os\n",
    "\n",
    "import plotly.plotly as py\n",
    "from plotly.offline import download_plotlyjs, init_notebook_mode, plot, iplot\n",
    "from plotly.graph_objs import *\n",
    "import plotly.graph_objs as go\n",
    "init_notebook_mode(connected=True)\n",
    "\n",
    "import numpy as np\n",
    "\n",
    "from obs_data import *\n",
    "\n",
    "print(os.getcwd())"
   ]
  },
  {
   "cell_type": "code",
   "execution_count": null,
   "metadata": {},
   "outputs": [],
   "source": [
    "PC = False\n",
    "version = \"v10\"\n",
    "folder = \"1\""
   ]
  },
  {
   "cell_type": "code",
   "execution_count": null,
   "metadata": {},
   "outputs": [],
   "source": [
    "if PC:\n",
    "    back = \"\\\\\"  \n",
    "    sim_path = version + back  \n",
    "else:\n",
    "    back = \"/\"\n",
    "    sim_path = version + back\n",
    "    \n",
    "print(sim_path)"
   ]
  },
  {
   "cell_type": "code",
   "execution_count": null,
   "metadata": {},
   "outputs": [],
   "source": [
    "components = [\"APP\", \"VOL\", \"RO\"]  # To add LCH and DEG\n",
    "outlet_cont = [\"BF\", \"ADR\", \"RO\"] # To add \"Cell outlet LF\" \n",
    "pallete = [\"#F44336\", '#673AB7', '#3F51B5', '#009688', '#FF9800', '#4CAF50', '#03A9F4']\n",
    "# red, purple, indigo, teal-green, orange, green, light-blue"
   ]
  },
  {
   "cell_type": "code",
   "execution_count": null,
   "metadata": {},
   "outputs": [],
   "source": [
    "\n",
    "# sim\n",
    "col = \"sim\"\n",
    "name_tss = \"n_accVol_m3\"\n",
    "filename = \"resN_\" + name_tss + \".tss\"\n",
    "\n",
    "q_sim_m3 = pd.read_table(sim_path + folder + back + filename, \n",
    "                            skiprows=4, delim_whitespace=True,\n",
    "                            names=['Jdays', col],\n",
    "                            header=None)"
   ]
  },
  {
   "cell_type": "code",
   "execution_count": null,
   "metadata": {},
   "outputs": [],
   "source": [
    "resM_accADR_L.tss\n",
    "resM_accAPP_L.tss\n",
    "resM_accBF_L.tss\n",
    "resM_accCHS_L.tss\n",
    "resM_accDP_L.tss\n",
    "resM_accLF_L.tss\n",
    "resM_accRO_L.tss\n",
    "resM_accVOL_L.tss"
   ]
  }
 ],
 "metadata": {
  "kernelspec": {
   "display_name": "bunny",
   "language": "python",
   "name": "bunny"
  },
  "language_info": {
   "codemirror_mode": {
    "name": "ipython",
    "version": 2
   },
   "file_extension": ".py",
   "mimetype": "text/x-python",
   "name": "python",
   "nbconvert_exporter": "python",
   "pygments_lexer": "ipython2",
   "version": "2.7.14"
  }
 },
 "nbformat": 4,
 "nbformat_minor": 2
}
