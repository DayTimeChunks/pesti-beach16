{
 "cells": [
  {
   "cell_type": "markdown",
   "metadata": {},
   "source": [
    "## Outlet Concentration "
   ]
  },
  {
   "cell_type": "code",
   "execution_count": 1,
   "metadata": {},
   "outputs": [
    {
     "data": {
      "text/html": [
       "<script>requirejs.config({paths: { 'plotly': ['https://cdn.plot.ly/plotly-latest.min']},});if(!window.Plotly) {{require(['plotly'],function(plotly) {window.Plotly=plotly;});}}</script>"
      ],
      "text/vnd.plotly.v1+html": [
       "<script>requirejs.config({paths: { 'plotly': ['https://cdn.plot.ly/plotly-latest.min']},});if(!window.Plotly) {{require(['plotly'],function(plotly) {window.Plotly=plotly;});}}</script>"
      ]
     },
     "metadata": {},
     "output_type": "display_data"
    },
    {
     "name": "stdout",
     "output_type": "stream",
     "text": [
      "2016\n",
      "/Users/DayTightChunks/Documents/PhD/Models/phd-model-master/Analysis\n"
     ]
    }
   ],
   "source": [
    "import datetime\n",
    "import os\n",
    "\n",
    "import plotly.plotly as py\n",
    "from plotly.offline import download_plotlyjs, init_notebook_mode, plot, iplot\n",
    "from plotly.graph_objs import *\n",
    "import plotly.graph_objs as go\n",
    "init_notebook_mode(connected=True)\n",
    "\n",
    "import numpy as np\n",
    "\n",
    "from obs_data import *\n",
    "\n",
    "print(os.getcwd())"
   ]
  },
  {
   "cell_type": "code",
   "execution_count": 2,
   "metadata": {},
   "outputs": [],
   "source": [
    "PC = False\n",
    "analysis = True\n",
    "short_sim = True\n",
    "version = \"model_v12\"\n",
    "folder = \"1\"\n",
    "\n",
    "timestamp = 'julian'"
   ]
  },
  {
   "cell_type": "code",
   "execution_count": 3,
   "metadata": {},
   "outputs": [
    {
     "name": "stdout",
     "output_type": "stream",
     "text": [
      "model_v12/\n"
     ]
    }
   ],
   "source": [
    "if analysis:\n",
    "    dot = ''\n",
    "else:\n",
    "    dot = '..\\\\'\n",
    "    \n",
    "if PC:\n",
    "    back = \"\\\\\"  \n",
    "    sim_path = dot + version + back  \n",
    "else:\n",
    "    back = \"/\"\n",
    "    sim_path = version + back\n",
    "    \n",
    "print(sim_path)"
   ]
  },
  {
   "cell_type": "markdown",
   "metadata": {},
   "source": [
    "## Observed"
   ]
  },
  {
   "cell_type": "code",
   "execution_count": 4,
   "metadata": {},
   "outputs": [],
   "source": [
    "obs = getOutletData(\"Conc_ugL\", 'ugL', tss=True)\n",
    "delta_obs = getOutletData(\"Delta_out\", 'd13C', tss=True)\n",
    "\n",
    "# Convert to NaN (if: 1e+09)\n",
    "obs.loc[obs.ugL < 0,'ugL'] = np.nan\n",
    "delta_obs.loc[delta_obs.d13C > 0,'d13C'] = np.nan"
   ]
  },
  {
   "cell_type": "code",
   "execution_count": 5,
   "metadata": {},
   "outputs": [],
   "source": [
    "if short_sim:\n",
    "    s_obs = 166 - 1\n",
    "    e_obs = 300\n",
    "else:\n",
    "    # Julian days\n",
    "    s_obs = 0\n",
    "    e_obs = 300\n",
    "\n",
    "# Calendar days\n",
    "if timestamp == 'julian':\n",
    "    # Julian days\n",
    "    x = obs.Jdays.tolist()[s_obs:e_obs]\n",
    "else:\n",
    "    # Calendar days\n",
    "    dates = getTime(sep=\";\")\n",
    "    x = dates.Date.tolist()[s_obs:e_obs]\n",
    "    # dates = getTime(sep=\";\")\n",
    "    # x = dates.Date.tolist()[s:e]"
   ]
  },
  {
   "cell_type": "code",
   "execution_count": 6,
   "metadata": {},
   "outputs": [],
   "source": [
    "# Observed 'Conc (mu/L)'\n",
    "# conc_obs[s_obs:(s_obs+20)]\n",
    "qObs = obs.ugL.tolist()[s_obs:e_obs]\n",
    "\n",
    "trace = go.Scatter(\n",
    "        x = x,\n",
    "        y = qObs,\n",
    "        mode = 'lines',\n",
    "        name = r'$Conc.~(\\mu g/L)$',\n",
    "        line = dict(\n",
    "            color = 'green',\n",
    "            width = 3,\n",
    "            dash = 'dash')\n",
    ")"
   ]
  },
  {
   "cell_type": "markdown",
   "metadata": {},
   "source": [
    "## Simulated"
   ]
  },
  {
   "cell_type": "code",
   "execution_count": 7,
   "metadata": {},
   "outputs": [],
   "source": [
    "tss = [\"oCONC_ugL\"]  # Concentration ug/L\n",
    "    \n",
    "names = [r'$Conc. Sim.~(\\mu g/L)$']\n",
    "palette = ['blue', 'purple', 'rgb(178,223,138)', '#F44336', '#3F51B5']\n",
    "\n",
    "col = \"sim\"\n",
    "data = []\n",
    "data.append(trace)  # Append observed \n",
    "for i in range(len(tss)):  # Append simulated components\n",
    "    filename = \"resM_\" + tss[i] + \".tss\"\n",
    "    sim_pd = pd.read_table(sim_path + folder + back + filename, \n",
    "                            skiprows=4, delim_whitespace=True,\n",
    "                            names=['Jdays', col],\n",
    "                            header=None)\n",
    "    \n",
    "    sim = sim_pd.sim.tolist()\n",
    "    trace = go.Scatter(\n",
    "        x = x,\n",
    "        y = sim,\n",
    "        mode = 'lines',\n",
    "        name = names[i],\n",
    "        line = dict(\n",
    "            color = palette[i],\n",
    "            width = 3,\n",
    "            dash = 'dot')\n",
    "    )\n",
    "    data.append(trace)\n",
    "\n",
    "\n",
    "layout = go.Layout(\n",
    "    title='Outlet',\n",
    "    xaxis=dict(\n",
    "        title='',\n",
    "        titlefont=dict(\n",
    "            family='Courier New, monospace',\n",
    "            size=18,\n",
    "            color='#7f7f7f'\n",
    "        )\n",
    "    ),\n",
    "    yaxis=dict(\n",
    "        title=r'$Conc~(\\mu g/L)$',\n",
    "        titlefont=dict(\n",
    "            family='Courier New, monospace',\n",
    "            size=18,\n",
    "            color='#7f7f7f'\n",
    "        )\n",
    "    )\n",
    ")"
   ]
  },
  {
   "cell_type": "code",
   "execution_count": 8,
   "metadata": {},
   "outputs": [],
   "source": [
    "figname = \"ConcOutlet.png\"\n",
    "\n",
    "%matplotlib inline\n",
    "import plotlycred\n",
    "\n",
    "newtab = True\n",
    "online = False\n",
    "if online:\n",
    "    #fig = py.iplot(data) \n",
    "    fig = go.Figure(data=data, layout=layout)\n",
    "    py.image.save_as(fig, filename=figname)\n",
    "    # py.plot(fig, filename=figname) # Opens in web\n",
    "else:\n",
    "    fig = go.Figure(data=data, layout=layout)\n",
    "    if newtab:\n",
    "        plot(fig)\n",
    "    else:\n",
    "        iplot(fig)"
   ]
  },
  {
   "cell_type": "markdown",
   "metadata": {},
   "source": [
    "### Q Components $(m^3/d)$\n",
    "\n",
    "Follow this link to interact with the data:\n",
    "\n",
    "https://plot.ly/~DayTimeChunks/15/\n"
   ]
  },
  {
   "cell_type": "code",
   "execution_count": 11,
   "metadata": {},
   "outputs": [
    {
     "data": {
      "image/png": "[encoded data removed]",
      "text/plain": [
       "<IPython.core.display.Image object>"
      ]
     },
     "metadata": {},
     "output_type": "display_data"
    }
   ],
   "source": [
    "from IPython.display import Image\n",
    "if online:\n",
    "    i = Image(figname)\n",
    "    display(i)"
   ]
  },
  {
   "cell_type": "markdown",
   "metadata": {},
   "source": [
    "## Nash"
   ]
  },
  {
   "cell_type": "code",
   "execution_count": null,
   "metadata": {},
   "outputs": [],
   "source": [
    "start = 1\n",
    "n_tests = 1\n",
    "for i in range(start, n_tests+1):\n",
    "    folder = str(i)\n",
    "    col = 'Nash.c' + str(i)\n",
    "    nash = pd.read_table(sim_path + folder + back + \"resNash_q_m3.tss\", skiprows=4, delim_whitespace=True,\n",
    "                         names=['Jdays', col],\n",
    "                         header=None)\n",
    "    if i == 1:\n",
    "        nash_all = nash\n",
    "    else:\n",
    "        nash_all = nash_all.merge(nash, left_on='Jdays', right_on='Jdays', how='outer')\n",
    "\n",
    "if short_sim:\n",
    "    ndata = nash_all[11:] # [10:] (v1)\n",
    "else:\n",
    "     ndata = nash_all[176:] "
   ]
  },
  {
   "cell_type": "code",
   "execution_count": null,
   "metadata": {},
   "outputs": [],
   "source": [
    "ndata.head()"
   ]
  },
  {
   "cell_type": "code",
   "execution_count": null,
   "metadata": {},
   "outputs": [],
   "source": [
    "nash = ndata['Nash.c1'].tolist()\n",
    "x = ndata['Jdays'].tolist()"
   ]
  },
  {
   "cell_type": "code",
   "execution_count": null,
   "metadata": {},
   "outputs": [],
   "source": [
    "traceN = go.Scatter(\n",
    "    x = x,\n",
    "    y = nash,\n",
    "    mode = 'lines',\n",
    "    name = 'Nash.',\n",
    "    line = dict(\n",
    "        color = '#F44336',\n",
    "        width = 3,\n",
    "        dash = 'dot')\n",
    ")\n",
    "n = [traceN]\n",
    "nfigname = \"Nash.png\"\n",
    "\n",
    "%matplotlib inline\n",
    "import plotlycred\n",
    "\n",
    "online = False\n",
    "if online:\n",
    "    # fig = py.iplot(data) \n",
    "    fig = go.Figure(data=n)#, layout=layout)\n",
    "    py.image.save_as(fig, filename=nfigname)\n",
    "    # py.plot(fig, filename=figname) # Opens in web\n",
    "else:\n",
    "    fig = go.Figure(data=n)#, layout=layout)\n",
    "    iplot(fig)"
   ]
  },
  {
   "cell_type": "code",
   "execution_count": null,
   "metadata": {},
   "outputs": [],
   "source": []
  }
 ],
 "metadata": {
  "anaconda-cloud": {},
  "kernelspec": {
   "display_name": "Python 2",
   "language": "python",
   "name": "python2"
  },
  "language_info": {
   "codemirror_mode": {
    "name": "ipython",
    "version": 2
   },
   "file_extension": ".py",
   "mimetype": "text/x-python",
   "name": "python",
   "nbconvert_exporter": "python",
   "pygments_lexer": "ipython2",
   "version": "2.7.14"
  }
 },
 "nbformat": 4,
 "nbformat_minor": 1
}
