{
 "cells": [
  {
   "cell_type": "code",
   "execution_count": 1,
   "metadata": {
    "collapsed": false
   },
   "outputs": [
    {
     "name": "stdout",
     "output_type": "stream",
     "text": [
      "D:\\Documents\\these_pablo\\Models\\BEACH2016\\Analysis\n"
     ]
    }
   ],
   "source": [
    "import datetime\n",
    "import os\n",
    "\n",
    "from obs_data import * \n",
    "from plotFunctions import *\n",
    "import mpld3\n",
    "mpld3.enable_notebook()\n",
    "\n",
    "import seaborn as sns\n",
    "sns.set_context(rc={'lines.markeredgewidth': 0.1})\n",
    "sns.set(style=\"whitegrid\")\n",
    "\n",
    "# Plot graphs within this document\n",
    "%matplotlib inline\n",
    "\n",
    "print(os.getcwd())\n",
    "\n",
    "PC = True"
   ]
  },
  {
   "cell_type": "markdown",
   "metadata": {},
   "source": [
    "### Model version to inspect"
   ]
  },
  {
   "cell_type": "markdown",
   "metadata": {},
   "source": [
    "Implements (v6_old):\n",
    "- Increase Ksat(x5); Group A \n",
    "- Increase drain_coef; 0.8 -> 0.9\n",
    "- Decrease c1 and c2; 0.25 -> 0.1 \n",
    "- Stop z2 percolation >= 180 days\n",
    "\n",
    "Results:\n",
    "Nash were worst, but Q begins to show increasing recharge towards the end of the season."
   ]
  },
  {
   "cell_type": "code",
   "execution_count": 2,
   "metadata": {
    "collapsed": true
   },
   "outputs": [],
   "source": [
    "version = \"v6_old\""
   ]
  },
  {
   "cell_type": "code",
   "execution_count": 3,
   "metadata": {
    "collapsed": false
   },
   "outputs": [
    {
     "name": "stdout",
     "output_type": "stream",
     "text": [
      "('Data/qmBlk_R.csv', 'v6\\\\')\n"
     ]
    }
   ],
   "source": [
    "if PC:\n",
    "    back = \"\\\\\"  \n",
    "    sim_path = version + back  \n",
    "else:\n",
    "    back = \"/\"\n",
    "    sim_path = version + back\n",
    "    \n",
    "print(path, sim_path)"
   ]
  },
  {
   "cell_type": "markdown",
   "metadata": {},
   "source": [
    "### Nash comparisons"
   ]
  },
  {
   "cell_type": "code",
   "execution_count": 4,
   "metadata": {
    "collapsed": true
   },
   "outputs": [],
   "source": [
    "start = 1\n",
    "n_tests = 11\n",
    "for i in range(start, n_tests+1):\n",
    "    folder = str(i)\n",
    "    col = 'Nash.c' + str(i)\n",
    "    nash = pd.read_table(sim_path + folder + back + \"res_nash_q_m3.tss\", skiprows=4, delim_whitespace=True,\n",
    "                         names=['Jdays', col],\n",
    "                         header=None)\n",
    "    if i == 1:\n",
    "        nash_all = nash\n",
    "    else:\n",
    "        nash_all = nash_all.merge(nash, left_on='Jdays', right_on='Jdays', how='outer')\n",
    "\n",
    "data = nash_all[200:]"
   ]
  },
  {
   "cell_type": "code",
   "execution_count": 5,
   "metadata": {
    "collapsed": false
   },
   "outputs": [
    {
     "data": {
      "text/html": [
       "<div>\n",
       "<table border=\"1\" class=\"dataframe\">\n",
       "  <thead>\n",
       "    <tr style=\"text-align: right;\">\n",
       "      <th></th>\n",
       "      <th>Jdays</th>\n",
       "      <th>Nash.c1</th>\n",
       "      <th>Nash.c2</th>\n",
       "      <th>Nash.c3</th>\n",
       "      <th>Nash.c4</th>\n",
       "      <th>Nash.c5</th>\n",
       "      <th>Nash.c6</th>\n",
       "      <th>Nash.c7</th>\n",
       "      <th>Nash.c8</th>\n",
       "      <th>Nash.c9</th>\n",
       "      <th>Nash.c10</th>\n",
       "      <th>Nash.c11</th>\n",
       "    </tr>\n",
       "  </thead>\n",
       "  <tbody>\n",
       "    <tr>\n",
       "      <th>200</th>\n",
       "      <td>201</td>\n",
       "      <td>-0.085277</td>\n",
       "      <td>-0.193426</td>\n",
       "      <td>0.143965</td>\n",
       "      <td>-0.112874</td>\n",
       "      <td>-0.058236</td>\n",
       "      <td>-0.084169</td>\n",
       "      <td>-0.086387</td>\n",
       "      <td>-0.199729</td>\n",
       "      <td>0.207380</td>\n",
       "      <td>-0.105329</td>\n",
       "      <td>-0.063677</td>\n",
       "    </tr>\n",
       "    <tr>\n",
       "      <th>201</th>\n",
       "      <td>202</td>\n",
       "      <td>-0.115384</td>\n",
       "      <td>-0.221758</td>\n",
       "      <td>0.116742</td>\n",
       "      <td>-0.143001</td>\n",
       "      <td>-0.088325</td>\n",
       "      <td>-0.113891</td>\n",
       "      <td>-0.116893</td>\n",
       "      <td>-0.229788</td>\n",
       "      <td>0.177268</td>\n",
       "      <td>-0.135287</td>\n",
       "      <td>-0.093933</td>\n",
       "    </tr>\n",
       "    <tr>\n",
       "      <th>202</th>\n",
       "      <td>203</td>\n",
       "      <td>-0.127375</td>\n",
       "      <td>-0.232397</td>\n",
       "      <td>0.103957</td>\n",
       "      <td>-0.154949</td>\n",
       "      <td>-0.100357</td>\n",
       "      <td>-0.125641</td>\n",
       "      <td>-0.129140</td>\n",
       "      <td>-0.241647</td>\n",
       "      <td>0.164891</td>\n",
       "      <td>-0.147139</td>\n",
       "      <td>-0.106066</td>\n",
       "    </tr>\n",
       "    <tr>\n",
       "      <th>203</th>\n",
       "      <td>204</td>\n",
       "      <td>-0.133117</td>\n",
       "      <td>-0.236809</td>\n",
       "      <td>0.097064</td>\n",
       "      <td>-0.160596</td>\n",
       "      <td>-0.106193</td>\n",
       "      <td>-0.131196</td>\n",
       "      <td>-0.135085</td>\n",
       "      <td>-0.247035</td>\n",
       "      <td>0.158198</td>\n",
       "      <td>-0.152725</td>\n",
       "      <td>-0.111970</td>\n",
       "    </tr>\n",
       "    <tr>\n",
       "      <th>204</th>\n",
       "      <td>205</td>\n",
       "      <td>-0.140937</td>\n",
       "      <td>-0.243335</td>\n",
       "      <td>0.088249</td>\n",
       "      <td>-0.168341</td>\n",
       "      <td>-0.114087</td>\n",
       "      <td>-0.138827</td>\n",
       "      <td>-0.143115</td>\n",
       "      <td>-0.254585</td>\n",
       "      <td>0.149644</td>\n",
       "      <td>-0.160400</td>\n",
       "      <td>-0.119941</td>\n",
       "    </tr>\n",
       "  </tbody>\n",
       "</table>\n",
       "</div>"
      ],
      "text/plain": [
       "     Jdays   Nash.c1   Nash.c2   Nash.c3   Nash.c4   Nash.c5   Nash.c6  \\\n",
       "200    201 -0.085277 -0.193426  0.143965 -0.112874 -0.058236 -0.084169   \n",
       "201    202 -0.115384 -0.221758  0.116742 -0.143001 -0.088325 -0.113891   \n",
       "202    203 -0.127375 -0.232397  0.103957 -0.154949 -0.100357 -0.125641   \n",
       "203    204 -0.133117 -0.236809  0.097064 -0.160596 -0.106193 -0.131196   \n",
       "204    205 -0.140937 -0.243335  0.088249 -0.168341 -0.114087 -0.138827   \n",
       "\n",
       "      Nash.c7   Nash.c8   Nash.c9  Nash.c10  Nash.c11  \n",
       "200 -0.086387 -0.199729  0.207380 -0.105329 -0.063677  \n",
       "201 -0.116893 -0.229788  0.177268 -0.135287 -0.093933  \n",
       "202 -0.129140 -0.241647  0.164891 -0.147139 -0.106066  \n",
       "203 -0.135085 -0.247035  0.158198 -0.152725 -0.111970  \n",
       "204 -0.143115 -0.254585  0.149644 -0.160400 -0.119941  "
      ]
     },
     "execution_count": 5,
     "metadata": {},
     "output_type": "execute_result"
    }
   ],
   "source": [
    "data.head()"
   ]
  },
  {
   "cell_type": "markdown",
   "metadata": {},
   "source": [
    "### Nash models 1 - 5"
   ]
  },
  {
   "cell_type": "code",
   "execution_count": 6,
   "metadata": {
    "collapsed": false
   },
   "outputs": [
    {
     "data": {
      "image/png": "[encoded data removed]",
      "text/plain": [
       "<matplotlib.figure.Figure at 0x2680278>"
      ]
     },
     "metadata": {},
     "output_type": "display_data"
    }
   ],
   "source": [
    "start = 1\n",
    "n_tests = 6\n",
    "\n",
    "fig, ax1 = plt.subplots()\n",
    "time = data.iloc[:, 0]\n",
    "legend = []\n",
    "\n",
    "for i in range(start, n_tests):\n",
    "    l = \"N\" + str(i)\n",
    "    legend.append(l)\n",
    "for i in range(1, n_tests):\n",
    "    ax1.plot(time, data.iloc[:, i], label=legend[i-start])\n",
    "ylabel = 'Nash'\n",
    "ax1.set_xlabel('Time (days)')\n",
    "ax1.set_ylabel(ylabel)\n",
    "plt.legend(loc='upper right', bbox_to_anchor=(1., 1), ncol=4, shadow=True, fancybox=True)\n",
    "plt.show()"
   ]
  },
  {
   "cell_type": "markdown",
   "metadata": {},
   "source": [
    "### Nash models 6 - 11\n",
    "(if considered)"
   ]
  },
  {
   "cell_type": "code",
   "execution_count": 7,
   "metadata": {
    "collapsed": false
   },
   "outputs": [
    {
     "data": {
      "image/png": "[encoded data removed]",
      "text/plain": [
       "<matplotlib.figure.Figure at 0xb3c57f0>"
      ]
     },
     "metadata": {},
     "output_type": "display_data"
    }
   ],
   "source": [
    "start = 6\n",
    "n_tests = 11\n",
    "\n",
    "fig, ax1 = plt.subplots()\n",
    "time = data.iloc[:, 0]\n",
    "legend = []\n",
    "\n",
    "for i in range(start, n_tests+1):\n",
    "    l = \"N\" + str(i)\n",
    "    legend.append(l)\n",
    "for i in range(start, n_tests+1):\n",
    "    ax1.plot(time, data.iloc[:, i], label=legend[i-start])\n",
    "ylabel = 'Nash'\n",
    "ax1.set_xlabel('Time (days)')\n",
    "ax1.set_ylabel(ylabel)\n",
    "plt.legend(loc='upper right', bbox_to_anchor=(1., 1), ncol=4, shadow=True, fancybox=True)\n",
    "plt.show()"
   ]
  },
  {
   "cell_type": "markdown",
   "metadata": {},
   "source": [
    "## Plotting discharge \n",
    "\n",
    "\n",
    "**Observations = \"obs\"**\n",
    "\n",
    "**Simulation = \"Scenario 4, simQ\"**"
   ]
  },
  {
   "cell_type": "markdown",
   "metadata": {},
   "source": [
    "Base model:\n",
    "- c1 = 0.25\n",
    "- drain_coef = 0.8\n",
    "- z0 = 10 mm\n",
    "\n",
    "Best combinations:\n",
    "- Sc.4: c1 -= 0.15\n",
    "- Sc.2: drain_coef += 0.15\n",
    "- Sc.8: z0 x= 1.15\n",
    "- Sc.10: s1 += 0.15\n",
    "\n",
    "**Decreases** in lateral flow and **increases** in percolation potential improve nash coefficients. "
   ]
  },
  {
   "cell_type": "code",
   "execution_count": 8,
   "metadata": {
    "collapsed": false
   },
   "outputs": [
    {
     "data": {
      "text/html": [
       "<div>\n",
       "<table border=\"1\" class=\"dataframe\">\n",
       "  <thead>\n",
       "    <tr style=\"text-align: right;\">\n",
       "      <th></th>\n",
       "      <th>DayMoYr</th>\n",
       "      <th>Date</th>\n",
       "      <th>Jdays</th>\n",
       "      <th>VolTot.L</th>\n",
       "      <th>ConSmOut_ugL.blk</th>\n",
       "      <th>ConSmOut_ugL.sd</th>\n",
       "      <th>ConOxOut_ugL.blk</th>\n",
       "      <th>ConOxOut_ugL.sd</th>\n",
       "      <th>ConEsOut_ugL.blk</th>\n",
       "      <th>ConEsOut_ugL.sd</th>\n",
       "      <th>deltaOut.blk</th>\n",
       "      <th>deltaOut.sd</th>\n",
       "      <th>SubWeeks</th>\n",
       "    </tr>\n",
       "  </thead>\n",
       "  <tbody>\n",
       "    <tr>\n",
       "      <th>0</th>\n",
       "      <td>2015-10-01</td>\n",
       "      <td>01/10/2015</td>\n",
       "      <td>1</td>\n",
       "      <td>NaN</td>\n",
       "      <td>NaN</td>\n",
       "      <td>NaN</td>\n",
       "      <td>NaN</td>\n",
       "      <td>NaN</td>\n",
       "      <td>NaN</td>\n",
       "      <td>NaN</td>\n",
       "      <td>NaN</td>\n",
       "      <td>NaN</td>\n",
       "      <td>NaN</td>\n",
       "    </tr>\n",
       "    <tr>\n",
       "      <th>1</th>\n",
       "      <td>2015-10-02</td>\n",
       "      <td>02/10/2015</td>\n",
       "      <td>2</td>\n",
       "      <td>NaN</td>\n",
       "      <td>NaN</td>\n",
       "      <td>NaN</td>\n",
       "      <td>NaN</td>\n",
       "      <td>NaN</td>\n",
       "      <td>NaN</td>\n",
       "      <td>NaN</td>\n",
       "      <td>NaN</td>\n",
       "      <td>NaN</td>\n",
       "      <td>NaN</td>\n",
       "    </tr>\n",
       "    <tr>\n",
       "      <th>2</th>\n",
       "      <td>2015-10-03</td>\n",
       "      <td>03/10/2015</td>\n",
       "      <td>3</td>\n",
       "      <td>NaN</td>\n",
       "      <td>NaN</td>\n",
       "      <td>NaN</td>\n",
       "      <td>NaN</td>\n",
       "      <td>NaN</td>\n",
       "      <td>NaN</td>\n",
       "      <td>NaN</td>\n",
       "      <td>NaN</td>\n",
       "      <td>NaN</td>\n",
       "      <td>NaN</td>\n",
       "    </tr>\n",
       "    <tr>\n",
       "      <th>3</th>\n",
       "      <td>2015-10-04</td>\n",
       "      <td>04/10/2015</td>\n",
       "      <td>4</td>\n",
       "      <td>NaN</td>\n",
       "      <td>NaN</td>\n",
       "      <td>NaN</td>\n",
       "      <td>NaN</td>\n",
       "      <td>NaN</td>\n",
       "      <td>NaN</td>\n",
       "      <td>NaN</td>\n",
       "      <td>NaN</td>\n",
       "      <td>NaN</td>\n",
       "      <td>NaN</td>\n",
       "    </tr>\n",
       "    <tr>\n",
       "      <th>4</th>\n",
       "      <td>2015-10-05</td>\n",
       "      <td>05/10/2015</td>\n",
       "      <td>5</td>\n",
       "      <td>NaN</td>\n",
       "      <td>NaN</td>\n",
       "      <td>NaN</td>\n",
       "      <td>NaN</td>\n",
       "      <td>NaN</td>\n",
       "      <td>NaN</td>\n",
       "      <td>NaN</td>\n",
       "      <td>NaN</td>\n",
       "      <td>NaN</td>\n",
       "      <td>NaN</td>\n",
       "    </tr>\n",
       "  </tbody>\n",
       "</table>\n",
       "</div>"
      ],
      "text/plain": [
       "      DayMoYr        Date  Jdays  VolTot.L  ConSmOut_ugL.blk  ConSmOut_ugL.sd  \\\n",
       "0  2015-10-01  01/10/2015      1       NaN               NaN              NaN   \n",
       "1  2015-10-02  02/10/2015      2       NaN               NaN              NaN   \n",
       "2  2015-10-03  03/10/2015      3       NaN               NaN              NaN   \n",
       "3  2015-10-04  04/10/2015      4       NaN               NaN              NaN   \n",
       "4  2015-10-05  05/10/2015      5       NaN               NaN              NaN   \n",
       "\n",
       "   ConOxOut_ugL.blk  ConOxOut_ugL.sd  ConEsOut_ugL.blk  ConEsOut_ugL.sd  \\\n",
       "0               NaN              NaN               NaN              NaN   \n",
       "1               NaN              NaN               NaN              NaN   \n",
       "2               NaN              NaN               NaN              NaN   \n",
       "3               NaN              NaN               NaN              NaN   \n",
       "4               NaN              NaN               NaN              NaN   \n",
       "\n",
       "   deltaOut.blk  deltaOut.sd SubWeeks  \n",
       "0           NaN          NaN      NaN  \n",
       "1           NaN          NaN      NaN  \n",
       "2           NaN          NaN      NaN  \n",
       "3           NaN          NaN      NaN  \n",
       "4           NaN          NaN      NaN  "
      ]
     },
     "execution_count": 8,
     "metadata": {},
     "output_type": "execute_result"
    }
   ],
   "source": [
    "obs.head()"
   ]
  },
  {
   "cell_type": "code",
   "execution_count": 9,
   "metadata": {
    "collapsed": false
   },
   "outputs": [
    {
     "name": "stderr",
     "output_type": "stream",
     "text": [
      "C:\\Users\\pablo\\AppData\\Local\\Continuum\\Anaconda3\\envs\\Python27-PyCharm\\lib\\site-packages\\ipykernel_launcher.py:8: SettingWithCopyWarning: \n",
      "A value is trying to be set on a copy of a slice from a DataFrame.\n",
      "Try using .loc[row_indexer,col_indexer] = value instead\n",
      "\n",
      "See the caveats in the documentation: http://pandas.pydata.org/pandas-docs/stable/indexing.html#indexing-view-versus-copy\n",
      "  \n"
     ]
    }
   ],
   "source": [
    "\"\"\"\n",
    "Import simulated data \n",
    "Observations are already imported above.\n",
    "\"\"\"\n",
    "# Edit observations (select relevant columns)\n",
    "obs['DayMoYr'] = pd.to_datetime(obs['DayMoYr'])  # Convert to Date object\n",
    "obs = obs[['DayMoYr', 'Jdays', 'VolTot.L']]  # keep desired columns\n",
    "obs['Q_obs.m3'] = obs['VolTot.L'] * 1 / 10 ** 3\n",
    "\n",
    "# def liters_to_m3(row):\n",
    "#     val = row['VolTot.L'] * 1 / 10 ** 3\n",
    "#     return val\n",
    "\n",
    "# obs['Q_obs.m3'] = obs.apply(liters_to_m3, axis=1)\n",
    "\n",
    "# Simulated Start time\n",
    "yy = 2015\n",
    "mm = 10\n",
    "dd = 1\n",
    "dt = datetime.date(yy, mm, dd)\n",
    "\n",
    "folder = \"4\"\n",
    "# print(path)\n",
    "simQ = pd.read_table(sim_path + folder + back + \"res_accuVol_m3.tss\", skiprows=4, delim_whitespace=True, names=['dt', 'Q_sim.m3'],\n",
    "                         header=None)\n"
   ]
  },
  {
   "cell_type": "code",
   "execution_count": 10,
   "metadata": {
    "collapsed": false
   },
   "outputs": [
    {
     "data": {
      "text/html": [
       "<div>\n",
       "<table border=\"1\" class=\"dataframe\">\n",
       "  <thead>\n",
       "    <tr style=\"text-align: right;\">\n",
       "      <th></th>\n",
       "      <th>dt</th>\n",
       "      <th>Q_sim.m3</th>\n",
       "    </tr>\n",
       "  </thead>\n",
       "  <tbody>\n",
       "    <tr>\n",
       "      <th>160</th>\n",
       "      <td>161</td>\n",
       "      <td>1.490310</td>\n",
       "    </tr>\n",
       "    <tr>\n",
       "      <th>161</th>\n",
       "      <td>162</td>\n",
       "      <td>0.318949</td>\n",
       "    </tr>\n",
       "    <tr>\n",
       "      <th>162</th>\n",
       "      <td>163</td>\n",
       "      <td>0.167386</td>\n",
       "    </tr>\n",
       "    <tr>\n",
       "      <th>163</th>\n",
       "      <td>164</td>\n",
       "      <td>0.088161</td>\n",
       "    </tr>\n",
       "    <tr>\n",
       "      <th>164</th>\n",
       "      <td>165</td>\n",
       "      <td>0.046624</td>\n",
       "    </tr>\n",
       "  </tbody>\n",
       "</table>\n",
       "</div>"
      ],
      "text/plain": [
       "      dt  Q_sim.m3\n",
       "160  161  1.490310\n",
       "161  162  0.318949\n",
       "162  163  0.167386\n",
       "163  164  0.088161\n",
       "164  165  0.046624"
      ]
     },
     "execution_count": 10,
     "metadata": {},
     "output_type": "execute_result"
    }
   ],
   "source": [
    "simQ = simQ[160:300]\n",
    "simQ.head()"
   ]
  },
  {
   "cell_type": "code",
   "execution_count": 11,
   "metadata": {
    "collapsed": false
   },
   "outputs": [
    {
     "data": {
      "text/html": [
       "<div>\n",
       "<table border=\"1\" class=\"dataframe\">\n",
       "  <thead>\n",
       "    <tr style=\"text-align: right;\">\n",
       "      <th></th>\n",
       "      <th>DayMoYr</th>\n",
       "      <th>Jdays</th>\n",
       "      <th>VolTot.L</th>\n",
       "      <th>Q_obs.m3</th>\n",
       "    </tr>\n",
       "  </thead>\n",
       "  <tbody>\n",
       "    <tr>\n",
       "      <th>160</th>\n",
       "      <td>2016-03-09</td>\n",
       "      <td>161</td>\n",
       "      <td>NaN</td>\n",
       "      <td>NaN</td>\n",
       "    </tr>\n",
       "    <tr>\n",
       "      <th>161</th>\n",
       "      <td>2016-03-10</td>\n",
       "      <td>162</td>\n",
       "      <td>NaN</td>\n",
       "      <td>NaN</td>\n",
       "    </tr>\n",
       "    <tr>\n",
       "      <th>162</th>\n",
       "      <td>2016-03-11</td>\n",
       "      <td>163</td>\n",
       "      <td>NaN</td>\n",
       "      <td>NaN</td>\n",
       "    </tr>\n",
       "    <tr>\n",
       "      <th>163</th>\n",
       "      <td>2016-03-12</td>\n",
       "      <td>164</td>\n",
       "      <td>NaN</td>\n",
       "      <td>NaN</td>\n",
       "    </tr>\n",
       "    <tr>\n",
       "      <th>164</th>\n",
       "      <td>2016-03-13</td>\n",
       "      <td>165</td>\n",
       "      <td>NaN</td>\n",
       "      <td>NaN</td>\n",
       "    </tr>\n",
       "  </tbody>\n",
       "</table>\n",
       "</div>"
      ],
      "text/plain": [
       "       DayMoYr  Jdays  VolTot.L  Q_obs.m3\n",
       "160 2016-03-09    161       NaN       NaN\n",
       "161 2016-03-10    162       NaN       NaN\n",
       "162 2016-03-11    163       NaN       NaN\n",
       "163 2016-03-12    164       NaN       NaN\n",
       "164 2016-03-13    165       NaN       NaN"
      ]
     },
     "execution_count": 11,
     "metadata": {},
     "output_type": "execute_result"
    }
   ],
   "source": [
    "obs = obs[160:300]\n",
    "obs.head()"
   ]
  },
  {
   "cell_type": "code",
   "execution_count": 12,
   "metadata": {
    "collapsed": false
   },
   "outputs": [
    {
     "data": {
      "text/html": [
       "<div>\n",
       "<table border=\"1\" class=\"dataframe\">\n",
       "  <thead>\n",
       "    <tr style=\"text-align: right;\">\n",
       "      <th></th>\n",
       "      <th>DayMoYr</th>\n",
       "      <th>Jdays</th>\n",
       "      <th>Q_obs.m3</th>\n",
       "      <th>Q_sim.m3</th>\n",
       "    </tr>\n",
       "  </thead>\n",
       "  <tbody>\n",
       "    <tr>\n",
       "      <th>135</th>\n",
       "      <td>2016-07-22</td>\n",
       "      <td>296</td>\n",
       "      <td>NaN</td>\n",
       "      <td>NaN</td>\n",
       "    </tr>\n",
       "    <tr>\n",
       "      <th>136</th>\n",
       "      <td>2016-07-23</td>\n",
       "      <td>297</td>\n",
       "      <td>NaN</td>\n",
       "      <td>NaN</td>\n",
       "    </tr>\n",
       "    <tr>\n",
       "      <th>137</th>\n",
       "      <td>2016-07-24</td>\n",
       "      <td>298</td>\n",
       "      <td>NaN</td>\n",
       "      <td>NaN</td>\n",
       "    </tr>\n",
       "    <tr>\n",
       "      <th>138</th>\n",
       "      <td>2016-07-25</td>\n",
       "      <td>299</td>\n",
       "      <td>NaN</td>\n",
       "      <td>NaN</td>\n",
       "    </tr>\n",
       "    <tr>\n",
       "      <th>139</th>\n",
       "      <td>2016-07-26</td>\n",
       "      <td>300</td>\n",
       "      <td>NaN</td>\n",
       "      <td>NaN</td>\n",
       "    </tr>\n",
       "  </tbody>\n",
       "</table>\n",
       "</div>"
      ],
      "text/plain": [
       "       DayMoYr  Jdays  Q_obs.m3  Q_sim.m3\n",
       "135 2016-07-22    296       NaN       NaN\n",
       "136 2016-07-23    297       NaN       NaN\n",
       "137 2016-07-24    298       NaN       NaN\n",
       "138 2016-07-25    299       NaN       NaN\n",
       "139 2016-07-26    300       NaN       NaN"
      ]
     },
     "execution_count": 12,
     "metadata": {},
     "output_type": "execute_result"
    }
   ],
   "source": [
    "mData = obs.merge(simQ, left_on='Jdays', right_on='dt', how='outer')\n",
    "mData = mData.drop(['VolTot.L', 'dt'], axis=1)\n",
    "mData.tail()"
   ]
  },
  {
   "cell_type": "code",
   "execution_count": 16,
   "metadata": {
    "collapsed": false
   },
   "outputs": [
    {
     "data": {
      "image/png": "[encoded data removed]",
      "text/html": [
       "\n",
       "\n",
       "<style>\n",
       "\n",
       "</style>\n",
       "\n",
       "<div id=\"fig_el67081914565367471636357\"></div>\n",
       "<script>\n",
       "function mpld3_load_lib(url, callback){\n",
       "  var s = document.createElement('script');\n",
       "  s.src = url;\n",
       "  s.async = true;\n",
       "  s.onreadystatechange = s.onload = callback;\n",
       "  s.onerror = function(){console.warn(\"failed to load library \" + url);};\n",
       "  document.getElementsByTagName(\"head\")[0].appendChild(s);\n",
       "}\n",
       "\n",
       "if(typeof(mpld3) !== \"undefined\" && mpld3._mpld3IsLoaded){\n",
       "   // already loaded: just create the figure\n",
       "   !function(mpld3){\n",
       "       \n",
       "       mpld3.draw_figure(\"fig_el67081914565367471636357\", {\"axes\": [{\"xlim\": [154.75, 292.25], \"yscale\": \"linear\", \"axesbg\": \"#FFFFFF\", \"texts\": [{\"v_baseline\": \"hanging\", \"h_anchor\": \"middle\", \"color\": \"#262626\", \"text\": \"Time (days)\", \"coordinates\": \"axes\", \"zorder\": 3, \"alpha\": 1, \"fontsize\": 11.0, \"position\": [0.49999999999999994, -0.091979396615158221], \"rotation\": -0.0, \"id\": \"el6708191315080\"}, {\"v_baseline\": \"auto\", \"h_anchor\": \"middle\", \"color\": \"#262626\", \"text\": \"m3/day\", \"coordinates\": \"axes\", \"zorder\": 3, \"alpha\": 1, \"fontsize\": 11.0, \"position\": [-0.098939665471923538, 0.49999999999999989], \"rotation\": -90.0, \"id\": \"el6708196387056\"}], \"zoomable\": true, \"images\": [], \"xdomain\": [154.75, 292.25], \"ylim\": [-153.65177189139303, 3226.7052903092531], \"paths\": [], \"sharey\": [], \"sharex\": [], \"axesbgalpha\": null, \"axes\": [{\"scale\": \"linear\", \"tickformat\": null, \"grid\": {\"color\": \"#CCCCCC\", \"alpha\": 1.0, \"dasharray\": \"10,0\", \"gridOn\": true}, \"fontsize\": 10.0, \"position\": \"bottom\", \"nticks\": 9, \"tickvalues\": null}, {\"scale\": \"linear\", \"tickformat\": null, \"grid\": {\"color\": \"#CCCCCC\", \"alpha\": 1.0, \"dasharray\": \"10,0\", \"gridOn\": true}, \"fontsize\": 10.0, \"position\": \"left\", \"nticks\": 9, \"tickvalues\": null}], \"lines\": [{\"color\": \"#4C72B0\", \"yindex\": 1, \"coordinates\": \"data\", \"dasharray\": \"10,0\", \"zorder\": 2, \"alpha\": 1, \"xindex\": 0, \"linewidth\": 1.75, \"data\": \"data01\", \"id\": \"el6708191458608\"}, {\"color\": \"#55A868\", \"yindex\": 2, \"coordinates\": \"data\", \"dasharray\": \"9.6,2.4,1.6,2.4\", \"zorder\": 2, \"alpha\": 1, \"xindex\": 0, \"linewidth\": 1.75, \"data\": \"data01\", \"id\": \"el6708196484176\"}], \"markers\": [], \"id\": \"el6708196433848\", \"ydomain\": [-153.65177189139303, 3226.7052903092531], \"collections\": [], \"xscale\": \"linear\", \"bbox\": [0.125, 0.125, 0.77500000000000002, 0.755]}], \"height\": 288.0, \"width\": 432.0, \"plugins\": [{\"type\": \"reset\"}, {\"enabled\": false, \"button\": true, \"type\": \"zoom\"}, {\"enabled\": false, \"button\": true, \"type\": \"boxzoom\"}], \"data\": {\"data01\": [[161.0, NaN, 1.49031], [162.0, NaN, 0.318949], [163.0, NaN, 0.16738599999999998], [164.0, NaN, 0.0881607], [165.0, NaN, 0.0466237], [166.0, NaN, 0.024753099999999997], [167.0, NaN, 0.0132546], [168.0, NaN, 0.00718548], [169.0, NaN, 0.0039731], [170.0, NaN, 0.00217477], [171.0, NaN, 0.00128242], [172.0, NaN, 0.000991954], [173.0, NaN, 0.00087584], [174.0, NaN, 0.000836699], [175.0, NaN, 0.000825957], [176.0, NaN, 0.000822707], [177.0, 42.938546547762, 1.89075], [178.0, 28.654578907478797, 0.000821845], [179.0, 28.4400788353364, 0.0008218539999999999], [180.0, 30.5589899471207, 0.00082186], [181.0, 29.5904178722679, 2.8044700000000002], [182.0, 46.096011626282404, 0.000821863], [183.0, 486.58767018212706, 314.694], [184.0, 373.460272113176, 9.78244], [185.0, 298.173578432551, 6.25186], [186.0, 195.667972181916, 0.335319], [187.0, 149.424590354145, 0.000821872], [188.0, 227.60513841329, 2.57172], [189.0, 330.868300970258, 41.7331], [190.0, 233.374119175948, 0.000825627], [191.0, 172.60074765572, 0.000821872], [192.0, 160.034103999615, 0.000821872], [193.0, 133.994770592836, 0.000821872], [194.0, 140.936220433905, 0.000821872], [195.0, 146.70800730128602, 0.000821872], [196.0, 134.128652043624, 2.47434], [197.0, 124.273682057104, 0.000821872], [198.0, 137.350595657917, 0.000821872], [199.0, 456.54349502274204, 2.76702], [200.0, 1596.31337894717, 390.85900000000004], [201.0, 814.934405069819, 36.7319], [202.0, 287.224964313408, 3.8895], [203.0, 194.59791881089697, 3.65055], [204.0, 163.799069517694, 3.56526], [205.0, 174.20969547069402, 3.4869800000000004], [206.0, 154.682339945807, 3.4151199999999995], [207.0, 133.954045864961, 3.49246], [208.0, 157.29343742443302, 3.29845], [209.0, 175.724059085546, 3.23284], [210.0, 145.227674660664, 6.89538], [211.0, 149.03694856295002, 3.50141], [212.0, 157.317240811019, 4.2272300000000005], [213.0, 160.596734392738, 3.05156], [214.0, 493.36869867642497, 184.033], [215.0, 500.506259735028, 318.803], [216.0, 254.503872101, 5.98773], [217.0, 154.799854016621, 11.8755], [218.0, 137.03686307642502, 5.78851], [219.0, 163.06754967342098, 5.70089], [220.0, 136.258916425975, 5.62036], [221.0, 121.090516355417, 5.54634], [222.0, 96.46132954140779, 5.478280000000001], [223.0, 87.7380730549264, 5.4156699999999995], [224.0, 281.592394032375, 7.74103], [225.0, 3073.05269657286, 320.028], [226.0, 1597.65610220188, 597.189], [227.0, 830.9179707700041, 43.2929], [228.0, 393.614786410727, 17.5199], [229.0, 251.994727677588, 17.198], [230.0, 161.253802669919, 19.3184], [231.0, 122.59549221373, 16.6314], [232.0, 121.00340421564599, 18.4402], [233.0, 124.88189861178599, 17.815], [234.0, 123.659094181303, 15.9432], [235.0, 145.473618413894, 15.7502], [236.0, 104.78991473050401, 17.0265], [237.0, 105.399845550656, 20.1601], [238.0, 105.114086209306, 16.5734], [239.0, 93.99335818522749, 15.1214], [240.0, 91.9408627217224, 14.9943], [241.0, 88.46290061596962, 15.5456], [242.0, 281.745065900185, 16.2384], [243.0, 1470.58319822071, 581.394], [244.0, 860.6033434353051, 648.0369999999999], [245.0, 440.421623764541, 20.1767], [246.0, 319.023239319278, 19.6939], [247.0, 935.365375898123, 22.4071], [248.0, 2840.7341980655597, 299.89599999999996], [249.0, 1214.48366819368, 473.142], [250.0, 677.9300853180611, 29.6571], [251.0, 443.255305487883, 29.2648], [252.0, 390.752383277314, 28.9046], [253.0, 281.423299318259, 33.7674], [254.0, 227.11216178678603, 28.4316], [255.0, 223.60397680789399, 27.9935], [256.0, 220.667998898577, 28.434], [257.0, 196.886061512686, 86.3098], [258.0, 1006.9024503471001, 34.6284], [259.0, 686.343639406426, 125.18700000000001], [260.0, 1205.68687752843, 30.4398], [261.0, 1656.96495609857, 448.38699999999994], [262.0, 853.504878711855, 26.5798], [263.0, 604.9689889386381, 35.9579], [264.0, 381.315662919705, 26.3051], [265.0, 278.20523559279303, 28.4368], [266.0, 210.636122327402, 26.7403], [267.0, 177.053994809446, 25.9687], [268.0, 154.839122388491, 25.8736], [269.0, 921.903354806892, 25.7858], [270.0, 321.958542069217, 740.345], [271.0, 224.04686429689198, 25.63], [272.0, 206.161166222336, 25.561], [273.0, 174.12795010395303, 25.8354], [274.0, 169.211383216397, 25.4383], [275.0, 157.011236347875, 25.3839], [276.0, 140.28107701215, 25.3336], [277.0, 106.46348883416302, 25.2871], [278.0, 102.040969934439, 25.2441], [279.0, 87.6670195453348, 25.2043], [280.0, 69.3852379189187, 25.1674], [281.0, 64.4826387434623, NaN], [282.0, 58.463523905615496, NaN], [283.0, 56.1862563447766, NaN], [284.0, 54.981371800593706, NaN], [285.0, 53.592412113602805, NaN], [286.0, 22.9953180596629, NaN], [287.0, NaN, NaN], [288.0, NaN, NaN], [289.0, NaN, NaN], [290.0, NaN, NaN], [291.0, NaN, NaN], [292.0, NaN, NaN], [293.0, NaN, NaN], [294.0, NaN, NaN], [295.0, NaN, NaN], [296.0, NaN, NaN], [297.0, NaN, NaN], [298.0, NaN, NaN], [299.0, NaN, NaN], [300.0, NaN, NaN]]}, \"id\": \"el6708191456536\"});\n",
       "   }(mpld3);\n",
       "}else if(typeof define === \"function\" && define.amd){\n",
       "   // require.js is available: use it to load d3/mpld3\n",
       "   require.config({paths: {d3: \"https://mpld3.github.io/js/d3.v3.min\"}});\n",
       "   require([\"d3\"], function(d3){\n",
       "      window.d3 = d3;\n",
       "      mpld3_load_lib(\"https://mpld3.github.io/js/mpld3.v0.2.js\", function(){\n",
       "         \n",
       "         mpld3.draw_figure(\"fig_el67081914565367471636357\", {\"axes\": [{\"xlim\": [154.75, 292.25], \"yscale\": \"linear\", \"axesbg\": \"#FFFFFF\", \"texts\": [{\"v_baseline\": \"hanging\", \"h_anchor\": \"middle\", \"color\": \"#262626\", \"text\": \"Time (days)\", \"coordinates\": \"axes\", \"zorder\": 3, \"alpha\": 1, \"fontsize\": 11.0, \"position\": [0.49999999999999994, -0.091979396615158221], \"rotation\": -0.0, \"id\": \"el6708191315080\"}, {\"v_baseline\": \"auto\", \"h_anchor\": \"middle\", \"color\": \"#262626\", \"text\": \"m3/day\", \"coordinates\": \"axes\", \"zorder\": 3, \"alpha\": 1, \"fontsize\": 11.0, \"position\": [-0.098939665471923538, 0.49999999999999989], \"rotation\": -90.0, \"id\": \"el6708196387056\"}], \"zoomable\": true, \"images\": [], \"xdomain\": [154.75, 292.25], \"ylim\": [-153.65177189139303, 3226.7052903092531], \"paths\": [], \"sharey\": [], \"sharex\": [], \"axesbgalpha\": null, \"axes\": [{\"scale\": \"linear\", \"tickformat\": null, \"grid\": {\"color\": \"#CCCCCC\", \"alpha\": 1.0, \"dasharray\": \"10,0\", \"gridOn\": true}, \"fontsize\": 10.0, \"position\": \"bottom\", \"nticks\": 9, \"tickvalues\": null}, {\"scale\": \"linear\", \"tickformat\": null, \"grid\": {\"color\": \"#CCCCCC\", \"alpha\": 1.0, \"dasharray\": \"10,0\", \"gridOn\": true}, \"fontsize\": 10.0, \"position\": \"left\", \"nticks\": 9, \"tickvalues\": null}], \"lines\": [{\"color\": \"#4C72B0\", \"yindex\": 1, \"coordinates\": \"data\", \"dasharray\": \"10,0\", \"zorder\": 2, \"alpha\": 1, \"xindex\": 0, \"linewidth\": 1.75, \"data\": \"data01\", \"id\": \"el6708191458608\"}, {\"color\": \"#55A868\", \"yindex\": 2, \"coordinates\": \"data\", \"dasharray\": \"9.6,2.4,1.6,2.4\", \"zorder\": 2, \"alpha\": 1, \"xindex\": 0, \"linewidth\": 1.75, \"data\": \"data01\", \"id\": \"el6708196484176\"}], \"markers\": [], \"id\": \"el6708196433848\", \"ydomain\": [-153.65177189139303, 3226.7052903092531], \"collections\": [], \"xscale\": \"linear\", \"bbox\": [0.125, 0.125, 0.77500000000000002, 0.755]}], \"height\": 288.0, \"width\": 432.0, \"plugins\": [{\"type\": \"reset\"}, {\"enabled\": false, \"button\": true, \"type\": \"zoom\"}, {\"enabled\": false, \"button\": true, \"type\": \"boxzoom\"}], \"data\": {\"data01\": [[161.0, NaN, 1.49031], [162.0, NaN, 0.318949], [163.0, NaN, 0.16738599999999998], [164.0, NaN, 0.0881607], [165.0, NaN, 0.0466237], [166.0, NaN, 0.024753099999999997], [167.0, NaN, 0.0132546], [168.0, NaN, 0.00718548], [169.0, NaN, 0.0039731], [170.0, NaN, 0.00217477], [171.0, NaN, 0.00128242], [172.0, NaN, 0.000991954], [173.0, NaN, 0.00087584], [174.0, NaN, 0.000836699], [175.0, NaN, 0.000825957], [176.0, NaN, 0.000822707], [177.0, 42.938546547762, 1.89075], [178.0, 28.654578907478797, 0.000821845], [179.0, 28.4400788353364, 0.0008218539999999999], [180.0, 30.5589899471207, 0.00082186], [181.0, 29.5904178722679, 2.8044700000000002], [182.0, 46.096011626282404, 0.000821863], [183.0, 486.58767018212706, 314.694], [184.0, 373.460272113176, 9.78244], [185.0, 298.173578432551, 6.25186], [186.0, 195.667972181916, 0.335319], [187.0, 149.424590354145, 0.000821872], [188.0, 227.60513841329, 2.57172], [189.0, 330.868300970258, 41.7331], [190.0, 233.374119175948, 0.000825627], [191.0, 172.60074765572, 0.000821872], [192.0, 160.034103999615, 0.000821872], [193.0, 133.994770592836, 0.000821872], [194.0, 140.936220433905, 0.000821872], [195.0, 146.70800730128602, 0.000821872], [196.0, 134.128652043624, 2.47434], [197.0, 124.273682057104, 0.000821872], [198.0, 137.350595657917, 0.000821872], [199.0, 456.54349502274204, 2.76702], [200.0, 1596.31337894717, 390.85900000000004], [201.0, 814.934405069819, 36.7319], [202.0, 287.224964313408, 3.8895], [203.0, 194.59791881089697, 3.65055], [204.0, 163.799069517694, 3.56526], [205.0, 174.20969547069402, 3.4869800000000004], [206.0, 154.682339945807, 3.4151199999999995], [207.0, 133.954045864961, 3.49246], [208.0, 157.29343742443302, 3.29845], [209.0, 175.724059085546, 3.23284], [210.0, 145.227674660664, 6.89538], [211.0, 149.03694856295002, 3.50141], [212.0, 157.317240811019, 4.2272300000000005], [213.0, 160.596734392738, 3.05156], [214.0, 493.36869867642497, 184.033], [215.0, 500.506259735028, 318.803], [216.0, 254.503872101, 5.98773], [217.0, 154.799854016621, 11.8755], [218.0, 137.03686307642502, 5.78851], [219.0, 163.06754967342098, 5.70089], [220.0, 136.258916425975, 5.62036], [221.0, 121.090516355417, 5.54634], [222.0, 96.46132954140779, 5.478280000000001], [223.0, 87.7380730549264, 5.4156699999999995], [224.0, 281.592394032375, 7.74103], [225.0, 3073.05269657286, 320.028], [226.0, 1597.65610220188, 597.189], [227.0, 830.9179707700041, 43.2929], [228.0, 393.614786410727, 17.5199], [229.0, 251.994727677588, 17.198], [230.0, 161.253802669919, 19.3184], [231.0, 122.59549221373, 16.6314], [232.0, 121.00340421564599, 18.4402], [233.0, 124.88189861178599, 17.815], [234.0, 123.659094181303, 15.9432], [235.0, 145.473618413894, 15.7502], [236.0, 104.78991473050401, 17.0265], [237.0, 105.399845550656, 20.1601], [238.0, 105.114086209306, 16.5734], [239.0, 93.99335818522749, 15.1214], [240.0, 91.9408627217224, 14.9943], [241.0, 88.46290061596962, 15.5456], [242.0, 281.745065900185, 16.2384], [243.0, 1470.58319822071, 581.394], [244.0, 860.6033434353051, 648.0369999999999], [245.0, 440.421623764541, 20.1767], [246.0, 319.023239319278, 19.6939], [247.0, 935.365375898123, 22.4071], [248.0, 2840.7341980655597, 299.89599999999996], [249.0, 1214.48366819368, 473.142], [250.0, 677.9300853180611, 29.6571], [251.0, 443.255305487883, 29.2648], [252.0, 390.752383277314, 28.9046], [253.0, 281.423299318259, 33.7674], [254.0, 227.11216178678603, 28.4316], [255.0, 223.60397680789399, 27.9935], [256.0, 220.667998898577, 28.434], [257.0, 196.886061512686, 86.3098], [258.0, 1006.9024503471001, 34.6284], [259.0, 686.343639406426, 125.18700000000001], [260.0, 1205.68687752843, 30.4398], [261.0, 1656.96495609857, 448.38699999999994], [262.0, 853.504878711855, 26.5798], [263.0, 604.9689889386381, 35.9579], [264.0, 381.315662919705, 26.3051], [265.0, 278.20523559279303, 28.4368], [266.0, 210.636122327402, 26.7403], [267.0, 177.053994809446, 25.9687], [268.0, 154.839122388491, 25.8736], [269.0, 921.903354806892, 25.7858], [270.0, 321.958542069217, 740.345], [271.0, 224.04686429689198, 25.63], [272.0, 206.161166222336, 25.561], [273.0, 174.12795010395303, 25.8354], [274.0, 169.211383216397, 25.4383], [275.0, 157.011236347875, 25.3839], [276.0, 140.28107701215, 25.3336], [277.0, 106.46348883416302, 25.2871], [278.0, 102.040969934439, 25.2441], [279.0, 87.6670195453348, 25.2043], [280.0, 69.3852379189187, 25.1674], [281.0, 64.4826387434623, NaN], [282.0, 58.463523905615496, NaN], [283.0, 56.1862563447766, NaN], [284.0, 54.981371800593706, NaN], [285.0, 53.592412113602805, NaN], [286.0, 22.9953180596629, NaN], [287.0, NaN, NaN], [288.0, NaN, NaN], [289.0, NaN, NaN], [290.0, NaN, NaN], [291.0, NaN, NaN], [292.0, NaN, NaN], [293.0, NaN, NaN], [294.0, NaN, NaN], [295.0, NaN, NaN], [296.0, NaN, NaN], [297.0, NaN, NaN], [298.0, NaN, NaN], [299.0, NaN, NaN], [300.0, NaN, NaN]]}, \"id\": \"el6708191456536\"});\n",
       "      });\n",
       "    });\n",
       "}else{\n",
       "    // require.js not available: dynamically load d3 & mpld3\n",
       "    mpld3_load_lib(\"https://mpld3.github.io/js/d3.v3.min.js\", function(){\n",
       "         mpld3_load_lib(\"https://mpld3.github.io/js/mpld3.v0.2.js\", function(){\n",
       "                 \n",
       "                 mpld3.draw_figure(\"fig_el67081914565367471636357\", {\"axes\": [{\"xlim\": [154.75, 292.25], \"yscale\": \"linear\", \"axesbg\": \"#FFFFFF\", \"texts\": [{\"v_baseline\": \"hanging\", \"h_anchor\": \"middle\", \"color\": \"#262626\", \"text\": \"Time (days)\", \"coordinates\": \"axes\", \"zorder\": 3, \"alpha\": 1, \"fontsize\": 11.0, \"position\": [0.49999999999999994, -0.091979396615158221], \"rotation\": -0.0, \"id\": \"el6708191315080\"}, {\"v_baseline\": \"auto\", \"h_anchor\": \"middle\", \"color\": \"#262626\", \"text\": \"m3/day\", \"coordinates\": \"axes\", \"zorder\": 3, \"alpha\": 1, \"fontsize\": 11.0, \"position\": [-0.098939665471923538, 0.49999999999999989], \"rotation\": -90.0, \"id\": \"el6708196387056\"}], \"zoomable\": true, \"images\": [], \"xdomain\": [154.75, 292.25], \"ylim\": [-153.65177189139303, 3226.7052903092531], \"paths\": [], \"sharey\": [], \"sharex\": [], \"axesbgalpha\": null, \"axes\": [{\"scale\": \"linear\", \"tickformat\": null, \"grid\": {\"color\": \"#CCCCCC\", \"alpha\": 1.0, \"dasharray\": \"10,0\", \"gridOn\": true}, \"fontsize\": 10.0, \"position\": \"bottom\", \"nticks\": 9, \"tickvalues\": null}, {\"scale\": \"linear\", \"tickformat\": null, \"grid\": {\"color\": \"#CCCCCC\", \"alpha\": 1.0, \"dasharray\": \"10,0\", \"gridOn\": true}, \"fontsize\": 10.0, \"position\": \"left\", \"nticks\": 9, \"tickvalues\": null}], \"lines\": [{\"color\": \"#4C72B0\", \"yindex\": 1, \"coordinates\": \"data\", \"dasharray\": \"10,0\", \"zorder\": 2, \"alpha\": 1, \"xindex\": 0, \"linewidth\": 1.75, \"data\": \"data01\", \"id\": \"el6708191458608\"}, {\"color\": \"#55A868\", \"yindex\": 2, \"coordinates\": \"data\", \"dasharray\": \"9.6,2.4,1.6,2.4\", \"zorder\": 2, \"alpha\": 1, \"xindex\": 0, \"linewidth\": 1.75, \"data\": \"data01\", \"id\": \"el6708196484176\"}], \"markers\": [], \"id\": \"el6708196433848\", \"ydomain\": [-153.65177189139303, 3226.7052903092531], \"collections\": [], \"xscale\": \"linear\", \"bbox\": [0.125, 0.125, 0.77500000000000002, 0.755]}], \"height\": 288.0, \"width\": 432.0, \"plugins\": [{\"type\": \"reset\"}, {\"enabled\": false, \"button\": true, \"type\": \"zoom\"}, {\"enabled\": false, \"button\": true, \"type\": \"boxzoom\"}], \"data\": {\"data01\": [[161.0, NaN, 1.49031], [162.0, NaN, 0.318949], [163.0, NaN, 0.16738599999999998], [164.0, NaN, 0.0881607], [165.0, NaN, 0.0466237], [166.0, NaN, 0.024753099999999997], [167.0, NaN, 0.0132546], [168.0, NaN, 0.00718548], [169.0, NaN, 0.0039731], [170.0, NaN, 0.00217477], [171.0, NaN, 0.00128242], [172.0, NaN, 0.000991954], [173.0, NaN, 0.00087584], [174.0, NaN, 0.000836699], [175.0, NaN, 0.000825957], [176.0, NaN, 0.000822707], [177.0, 42.938546547762, 1.89075], [178.0, 28.654578907478797, 0.000821845], [179.0, 28.4400788353364, 0.0008218539999999999], [180.0, 30.5589899471207, 0.00082186], [181.0, 29.5904178722679, 2.8044700000000002], [182.0, 46.096011626282404, 0.000821863], [183.0, 486.58767018212706, 314.694], [184.0, 373.460272113176, 9.78244], [185.0, 298.173578432551, 6.25186], [186.0, 195.667972181916, 0.335319], [187.0, 149.424590354145, 0.000821872], [188.0, 227.60513841329, 2.57172], [189.0, 330.868300970258, 41.7331], [190.0, 233.374119175948, 0.000825627], [191.0, 172.60074765572, 0.000821872], [192.0, 160.034103999615, 0.000821872], [193.0, 133.994770592836, 0.000821872], [194.0, 140.936220433905, 0.000821872], [195.0, 146.70800730128602, 0.000821872], [196.0, 134.128652043624, 2.47434], [197.0, 124.273682057104, 0.000821872], [198.0, 137.350595657917, 0.000821872], [199.0, 456.54349502274204, 2.76702], [200.0, 1596.31337894717, 390.85900000000004], [201.0, 814.934405069819, 36.7319], [202.0, 287.224964313408, 3.8895], [203.0, 194.59791881089697, 3.65055], [204.0, 163.799069517694, 3.56526], [205.0, 174.20969547069402, 3.4869800000000004], [206.0, 154.682339945807, 3.4151199999999995], [207.0, 133.954045864961, 3.49246], [208.0, 157.29343742443302, 3.29845], [209.0, 175.724059085546, 3.23284], [210.0, 145.227674660664, 6.89538], [211.0, 149.03694856295002, 3.50141], [212.0, 157.317240811019, 4.2272300000000005], [213.0, 160.596734392738, 3.05156], [214.0, 493.36869867642497, 184.033], [215.0, 500.506259735028, 318.803], [216.0, 254.503872101, 5.98773], [217.0, 154.799854016621, 11.8755], [218.0, 137.03686307642502, 5.78851], [219.0, 163.06754967342098, 5.70089], [220.0, 136.258916425975, 5.62036], [221.0, 121.090516355417, 5.54634], [222.0, 96.46132954140779, 5.478280000000001], [223.0, 87.7380730549264, 5.4156699999999995], [224.0, 281.592394032375, 7.74103], [225.0, 3073.05269657286, 320.028], [226.0, 1597.65610220188, 597.189], [227.0, 830.9179707700041, 43.2929], [228.0, 393.614786410727, 17.5199], [229.0, 251.994727677588, 17.198], [230.0, 161.253802669919, 19.3184], [231.0, 122.59549221373, 16.6314], [232.0, 121.00340421564599, 18.4402], [233.0, 124.88189861178599, 17.815], [234.0, 123.659094181303, 15.9432], [235.0, 145.473618413894, 15.7502], [236.0, 104.78991473050401, 17.0265], [237.0, 105.399845550656, 20.1601], [238.0, 105.114086209306, 16.5734], [239.0, 93.99335818522749, 15.1214], [240.0, 91.9408627217224, 14.9943], [241.0, 88.46290061596962, 15.5456], [242.0, 281.745065900185, 16.2384], [243.0, 1470.58319822071, 581.394], [244.0, 860.6033434353051, 648.0369999999999], [245.0, 440.421623764541, 20.1767], [246.0, 319.023239319278, 19.6939], [247.0, 935.365375898123, 22.4071], [248.0, 2840.7341980655597, 299.89599999999996], [249.0, 1214.48366819368, 473.142], [250.0, 677.9300853180611, 29.6571], [251.0, 443.255305487883, 29.2648], [252.0, 390.752383277314, 28.9046], [253.0, 281.423299318259, 33.7674], [254.0, 227.11216178678603, 28.4316], [255.0, 223.60397680789399, 27.9935], [256.0, 220.667998898577, 28.434], [257.0, 196.886061512686, 86.3098], [258.0, 1006.9024503471001, 34.6284], [259.0, 686.343639406426, 125.18700000000001], [260.0, 1205.68687752843, 30.4398], [261.0, 1656.96495609857, 448.38699999999994], [262.0, 853.504878711855, 26.5798], [263.0, 604.9689889386381, 35.9579], [264.0, 381.315662919705, 26.3051], [265.0, 278.20523559279303, 28.4368], [266.0, 210.636122327402, 26.7403], [267.0, 177.053994809446, 25.9687], [268.0, 154.839122388491, 25.8736], [269.0, 921.903354806892, 25.7858], [270.0, 321.958542069217, 740.345], [271.0, 224.04686429689198, 25.63], [272.0, 206.161166222336, 25.561], [273.0, 174.12795010395303, 25.8354], [274.0, 169.211383216397, 25.4383], [275.0, 157.011236347875, 25.3839], [276.0, 140.28107701215, 25.3336], [277.0, 106.46348883416302, 25.2871], [278.0, 102.040969934439, 25.2441], [279.0, 87.6670195453348, 25.2043], [280.0, 69.3852379189187, 25.1674], [281.0, 64.4826387434623, NaN], [282.0, 58.463523905615496, NaN], [283.0, 56.1862563447766, NaN], [284.0, 54.981371800593706, NaN], [285.0, 53.592412113602805, NaN], [286.0, 22.9953180596629, NaN], [287.0, NaN, NaN], [288.0, NaN, NaN], [289.0, NaN, NaN], [290.0, NaN, NaN], [291.0, NaN, NaN], [292.0, NaN, NaN], [293.0, NaN, NaN], [294.0, NaN, NaN], [295.0, NaN, NaN], [296.0, NaN, NaN], [297.0, NaN, NaN], [298.0, NaN, NaN], [299.0, NaN, NaN], [300.0, NaN, NaN]]}, \"id\": \"el6708191456536\"});\n",
       "            })\n",
       "         });\n",
       "}\n",
       "</script>"
      ],
      "text/plain": [
       "<matplotlib.figure.Figure at 0xb696518>"
      ]
     },
     "metadata": {},
     "output_type": "display_data"
    }
   ],
   "source": [
    "fig, ax1 = plt.subplots()\n",
    "time = mData.iloc[:, 1]\n",
    "obs_vol = mData['Q_obs.m3']\n",
    "sim_vol = mData['Q_sim.m3']\n",
    "legend = [\"Q-obs (m3/d)\", \"Q-sim (m3/d)\"]\n",
    "\n",
    "ax1.plot(time, obs_vol, label=legend[0])\n",
    "ax1.plot(time, sim_vol, linestyle='dashdot', label=legend[1])\n",
    "ylabel = 'm3/day'\n",
    "ax1.set_xlabel('Time (days)')\n",
    "ax1.set_ylabel(ylabel)\n",
    "plt.show()"
   ]
  },
  {
   "cell_type": "code",
   "execution_count": null,
   "metadata": {
    "collapsed": true
   },
   "outputs": [],
   "source": [
    "obs.dtypes\n",
    "# basic_plot(obs)"
   ]
  }
 ],
 "metadata": {
  "kernelspec": {
   "display_name": "Python [Root]",
   "language": "python",
   "name": "Python [Root]"
  },
  "language_info": {
   "codemirror_mode": {
    "name": "ipython",
    "version": 3
   },
   "file_extension": ".py",
   "mimetype": "text/x-python",
   "name": "python",
   "nbconvert_exporter": "python",
   "pygments_lexer": "ipython3",
   "version": "3.5.2"
  }
 },
 "nbformat": 4,
 "nbformat_minor": 1
}
