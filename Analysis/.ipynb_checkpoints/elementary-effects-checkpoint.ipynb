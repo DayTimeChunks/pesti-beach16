{
 "cells": [
  {
   "cell_type": "code",
   "execution_count": 1,
   "metadata": {
    "collapsed": true
   },
   "outputs": [],
   "source": [
    "import numpy as np"
   ]
  },
  {
   "cell_type": "markdown",
   "metadata": {},
   "source": [
    "## Key concepts\n",
    "\n",
    "1. A large (absolute) measure of central tendency (e.g. mean) for $F_i$ indicates that such input $x_i$ has an important overalll influence on the output $y$.\n",
    "\n",
    "2. A large measure of spread (e.g. standard deviation) for $F_i$ indicates an input $x_i$ whose influence is highly dependent on the values of other inputs $x_j$ (i.e., one inolved with interations or with non-linear effects).  \n",
    "\n",
    "3. Economy of design can be improved if some runs are used in computing more than one elementary effect (in effect, changing two parameters simultaneously). In such a case it is convenient to impose the following restrictions:\n",
    "\n",
    "    $p$ is even; and\n",
    "\n",
    "    $\\Delta = p/(2(p-1)$"
   ]
  },
  {
   "cell_type": "markdown",
   "metadata": {},
   "source": [
    "## Definitions\n",
    "\n",
    "$\\omega = $ region of experimentation\n",
    "\n",
    "$x_i = \\{0, 1/(p-1), 2/(p-1), 3/(p-1),.., 1\\}$\n",
    "\n",
    "Distribution (or total number) of *elementary effects* for each parameter $x_i$ is:\n",
    "\n",
    "$F_i = p^{k-1}[p-\\Delta(p-1)]$"
   ]
  },
  {
   "cell_type": "markdown",
   "metadata": {},
   "source": [
    "## Steps\n",
    "\n",
    "1. Basic design\n",
    "\n",
    "Select an $m-by-k$ sampling matrix ($m = k+1$), **B**, with elements that are 0's and 1's, with the property that for every column $i=1,2,3,..,k$ there are two rows of **B** that differ only in their $ith$ entries: "
   ]
  },
  {
   "cell_type": "code",
   "execution_count": 6,
   "metadata": {
    "collapsed": true
   },
   "outputs": [],
   "source": [
    "B = np.matrix([[0, 0, 0], [1, 0, 0], [1, 1, 0], [1, 1, 1]])"
   ]
  },
  {
   "cell_type": "code",
   "execution_count": 7,
   "metadata": {
    "collapsed": false
   },
   "outputs": [
    {
     "data": {
      "text/plain": [
       "matrix([[0, 0, 0],\n",
       "        [1, 0, 0],\n",
       "        [1, 1, 0],\n",
       "        [1, 1, 1]])"
      ]
     },
     "execution_count": 7,
     "metadata": {},
     "output_type": "execute_result"
    }
   ],
   "source": [
    "B"
   ]
  },
  {
   "cell_type": "markdown",
   "metadata": {},
   "source": [
    "$\\Delta$**B** could be used as a design matrix (i.e., each row a value of **x**), for which the experiment would provide $k$ elementary effects, one for each input based **only on *k+1* runs**."
   ]
  },
  {
   "cell_type": "markdown",
   "metadata": {},
   "source": [
    "Step 2. Produce a randomized version of the design matrix.\n",
    "\n",
    "- Let **D\\*** (Ds) be a $k-dimensional$ diagonal matrix in which each each diagonal element is either +1 or -1 with equal probability."
   ]
  },
  {
   "cell_type": "code",
   "execution_count": 8,
   "metadata": {
    "collapsed": true
   },
   "outputs": [],
   "source": [
    "import random\n",
    "def randD(a,b):\n",
    "    draw = random.random() # random float 0.0 <= x < 1.0\n",
    "    if draw < 0.5: return a\n",
    "    else: return b"
   ]
  },
  {
   "cell_type": "code",
   "execution_count": 9,
   "metadata": {
    "collapsed": true
   },
   "outputs": [],
   "source": [
    "Ds = np.zeros((3, 3), int)\n",
    "np.fill_diagonal(Ds, randD(1,-1))"
   ]
  },
  {
   "cell_type": "code",
   "execution_count": null,
   "metadata": {
    "collapsed": true
   },
   "outputs": [],
   "source": []
  },
  {
   "cell_type": "markdown",
   "metadata": {},
   "source": [
    "## Questions\n",
    "\n",
    "### General\n",
    "\n",
    "1. Is knowing what a unit hypercube necessary?\n",
    "\n",
    "### Random  Sampling\n",
    "\n",
    "1. The mean for $F_i$ is drawn by changing the parameter $x_i$ only by $\\Delta$ while changing (or not) other parameters $x_j$ (also by $\\Delta$).\n",
    "\n",
    "From this I understand that we cannot derive information of the exact effect of parameter $x_i$ on $y$, but rather the mean effect of $x_i$ on $y$. \n",
    "\n",
    "To calculate $F_i$ one would need to extract all the runs where and elementary effect was obtained by adding $\\Delta$ to $x_i$, while excluding all other runs where $x_i$ did not change from the base vector. \n"
   ]
  },
  {
   "cell_type": "code",
   "execution_count": null,
   "metadata": {
    "collapsed": true
   },
   "outputs": [],
   "source": []
  },
  {
   "cell_type": "markdown",
   "metadata": {},
   "source": []
  },
  {
   "cell_type": "code",
   "execution_count": null,
   "metadata": {
    "collapsed": true
   },
   "outputs": [],
   "source": []
  }
 ],
 "metadata": {
  "kernelspec": {
   "display_name": "Python 3",
   "language": "python",
   "name": "python3"
  },
  "language_info": {
   "codemirror_mode": {
    "name": "ipython",
    "version": 3
   },
   "file_extension": ".py",
   "mimetype": "text/x-python",
   "name": "python",
   "nbconvert_exporter": "python",
   "pygments_lexer": "ipython3",
   "version": "3.5.2"
  }
 },
 "nbformat": 4,
 "nbformat_minor": 0
}
