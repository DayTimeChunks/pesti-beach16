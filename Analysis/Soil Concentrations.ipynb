{
 "cells": [
  {
   "cell_type": "code",
   "execution_count": 1,
   "metadata": {},
   "outputs": [
    {
     "name": "stdout",
     "output_type": "stream",
     "text": [
      "/Users/DayTightChunks/Documents/PhD/Models/.nosync/pesti-beach16/Analysis\n"
     ]
    }
   ],
   "source": [
    "import datetime\n",
    "import os\n",
    "\n",
    "import plotly.plotly as py\n",
    "from plotly.offline import download_plotlyjs, init_notebook_mode, plot, iplot\n",
    "from plotly.graph_objs import *\n",
    "import plotly.graph_objs as go\n",
    "\n",
    "import numpy as np\n",
    "\n",
    "from obs_data import *\n",
    "\n",
    "print(os.getcwd())"
   ]
  },
  {
   "cell_type": "code",
   "execution_count": 2,
   "metadata": {},
   "outputs": [
    {
     "data": {
      "text/html": [
       "<script>requirejs.config({paths: { 'plotly': ['https://cdn.plot.ly/plotly-latest.min']},});if(!window.Plotly) {{require(['plotly'],function(plotly) {window.Plotly=plotly;});}}</script>"
      ],
      "text/vnd.plotly.v1+html": [
       "<script>requirejs.config({paths: { 'plotly': ['https://cdn.plot.ly/plotly-latest.min']},});if(!window.Plotly) {{require(['plotly'],function(plotly) {window.Plotly=plotly;});}}</script>"
      ]
     },
     "metadata": {},
     "output_type": "display_data"
    }
   ],
   "source": [
    "init_notebook_mode(connected=True)"
   ]
  },
  {
   "cell_type": "code",
   "execution_count": 44,
   "metadata": {},
   "outputs": [],
   "source": [
    "variable = \"Smet Conc\"\n",
    "figname = 'SoilsConc.png'"
   ]
  },
  {
   "cell_type": "markdown",
   "metadata": {},
   "source": [
    "## Observed"
   ]
  },
  {
   "cell_type": "code",
   "execution_count": 45,
   "metadata": {},
   "outputs": [
    {
     "data": {
      "text/html": [
       "<div>\n",
       "<style scoped>\n",
       "    .dataframe tbody tr th:only-of-type {\n",
       "        vertical-align: middle;\n",
       "    }\n",
       "\n",
       "    .dataframe tbody tr th {\n",
       "        vertical-align: top;\n",
       "    }\n",
       "\n",
       "    .dataframe thead th {\n",
       "        text-align: right;\n",
       "    }\n",
       "</style>\n",
       "<table border=\"1\" class=\"dataframe\">\n",
       "  <thead>\n",
       "    <tr style=\"text-align: right;\">\n",
       "      <th></th>\n",
       "      <th>DayMoYr</th>\n",
       "      <th>Date</th>\n",
       "      <th>Jdays</th>\n",
       "      <th>ID</th>\n",
       "      <th>Transect</th>\n",
       "      <th>Wnum</th>\n",
       "      <th>Date.Soil</th>\n",
       "      <th>Date.ti</th>\n",
       "      <th>Conc.mug.g.dry.soil</th>\n",
       "      <th>Conc.ComSoil.SD</th>\n",
       "      <th>Mass.Soil.g</th>\n",
       "      <th>theta.prct</th>\n",
       "      <th>N_compsoil</th>\n",
       "      <th>comp.d13C</th>\n",
       "      <th>comp.d13C.SD</th>\n",
       "      <th>N_isoComp</th>\n",
       "      <th>prctError</th>\n",
       "      <th>DD13C.comp</th>\n",
       "      <th>comp.IMP.d13C</th>\n",
       "    </tr>\n",
       "  </thead>\n",
       "  <tbody>\n",
       "    <tr>\n",
       "      <th>0</th>\n",
       "      <td>2015-10-01</td>\n",
       "      <td>01/10/2015</td>\n",
       "      <td>1</td>\n",
       "      <td>NaN</td>\n",
       "      <td>NaN</td>\n",
       "      <td>NaN</td>\n",
       "      <td>NaN</td>\n",
       "      <td>NaN</td>\n",
       "      <td>NaN</td>\n",
       "      <td>NaN</td>\n",
       "      <td>NaN</td>\n",
       "      <td>NaN</td>\n",
       "      <td>NaN</td>\n",
       "      <td>NaN</td>\n",
       "      <td>NaN</td>\n",
       "      <td>NaN</td>\n",
       "      <td>NaN</td>\n",
       "      <td>NaN</td>\n",
       "      <td>NaN</td>\n",
       "    </tr>\n",
       "    <tr>\n",
       "      <th>1</th>\n",
       "      <td>2015-10-02</td>\n",
       "      <td>02/10/2015</td>\n",
       "      <td>2</td>\n",
       "      <td>NaN</td>\n",
       "      <td>NaN</td>\n",
       "      <td>NaN</td>\n",
       "      <td>NaN</td>\n",
       "      <td>NaN</td>\n",
       "      <td>NaN</td>\n",
       "      <td>NaN</td>\n",
       "      <td>NaN</td>\n",
       "      <td>NaN</td>\n",
       "      <td>NaN</td>\n",
       "      <td>NaN</td>\n",
       "      <td>NaN</td>\n",
       "      <td>NaN</td>\n",
       "      <td>NaN</td>\n",
       "      <td>NaN</td>\n",
       "      <td>NaN</td>\n",
       "    </tr>\n",
       "    <tr>\n",
       "      <th>2</th>\n",
       "      <td>2015-10-03</td>\n",
       "      <td>03/10/2015</td>\n",
       "      <td>3</td>\n",
       "      <td>NaN</td>\n",
       "      <td>NaN</td>\n",
       "      <td>NaN</td>\n",
       "      <td>NaN</td>\n",
       "      <td>NaN</td>\n",
       "      <td>NaN</td>\n",
       "      <td>NaN</td>\n",
       "      <td>NaN</td>\n",
       "      <td>NaN</td>\n",
       "      <td>NaN</td>\n",
       "      <td>NaN</td>\n",
       "      <td>NaN</td>\n",
       "      <td>NaN</td>\n",
       "      <td>NaN</td>\n",
       "      <td>NaN</td>\n",
       "      <td>NaN</td>\n",
       "    </tr>\n",
       "    <tr>\n",
       "      <th>3</th>\n",
       "      <td>2015-10-04</td>\n",
       "      <td>04/10/2015</td>\n",
       "      <td>4</td>\n",
       "      <td>NaN</td>\n",
       "      <td>NaN</td>\n",
       "      <td>NaN</td>\n",
       "      <td>NaN</td>\n",
       "      <td>NaN</td>\n",
       "      <td>NaN</td>\n",
       "      <td>NaN</td>\n",
       "      <td>NaN</td>\n",
       "      <td>NaN</td>\n",
       "      <td>NaN</td>\n",
       "      <td>NaN</td>\n",
       "      <td>NaN</td>\n",
       "      <td>NaN</td>\n",
       "      <td>NaN</td>\n",
       "      <td>NaN</td>\n",
       "      <td>NaN</td>\n",
       "    </tr>\n",
       "    <tr>\n",
       "      <th>4</th>\n",
       "      <td>2015-10-05</td>\n",
       "      <td>05/10/2015</td>\n",
       "      <td>5</td>\n",
       "      <td>NaN</td>\n",
       "      <td>NaN</td>\n",
       "      <td>NaN</td>\n",
       "      <td>NaN</td>\n",
       "      <td>NaN</td>\n",
       "      <td>NaN</td>\n",
       "      <td>NaN</td>\n",
       "      <td>NaN</td>\n",
       "      <td>NaN</td>\n",
       "      <td>NaN</td>\n",
       "      <td>NaN</td>\n",
       "      <td>NaN</td>\n",
       "      <td>NaN</td>\n",
       "      <td>NaN</td>\n",
       "      <td>NaN</td>\n",
       "      <td>NaN</td>\n",
       "    </tr>\n",
       "  </tbody>\n",
       "</table>\n",
       "</div>"
      ],
      "text/plain": [
       "      DayMoYr        Date  Jdays   ID Transect  Wnum Date.Soil Date.ti  \\\n",
       "0  2015-10-01  01/10/2015      1  NaN      NaN   NaN       NaN     NaN   \n",
       "1  2015-10-02  02/10/2015      2  NaN      NaN   NaN       NaN     NaN   \n",
       "2  2015-10-03  03/10/2015      3  NaN      NaN   NaN       NaN     NaN   \n",
       "3  2015-10-04  04/10/2015      4  NaN      NaN   NaN       NaN     NaN   \n",
       "4  2015-10-05  05/10/2015      5  NaN      NaN   NaN       NaN     NaN   \n",
       "\n",
       "   Conc.mug.g.dry.soil  Conc.ComSoil.SD  Mass.Soil.g  theta.prct  N_compsoil  \\\n",
       "0                  NaN              NaN          NaN         NaN         NaN   \n",
       "1                  NaN              NaN          NaN         NaN         NaN   \n",
       "2                  NaN              NaN          NaN         NaN         NaN   \n",
       "3                  NaN              NaN          NaN         NaN         NaN   \n",
       "4                  NaN              NaN          NaN         NaN         NaN   \n",
       "\n",
       "   comp.d13C  comp.d13C.SD  N_isoComp  prctError  DD13C.comp  comp.IMP.d13C  \n",
       "0        NaN           NaN        NaN        NaN         NaN            NaN  \n",
       "1        NaN           NaN        NaN        NaN         NaN            NaN  \n",
       "2        NaN           NaN        NaN        NaN         NaN            NaN  \n",
       "3        NaN           NaN        NaN        NaN         NaN            NaN  \n",
       "4        NaN           NaN        NaN        NaN         NaN            NaN  "
      ]
     },
     "execution_count": 45,
     "metadata": {},
     "output_type": "execute_result"
    }
   ],
   "source": [
    "n_obs = getSoilData(\"North\", tss=True)\n",
    "v_obs = getSoilData(\"Valley\", tss=True)\n",
    "s_obs = getSoilData(\"South\", tss=True)\n",
    "s_obs.head()"
   ]
  },
  {
   "cell_type": "code",
   "execution_count": 46,
   "metadata": {},
   "outputs": [],
   "source": [
    "if variable == \"d13C\":\n",
    "    name = \"comp.d13C\"\n",
    "else:\n",
    "    name = 'Conc.mug.g.dry.soil'\n",
    "\n",
    "nConc = n_obs[name].tolist()\n",
    "vConc = v_obs[name].tolist()\n",
    "sConc = s_obs[name].tolist()"
   ]
  },
  {
   "cell_type": "markdown",
   "metadata": {},
   "source": [
    "## Simulated"
   ]
  },
  {
   "cell_type": "code",
   "execution_count": 47,
   "metadata": {},
   "outputs": [
    {
     "name": "stdout",
     "output_type": "stream",
     "text": [
      "v9/\n"
     ]
    }
   ],
   "source": [
    "# Model version and mc-run number:\n",
    "version = \"v9\"\n",
    "folder = \"1\"\n",
    "\n",
    "# Working computer\n",
    "PC = False\n",
    "if PC:\n",
    "    back = \"\\\\\"  \n",
    "    sim_path = version + back  \n",
    "else:\n",
    "    back = \"/\"\n",
    "    sim_path = version + back\n",
    "    \n",
    "print(sim_path)"
   ]
  },
  {
   "cell_type": "code",
   "execution_count": 48,
   "metadata": {},
   "outputs": [],
   "source": [
    "# Time series name\n",
    "name_tss = 'CONC'"
   ]
  },
  {
   "cell_type": "code",
   "execution_count": 49,
   "metadata": {},
   "outputs": [],
   "source": [
    "col = 'sim' \n",
    "transect = 'nor'\n",
    "filename = \"resM_\" + transect + name_tss + \".tss\"\n",
    "c_north_sim = pd.read_table(sim_path + folder + back + filename, \n",
    "                            skiprows=4, delim_whitespace=True,\n",
    "                            names=['Jdays', col],\n",
    "                            header=None)\n",
    "\n",
    "simN = c_north_sim[col].tolist()"
   ]
  },
  {
   "cell_type": "code",
   "execution_count": 50,
   "metadata": {},
   "outputs": [],
   "source": [
    "transect = 'val'\n",
    "filename = \"resM_\" + transect + name_tss + \".tss\"\n",
    "c_val_sim = pd.read_table(sim_path + folder + back + \n",
    "                          filename, \n",
    "                          skiprows=4, delim_whitespace=True,\n",
    "                          names=['Jdays', col],\n",
    "                          header=None)\n",
    "\n",
    "simV = c_val_sim[col].tolist()"
   ]
  },
  {
   "cell_type": "code",
   "execution_count": 51,
   "metadata": {},
   "outputs": [],
   "source": [
    "transect = 'sou'\n",
    "filename = \"resM_\" + transect + name_tss + \".tss\"\n",
    "c_sou_sim = pd.read_table(sim_path + folder + back + \n",
    "                          filename, skiprows=4, delim_whitespace=True,\n",
    "                          names=['Jdays', col],\n",
    "                          header=None)\n",
    "\n",
    "simS = c_sou_sim[col].tolist()"
   ]
  },
  {
   "cell_type": "markdown",
   "metadata": {},
   "source": [
    "## Plotting"
   ]
  },
  {
   "cell_type": "code",
   "execution_count": 61,
   "metadata": {},
   "outputs": [],
   "source": [
    "# Julian days\n",
    "x = s_obs.Jdays.tolist()\n",
    "\n",
    "start = 175\n",
    "end = 300"
   ]
  },
  {
   "cell_type": "markdown",
   "metadata": {},
   "source": [
    "### Observed"
   ]
  },
  {
   "cell_type": "code",
   "execution_count": 62,
   "metadata": {},
   "outputs": [],
   "source": [
    "nObs = go.Scatter(\n",
    "    x = x[start:end],\n",
    "    y = nConc[start:end],\n",
    "    mode = 'markers',\n",
    "    name = 'North '  + variable,\n",
    "    marker=dict(\n",
    "        color= 'red', # 'rgba(204, 204, 204, 0.95)',\n",
    "        line=dict(\n",
    "            color= 'black', #'rgba(217, 217, 217, 1.0)',\n",
    "            width=1,\n",
    "        ),\n",
    "        symbol='circle',\n",
    "        size=10)\n",
    ")\n",
    "\n",
    "vObs = go.Scatter(\n",
    "    x = x[start:end],\n",
    "    y = vConc[start:end],\n",
    "    mode = 'markers',\n",
    "    name = 'Valley ' + variable,\n",
    "    marker=dict(\n",
    "        color= 'green', # 'rgba(204, 204, 204, 0.95)',\n",
    "        line=dict(\n",
    "            color= 'black', #'rgba(217, 217, 217, 1.0)',\n",
    "            width=1,\n",
    "        ),\n",
    "        symbol='circle',\n",
    "        size=10)\n",
    ")\n",
    "\n",
    "sObs = go.Scatter(\n",
    "    x = x[start:end],\n",
    "    y = sConc[start:end],\n",
    "    mode = 'markers',\n",
    "    name = 'South ' + variable,\n",
    "    marker=dict(\n",
    "        color= 'blue', # 'rgba(204, 204, 204, 0.95)',\n",
    "        line=dict(\n",
    "            color= 'black', #'rgba(217, 217, 217, 1.0)',\n",
    "            width=1,\n",
    "        ),\n",
    "        symbol='circle',\n",
    "        size=10)\n",
    ")"
   ]
  },
  {
   "cell_type": "markdown",
   "metadata": {},
   "source": [
    "### Simulated"
   ]
  },
  {
   "cell_type": "code",
   "execution_count": 63,
   "metadata": {},
   "outputs": [],
   "source": [
    "traceN = go.Scatter(\n",
    "    x = x[start:end],\n",
    "    y = simN[start:end],\n",
    "    mode = 'lines',\n",
    "    name = 'North Sim.',\n",
    "    marker=dict(\n",
    "        color= 'red')\n",
    ")\n",
    "\n",
    "traceV = go.Scatter(\n",
    "    x = x[start:end],\n",
    "    y = simV[start:end],\n",
    "    mode = 'lines',\n",
    "    name = 'Valley Sim.',\n",
    "    marker=dict(\n",
    "        color='green')\n",
    ")\n",
    "\n",
    "traceS = go.Scatter(\n",
    "    x = x[start:end],\n",
    "    y = simS[start:end],\n",
    "    mode = 'lines',\n",
    "    name = 'South Sim.',\n",
    "    marker=dict(\n",
    "        color= 'blue')\n",
    ")\n"
   ]
  },
  {
   "cell_type": "code",
   "execution_count": 64,
   "metadata": {},
   "outputs": [],
   "source": [
    "data = [nObs, vObs, sObs, traceN, traceV, traceS]"
   ]
  },
  {
   "cell_type": "code",
   "execution_count": 69,
   "metadata": {},
   "outputs": [],
   "source": [
    "%matplotlib inline\n",
    "import plotlycred\n",
    "\n",
    "online = True\n",
    "if online:\n",
    "    # fig = py.iplot(data) \n",
    "    fig = go.Figure(data=data) # , layout=layout)\n",
    "    py.image.save_as(fig, filename=figname)\n",
    "else:\n",
    "    iplot(data)\n"
   ]
  },
  {
   "cell_type": "code",
   "execution_count": 70,
   "metadata": {},
   "outputs": [
    {
     "data": {
      "image/png": "[encoded data removed]",
      "text/plain": [
       "<IPython.core.display.Image object>"
      ]
     },
     "metadata": {},
     "output_type": "display_data"
    }
   ],
   "source": [
    "from IPython.display import Image\n",
    "if online:\n",
    "    i = Image(figname)\n",
    "    display(i)"
   ]
  }
 ],
 "metadata": {
  "kernelspec": {
   "display_name": "bunny",
   "language": "python",
   "name": "bunny"
  },
  "language_info": {
   "codemirror_mode": {
    "name": "ipython",
    "version": 2
   },
   "file_extension": ".py",
   "mimetype": "text/x-python",
   "name": "python",
   "nbconvert_exporter": "python",
   "pygments_lexer": "ipython2",
   "version": "2.7.14"
  }
 },
 "nbformat": 4,
 "nbformat_minor": 2
}
