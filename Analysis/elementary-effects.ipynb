{
 "cells": [
  {
   "cell_type": "markdown",
   "metadata": {},
   "source": [
    "## Tutorial to compute *Elemenatry Effects*\n",
    "\n",
    "This tutorial is based on the the 1991 Article by Max D. Morris (Factorial Sampling Plans for Preliminary Computational Experiments $Technometrics$, Vol. 33, No. 2 (May, 1991), pp. 161-174.)\n",
    "\n",
    "Stable URL:\n",
    "http://links.jstor.org/sici?sici=0040-1706%28199105%2933%3A2%3C161%3AFSPFPC%3E2.0.CO%3B2-N \n",
    "\n",
    "Technometrics is currently published by American Statistical Association.\n"
   ]
  },
  {
   "cell_type": "code",
   "execution_count": 1,
   "metadata": {
    "collapsed": true
   },
   "outputs": [],
   "source": [
    "import numpy as np"
   ]
  },
  {
   "cell_type": "markdown",
   "metadata": {},
   "source": [
    "## Key concepts\n",
    "\n",
    "1. A large (absolute) measure of central tendency (e.g. mean) for $F_i$ indicates that such input $x_i$ has an important overalll influence on the output $y$.\n",
    "\n",
    "2. A large measure of spread (e.g. standard deviation) for $F_i$ indicates an input $x_i$ whose influence is highly dependent on the values of other inputs $x_j$ (i.e., one inolved with interations or with non-linear effects).  \n",
    "\n",
    "3. Economy of design can be improved if some runs are used in computing more than one elementary effect (in effect, changing two parameters simultaneously). In such a case it is convenient to impose the following restrictions:\n",
    "\n",
    "    $p$ is even; and\n",
    "\n",
    "    $\\Delta = p/(2(p-1)$"
   ]
  },
  {
   "cell_type": "markdown",
   "metadata": {},
   "source": [
    "## Assumptions"
   ]
  },
  {
   "cell_type": "code",
   "execution_count": 13,
   "metadata": {
    "collapsed": true
   },
   "outputs": [],
   "source": [
    "p = 4.0\n",
    "delta = p/(2*(p-1))"
   ]
  },
  {
   "cell_type": "code",
   "execution_count": 14,
   "metadata": {},
   "outputs": [
    {
     "data": {
      "text/plain": [
       "0.6666666666666666"
      ]
     },
     "execution_count": 14,
     "metadata": {},
     "output_type": "execute_result"
    }
   ],
   "source": [
    "delta"
   ]
  },
  {
   "cell_type": "code",
   "execution_count": 15,
   "metadata": {},
   "outputs": [
    {
     "data": {
      "text/plain": [
       "0.6666666666666666"
      ]
     },
     "execution_count": 15,
     "metadata": {},
     "output_type": "execute_result"
    }
   ],
   "source": [
    "num_levels = p\n",
    "grid_jump = 2\n",
    "delta2 = grid_jump/(num_levels - 1)\n",
    "delta2"
   ]
  },
  {
   "cell_type": "markdown",
   "metadata": {},
   "source": [
    "## Definitions\n",
    "\n",
    "$\\omega = $ region of experimentation, which is a regular $k$-dimensional (i.e. number of parameters to test), $p$-level grid (possible values), and where $x_i$:  \n",
    "\n",
    "$x_i = \\{0, 1/(p-1), 2/(p-1),.., 1\\}$\n",
    "\n",
    "Note that $p$ is the length of the $x_i$ vector containing the possible values that $x_i$ can take when building the **base vector**. \n",
    "\n",
    "Distribution (or total number) of *elementary effects* for each parameter $x_i$ is:\n",
    "\n",
    "$F_i = p^{k-1}[p-\\Delta(p-1)]$"
   ]
  },
  {
   "cell_type": "markdown",
   "metadata": {},
   "source": [
    "## Steps\n",
    "\n",
    "### 1. Basic design\n",
    "\n",
    "Select an $m-by-k$ sampling matrix ($m = k+1$), **B**, with elements that are 0's and 1's, with the property that for every column $i=1,2,3,..,k$ there are two rows of **B** that differ only in their $ith$ entries: "
   ]
  },
  {
   "cell_type": "code",
   "execution_count": 20,
   "metadata": {
    "collapsed": true
   },
   "outputs": [],
   "source": [
    "k = 4\n",
    "m = k+1"
   ]
  },
  {
   "cell_type": "code",
   "execution_count": 71,
   "metadata": {
    "collapsed": true
   },
   "outputs": [],
   "source": [
    "B = np.matrix([[0, 0, 0, 0], [1, 0, 0, 0], [1, 1, 0, 0], [1, 1, 1, 0], [1,1,1,1]])"
   ]
  },
  {
   "cell_type": "code",
   "execution_count": 72,
   "metadata": {},
   "outputs": [
    {
     "data": {
      "text/plain": [
       "matrix([[0, 0, 0, 0],\n",
       "        [1, 0, 0, 0],\n",
       "        [1, 1, 0, 0],\n",
       "        [1, 1, 1, 0],\n",
       "        [1, 1, 1, 1]])"
      ]
     },
     "execution_count": 72,
     "metadata": {},
     "output_type": "execute_result"
    }
   ],
   "source": [
    "B"
   ]
  },
  {
   "cell_type": "markdown",
   "metadata": {},
   "source": [
    "$\\Delta$**B** could be used as a design matrix (i.e., each row a value of **x**), for which the experiment would provide $k$ elementary effects, one for each input based **only on *k+1* runs**."
   ]
  },
  {
   "cell_type": "code",
   "execution_count": 73,
   "metadata": {},
   "outputs": [
    {
     "data": {
      "text/plain": [
       "matrix([[ 0.        ,  0.        ,  0.        ,  0.        ],\n",
       "        [ 0.66666667,  0.        ,  0.        ,  0.        ],\n",
       "        [ 0.66666667,  0.66666667,  0.        ,  0.        ],\n",
       "        [ 0.66666667,  0.66666667,  0.66666667,  0.        ],\n",
       "        [ 0.66666667,  0.66666667,  0.66666667,  0.66666667]])"
      ]
     },
     "execution_count": 73,
     "metadata": {},
     "output_type": "execute_result"
    }
   ],
   "source": [
    "delta*B"
   ]
  },
  {
   "cell_type": "markdown",
   "metadata": {},
   "source": [
    "However, $\\Delta$**B** would not however be random selections of $F_1$, $F_2$, ..., $F_k$. "
   ]
  },
  {
   "cell_type": "markdown",
   "metadata": {},
   "source": [
    "### Step 2. Produce a randomized version of the design matrix.\n",
    "\n",
    "- Let **D\\*** be a $k-dimensional$ diagonal matrix in which each each diagonal element is either +1 or -1 with equal probability."
   ]
  },
  {
   "cell_type": "code",
   "execution_count": 74,
   "metadata": {},
   "outputs": [],
   "source": [
    "k=4\n",
    "vec=np.random.choice([-1,1],k)\n",
    "D=np.diag(vec)"
   ]
  },
  {
   "cell_type": "code",
   "execution_count": 75,
   "metadata": {},
   "outputs": [
    {
     "data": {
      "text/plain": [
       "array([[ 1,  0,  0,  0],\n",
       "       [ 0, -1,  0,  0],\n",
       "       [ 0,  0,  1,  0],\n",
       "       [ 0,  0,  0,  1]])"
      ]
     },
     "execution_count": 75,
     "metadata": {},
     "output_type": "execute_result"
    }
   ],
   "source": [
    "D"
   ]
  },
  {
   "cell_type": "markdown",
   "metadata": {},
   "source": [
    "Let **J$_{m,k}$** be the $m-by-k$ matrix of 1's:"
   ]
  },
  {
   "cell_type": "code",
   "execution_count": 76,
   "metadata": {},
   "outputs": [],
   "source": [
    "m = k + 1\n",
    "J = np.ones((m,k))"
   ]
  },
  {
   "cell_type": "code",
   "execution_count": 77,
   "metadata": {},
   "outputs": [
    {
     "data": {
      "text/plain": [
       "array([[ 1.,  1.,  1.,  1.],\n",
       "       [ 1.,  1.,  1.,  1.],\n",
       "       [ 1.,  1.,  1.,  1.],\n",
       "       [ 1.,  1.,  1.,  1.],\n",
       "       [ 1.,  1.,  1.,  1.]])"
      ]
     },
     "execution_count": 77,
     "metadata": {},
     "output_type": "execute_result"
    }
   ],
   "source": [
    "J"
   ]
  },
  {
   "cell_type": "markdown",
   "metadata": {},
   "source": [
    "Let **S** be a randomized sample matrix for the original sampling design matrix **B**, where:\n",
    "\n",
    "$S = \\frac{1}{2}[(2B-J_{m,k})D^*+J_{m,k}]$ "
   ]
  },
  {
   "cell_type": "code",
   "execution_count": 78,
   "metadata": {},
   "outputs": [],
   "source": [
    "S = (1/2)*((2*B-J)*D+J)"
   ]
  },
  {
   "cell_type": "code",
   "execution_count": 79,
   "metadata": {},
   "outputs": [
    {
     "data": {
      "text/plain": [
       "matrix([[ 0.,  1.,  0.,  0.],\n",
       "        [ 1.,  1.,  0.,  0.],\n",
       "        [ 1.,  0.,  0.,  0.],\n",
       "        [ 1.,  0.,  1.,  0.],\n",
       "        [ 1.,  0.,  1.,  1.]])"
      ]
     },
     "execution_count": 79,
     "metadata": {},
     "output_type": "execute_result"
    }
   ],
   "source": [
    "S"
   ]
  },
  {
   "cell_type": "markdown",
   "metadata": {},
   "source": [
    "### Step 3. Select a random base vector **x**. \n",
    "\n",
    "Let **x\\*** be a randomly chosen \"base value\" of **x** for each element is randomly assigned a value from $x_i=\\{0, 1/(p-1), 2/(p-1), ...,1-\\Delta\\}$"
   ]
  },
  {
   "cell_type": "code",
   "execution_count": 97,
   "metadata": {},
   "outputs": [
    {
     "data": {
      "text/plain": [
       "[0.0, 0.3333333333333333, 0.6666666666666666]"
      ]
     },
     "execution_count": 97,
     "metadata": {},
     "output_type": "execute_result"
    }
   ],
   "source": [
    "xi = []\n",
    "for i in range(p):\n",
    "    xi.append(i/(p-1))\n",
    "xi.pop()\n",
    "xi"
   ]
  },
  {
   "cell_type": "markdown",
   "metadata": {},
   "source": [
    "## Step 4. Random permutation \n",
    "\n",
    "Let **P\\*** be a random k-by-k permutation matrix in which each column contains one element equal to 1 and all others equal to 0 AND no two columns have 1's in the same position. "
   ]
  },
  {
   "cell_type": "code",
   "execution_count": 98,
   "metadata": {},
   "outputs": [
    {
     "data": {
      "text/plain": [
       "matrix([[1, 0, 0, 0],\n",
       "        [0, 1, 0, 0],\n",
       "        [0, 0, 0, 1],\n",
       "        [0, 0, 1, 0]])"
      ]
     },
     "execution_count": 98,
     "metadata": {},
     "output_type": "execute_result"
    }
   ],
   "source": [
    "# P = np.random.choice([0,1],(k,k))\n",
    "P = np.matrix([[1, 0, 0, 0], [0, 1, 0, 0], [0, 0, 0, 1], [0, 0, 1, 0]])\n",
    "P"
   ]
  },
  {
   "cell_type": "code",
   "execution_count": 99,
   "metadata": {},
   "outputs": [
    {
     "data": {
      "text/plain": [
       "array([[ 0.        ,  0.33333333,  0.66666667],\n",
       "       [ 0.        ,  0.33333333,  0.66666667],\n",
       "       [ 0.        ,  0.33333333,  0.66666667],\n",
       "       [ 0.        ,  0.33333333,  0.66666667],\n",
       "       [ 0.        ,  0.33333333,  0.66666667]])"
      ]
     },
     "execution_count": 99,
     "metadata": {},
     "output_type": "execute_result"
    }
   ],
   "source": [
    "Jm1 = np.ones((m,1))\n",
    "Jm1*xi"
   ]
  },
  {
   "cell_type": "code",
   "execution_count": 100,
   "metadata": {},
   "outputs": [
    {
     "ename": "ValueError",
     "evalue": "operands could not be broadcast together with shapes (5,3) (5,4) ",
     "output_type": "error",
     "traceback": [
      "\u001b[0;31m---------------------------------------------------------------------------\u001b[0m",
      "\u001b[0;31mValueError\u001b[0m                                Traceback (most recent call last)",
      "\u001b[0;32m<ipython-input-100-21abe8c2ff50>\u001b[0m in \u001b[0;36m<module>\u001b[0;34m()\u001b[0m\n\u001b[0;32m----> 1\u001b[0;31m \u001b[0mBs\u001b[0m \u001b[0;34m=\u001b[0m \u001b[0;34m(\u001b[0m\u001b[0mJm1\u001b[0m\u001b[0;34m*\u001b[0m\u001b[0mxi\u001b[0m \u001b[0;34m+\u001b[0m \u001b[0;34m(\u001b[0m\u001b[0mdelta\u001b[0m\u001b[0;34m/\u001b[0m\u001b[0;36m2\u001b[0m\u001b[0;34m)\u001b[0m\u001b[0;34m*\u001b[0m\u001b[0;34m(\u001b[0m\u001b[0;34m(\u001b[0m\u001b[0;36m2\u001b[0m\u001b[0;34m*\u001b[0m\u001b[0mB\u001b[0m\u001b[0;34m-\u001b[0m\u001b[0mJ\u001b[0m\u001b[0;34m)\u001b[0m\u001b[0;34m*\u001b[0m\u001b[0mD\u001b[0m\u001b[0;34m+\u001b[0m\u001b[0mJ\u001b[0m\u001b[0;34m)\u001b[0m\u001b[0;34m)\u001b[0m\u001b[0;34m*\u001b[0m\u001b[0mP\u001b[0m\u001b[0;34m\u001b[0m\u001b[0m\n\u001b[0m\u001b[1;32m      2\u001b[0m \u001b[0mBs\u001b[0m\u001b[0;34m\u001b[0m\u001b[0m\n",
      "\u001b[0;31mValueError\u001b[0m: operands could not be broadcast together with shapes (5,3) (5,4) "
     ]
    }
   ],
   "source": [
    "Bs = (Jm1*xi + (delta/2)*((2*B-J)*D+J))*P\n",
    "Bs    "
   ]
  },
  {
   "cell_type": "markdown",
   "metadata": {},
   "source": [
    "## Questions\n",
    "\n",
    "### General\n",
    "\n",
    "1. Is knowing what a unit hypercube necessary?\n",
    "\n",
    "### Random  Sampling\n",
    "\n",
    "1. The mean for $F_i$ is drawn by changing the parameter $x_i$ only by $\\Delta$ while changing (or not) other parameters $x_j$ (also by $\\Delta$).\n",
    "\n",
    "From this I understand that we cannot derive information of the exact effect of parameter $x_i$ on $y$, but rather the mean effect of $x_i$ on $y$. \n",
    "\n",
    "To calculate $F_i$ one would need to extract all the runs where and elementary effect was obtained by adding $\\Delta$ to $x_i$, while excluding all other runs where $x_i$ did not change from the base vector. \n"
   ]
  },
  {
   "cell_type": "code",
   "execution_count": null,
   "metadata": {
    "collapsed": true
   },
   "outputs": [],
   "source": []
  },
  {
   "cell_type": "markdown",
   "metadata": {},
   "source": []
  },
  {
   "cell_type": "code",
   "execution_count": null,
   "metadata": {
    "collapsed": true
   },
   "outputs": [],
   "source": []
  }
 ],
 "metadata": {
  "kernelspec": {
   "display_name": "Python 2",
   "language": "python",
   "name": "python2"
  },
  "language_info": {
   "codemirror_mode": {
    "name": "ipython",
    "version": 2
   },
   "file_extension": ".py",
   "mimetype": "text/x-python",
   "name": "python",
   "nbconvert_exporter": "python",
   "pygments_lexer": "ipython2",
   "version": "2.7.12"
  }
 },
 "nbformat": 4,
 "nbformat_minor": 1
}
