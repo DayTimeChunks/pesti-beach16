{
 "cells": [
  {
   "cell_type": "markdown",
   "metadata": {},
   "source": [
    "## Tutorial to compute *Elemenatry Effects*\n",
    "\n",
    "This tutorial is based on the the 1991 Article by Max D. Morris (Factorial Sampling Plans for Preliminary Computational Experiments $Technometrics$, Vol. 33, No. 2 (May, 1991), pp. 161-174.)\n",
    "\n",
    "Stable URL:\n",
    "http://links.jstor.org/sici?sici=0040-1706%28199105%2933%3A2%3C161%3AFSPFPC%3E2.0.CO%3B2-N \n",
    "\n",
    "Technometrics is currently published by American Statistical Association.\n"
   ]
  },
  {
   "cell_type": "code",
   "execution_count": 1,
   "metadata": {
    "collapsed": true
   },
   "outputs": [],
   "source": [
    "import numpy as np"
   ]
  },
  {
   "cell_type": "markdown",
   "metadata": {},
   "source": [
    "## Key concepts\n",
    "\n",
    "1. A large (absolute) measure of central tendency (e.g. mean) for $F_i$ indicates that such input $x_i$ has an important overalll influence on the output $y$.\n",
    "\n",
    "2. A large measure of spread (e.g. standard deviation) for $F_i$ indicates an input $x_i$ whose influence is highly dependent on the values of other inputs $x_j$ (i.e., one inolved with interations or with non-linear effects).  \n",
    "\n",
    "3. Economy of design can be improved if some runs are used in computing more than one elementary effect (in effect, changing two parameters simultaneously). In such a case it is convenient to impose the following restrictions:\n",
    "\n",
    "    $p$ is even; and\n",
    "\n",
    "    $\\Delta = p/(2(p-1)$"
   ]
  },
  {
   "cell_type": "markdown",
   "metadata": {},
   "source": [
    "## Assumptions"
   ]
  },
  {
   "cell_type": "code",
   "execution_count": 62,
   "metadata": {
    "collapsed": true
   },
   "outputs": [],
   "source": [
    "p = 4\n",
    "delta = p/(2*(p-1))"
   ]
  },
  {
   "cell_type": "code",
   "execution_count": 61,
   "metadata": {
    "collapsed": false
   },
   "outputs": [
    {
     "data": {
      "text/plain": [
       "0.6666666666666666"
      ]
     },
     "execution_count": 61,
     "metadata": {},
     "output_type": "execute_result"
    }
   ],
   "source": [
    "delta"
   ]
  },
  {
   "cell_type": "markdown",
   "metadata": {},
   "source": [
    "## Definitions\n",
    "\n",
    "$\\omega = $ region of experimentation, which is a regular $k$-dimensional (i.e. number of parameters to test), $p$-level grid (possible values), and where $x_i$:  \n",
    "\n",
    "$x_i = \\{0, 1/(p-1), 2/(p-1),.., 1\\}$\n",
    "\n",
    "Note that $p$ is the length of the $x_i$ vector containing the possible values that $x_i$ can take when building the **base vector**. \n",
    "\n",
    "Distribution (or total number) of *elementary effects* for each parameter $x_i$ is:\n",
    "\n",
    "$F_i = p^{k-1}[p-\\Delta(p-1)]$"
   ]
  },
  {
   "cell_type": "markdown",
   "metadata": {},
   "source": [
    "## Steps\n",
    "\n",
    "### 1. Basic design\n",
    "\n",
    "Select an $m-by-k$ sampling matrix ($m = k+1$), **B**, with elements that are 0's and 1's, with the property that for every column $i=1,2,3,..,k$ there are two rows of **B** that differ only in their $ith$ entries: "
   ]
  },
  {
   "cell_type": "code",
   "execution_count": 6,
   "metadata": {
    "collapsed": true
   },
   "outputs": [],
   "source": [
    "B = np.matrix([[0, 0, 0], [1, 0, 0], [1, 1, 0], [1, 1, 1]])"
   ]
  },
  {
   "cell_type": "code",
   "execution_count": 7,
   "metadata": {
    "collapsed": false
   },
   "outputs": [
    {
     "data": {
      "text/plain": [
       "matrix([[0, 0, 0],\n",
       "        [1, 0, 0],\n",
       "        [1, 1, 0],\n",
       "        [1, 1, 1]])"
      ]
     },
     "execution_count": 7,
     "metadata": {},
     "output_type": "execute_result"
    }
   ],
   "source": [
    "B"
   ]
  },
  {
   "cell_type": "markdown",
   "metadata": {},
   "source": [
    "$\\Delta$**B** could be used as a design matrix (i.e., each row a value of **x**), for which the experiment would provide $k$ elementary effects, one for each input based **only on *k+1* runs**."
   ]
  },
  {
   "cell_type": "markdown",
   "metadata": {},
   "source": [
    "### Step 2. Produce a randomized version of the design matrix.\n",
    "\n",
    "- Let **D\\*** be a $k-dimensional$ diagonal matrix in which each each diagonal element is either +1 or -1 with equal probability."
   ]
  },
  {
   "cell_type": "code",
   "execution_count": 46,
   "metadata": {
    "collapsed": false
   },
   "outputs": [],
   "source": [
    "k=3\n",
    "vec=np.random.choice([-1,1],k)\n",
    "D=np.diag(vec)"
   ]
  },
  {
   "cell_type": "code",
   "execution_count": 47,
   "metadata": {
    "collapsed": false
   },
   "outputs": [
    {
     "data": {
      "text/plain": [
       "array([[-1,  0,  0],\n",
       "       [ 0,  1,  0],\n",
       "       [ 0,  0, -1]])"
      ]
     },
     "execution_count": 47,
     "metadata": {},
     "output_type": "execute_result"
    }
   ],
   "source": [
    "D"
   ]
  },
  {
   "cell_type": "markdown",
   "metadata": {},
   "source": [
    "Let **J$_{m,k}$** be the $m-by-k$ matrix of 1's:"
   ]
  },
  {
   "cell_type": "code",
   "execution_count": 41,
   "metadata": {
    "collapsed": false
   },
   "outputs": [],
   "source": [
    "m = k + 1\n",
    "J = np.ones((m,k))"
   ]
  },
  {
   "cell_type": "code",
   "execution_count": 43,
   "metadata": {
    "collapsed": false
   },
   "outputs": [
    {
     "data": {
      "text/plain": [
       "array([[ 1.,  1.,  1.],\n",
       "       [ 1.,  1.,  1.],\n",
       "       [ 1.,  1.,  1.],\n",
       "       [ 1.,  1.,  1.]])"
      ]
     },
     "execution_count": 43,
     "metadata": {},
     "output_type": "execute_result"
    }
   ],
   "source": [
    "J"
   ]
  },
  {
   "cell_type": "markdown",
   "metadata": {},
   "source": [
    "Let **S** be a randomized sample matrix for the original sampling design matrix **B**, where:\n",
    "\n",
    "$S = \\frac{1}{2}[(2B-J_{m,k})D^*+J_{m,k}]$ "
   ]
  },
  {
   "cell_type": "code",
   "execution_count": 52,
   "metadata": {
    "collapsed": false
   },
   "outputs": [],
   "source": [
    "S = (1/2)*((2*B-J)*D+J)"
   ]
  },
  {
   "cell_type": "code",
   "execution_count": 53,
   "metadata": {
    "collapsed": false
   },
   "outputs": [
    {
     "data": {
      "text/plain": [
       "matrix([[ 1.,  0.,  1.],\n",
       "        [ 0.,  0.,  1.],\n",
       "        [ 0.,  1.,  1.],\n",
       "        [ 0.,  1.,  0.]])"
      ]
     },
     "execution_count": 53,
     "metadata": {},
     "output_type": "execute_result"
    }
   ],
   "source": [
    "S"
   ]
  },
  {
   "cell_type": "markdown",
   "metadata": {},
   "source": [
    "### Step 3. Select a random base vector **x**. \n",
    "\n",
    "Let **x\\*** be a randomly chosen \"base value\" of **x** for each element is randomly assigned a value from $x_i=\\{0, 1/(p-1), 2/(p-1), ...,1-\\Delta\\}$"
   ]
  },
  {
   "cell_type": "code",
   "execution_count": 70,
   "metadata": {
    "collapsed": false
   },
   "outputs": [
    {
     "data": {
      "text/plain": [
       "[0.0, 0.3333333333333333, 0.6666666666666666, 1.0]"
      ]
     },
     "execution_count": 70,
     "metadata": {},
     "output_type": "execute_result"
    }
   ],
   "source": [
    "xi = []\n",
    "for i in range(p):\n",
    "    xi.append(i/(p-1))\n",
    "xi"
   ]
  },
  {
   "cell_type": "markdown",
   "metadata": {},
   "source": [
    "## Questions\n",
    "\n",
    "### General\n",
    "\n",
    "1. Is knowing what a unit hypercube necessary?\n",
    "\n",
    "### Random  Sampling\n",
    "\n",
    "1. The mean for $F_i$ is drawn by changing the parameter $x_i$ only by $\\Delta$ while changing (or not) other parameters $x_j$ (also by $\\Delta$).\n",
    "\n",
    "From this I understand that we cannot derive information of the exact effect of parameter $x_i$ on $y$, but rather the mean effect of $x_i$ on $y$. \n",
    "\n",
    "To calculate $F_i$ one would need to extract all the runs where and elementary effect was obtained by adding $\\Delta$ to $x_i$, while excluding all other runs where $x_i$ did not change from the base vector. \n"
   ]
  },
  {
   "cell_type": "code",
   "execution_count": null,
   "metadata": {
    "collapsed": true
   },
   "outputs": [],
   "source": []
  },
  {
   "cell_type": "markdown",
   "metadata": {},
   "source": []
  },
  {
   "cell_type": "code",
   "execution_count": null,
   "metadata": {
    "collapsed": true
   },
   "outputs": [],
   "source": []
  }
 ],
 "metadata": {
  "kernelspec": {
   "display_name": "Python 3",
   "language": "python",
   "name": "python3"
  },
  "language_info": {
   "codemirror_mode": {
    "name": "ipython",
    "version": 3
   },
   "file_extension": ".py",
   "mimetype": "text/x-python",
   "name": "python",
   "nbconvert_exporter": "python",
   "pygments_lexer": "ipython3",
   "version": "3.5.2"
  }
 },
 "nbformat": 4,
 "nbformat_minor": 0
}
