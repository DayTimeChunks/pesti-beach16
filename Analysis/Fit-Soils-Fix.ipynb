{
 "cells": [
  {
   "cell_type": "code",
   "execution_count": 1,
   "metadata": {},
   "outputs": [
    {
     "data": {
      "text/html": [
       "<script>requirejs.config({paths: { 'plotly': ['https://cdn.plot.ly/plotly-latest.min']},});if(!window.Plotly) {{require(['plotly'],function(plotly) {window.Plotly=plotly;});}}</script>"
      ],
      "text/vnd.plotly.v1+html": [
       "<script>requirejs.config({paths: { 'plotly': ['https://cdn.plot.ly/plotly-latest.min']},});if(!window.Plotly) {{require(['plotly'],function(plotly) {window.Plotly=plotly;});}}</script>"
      ]
     },
     "metadata": {},
     "output_type": "display_data"
    },
    {
     "name": "stdout",
     "output_type": "stream",
     "text": [
      "2016\n",
      "/Users/DayTightChunks/Documents/PhD/Models/phd-model-master/Analysis\n"
     ]
    }
   ],
   "source": [
    "import datetime\n",
    "import os\n",
    "import numpy as np\n",
    "import plotly.plotly as py\n",
    "from plotly.offline import download_plotlyjs, init_notebook_mode, plot, iplot\n",
    "from plotly.graph_objs import *\n",
    "import plotly.graph_objs as go\n",
    "init_notebook_mode(connected=True)\n",
    "\n",
    "from obs_data import *\n",
    "from plotlyFunctions import *\n",
    "\n",
    "print(os.getcwd())"
   ]
  },
  {
   "cell_type": "markdown",
   "metadata": {},
   "source": [
    "### Path and working computer"
   ]
  },
  {
   "cell_type": "code",
   "execution_count": 2,
   "metadata": {},
   "outputs": [],
   "source": [
    "PC = False\n",
    "analysis = False\n",
    "short_sim = True\n",
    "version = \"mFix_v1\"\n",
    "folder = \"1\"\n",
    "timestamp = 'julian'"
   ]
  },
  {
   "cell_type": "code",
   "execution_count": 3,
   "metadata": {},
   "outputs": [
    {
     "name": "stdout",
     "output_type": "stream",
     "text": [
      "../mFix_v1/\n"
     ]
    }
   ],
   "source": [
    "# Path to simulated folder\n",
    "if analysis:\n",
    "    dot = '.'\n",
    "else:\n",
    "    dot = '..'\n",
    "\n",
    "# Working computer\n",
    "if PC:\n",
    "    back = \"\\\\\"  \n",
    "    sim_path = version + back  \n",
    "else:\n",
    "    back = \"/\"\n",
    "    sim_path = dot + back + version + back    \n",
    "    \n",
    "print(sim_path)"
   ]
  },
  {
   "cell_type": "code",
   "execution_count": 4,
   "metadata": {},
   "outputs": [],
   "source": [
    "# Function to add column ID, with first letter capitalized.\n",
    "def newlabel(row, plot):\n",
    "    return plot.capitalize() + '-' + str(int(row['Jdays']))"
   ]
  },
  {
   "cell_type": "code",
   "execution_count": 5,
   "metadata": {},
   "outputs": [],
   "source": [
    "# TODO: Change t -> v (also in the observed data: 0.2_XYcalibrationSoils.Rmd)\n",
    "detail_plots = ['n1', 'n2', 'n3', 'n4', 'n5', 'n7', 'n8',\n",
    "                'v4', 'v5', 'v7', 'v8', 'v9', \n",
    "                's11', 's12', 's13']\n",
    "\n",
    "sample_comp = ['nor', 'val', 'sou']"
   ]
  },
  {
   "cell_type": "markdown",
   "metadata": {},
   "source": [
    "## Concentrations"
   ]
  },
  {
   "cell_type": "code",
   "execution_count": 6,
   "metadata": {},
   "outputs": [],
   "source": [
    "variable = 'CONC'\n",
    "name_obs = 'conc_det_cal'\n",
    "matches = []\n",
    "for sample in range(len(detail_plots)):\n",
    "    plot = detail_plots[sample]\n",
    "    filename = \"resM_\" + plot + variable + \".tss\"\n",
    "    det_sim = pd.read_table(sim_path + folder + back + filename, \n",
    "                                skiprows=4, delim_whitespace=True,\n",
    "                                names=['Jdays', 'SIM'],\n",
    "                                header=None)\n",
    "    # Add ID\n",
    "    det_sim['IDcal'] = det_sim.apply (lambda row: newlabel (row, plot),axis=1) \n",
    "    n = getSoilDataCal(name_obs, tss=True)\n",
    "    match = pd.merge(n, det_sim, how='inner', on='IDcal')\n",
    "    matches.append(match)\n",
    "\n",
    "# Concatenate detailed\n",
    "conc_det_dat = pd.concat(matches)\n",
    "\n",
    "# Prepare composites and concatenate\n",
    "variable = 'CONC'\n",
    "name_obs = 'conc_comp_cal'\n",
    "matches = []\n",
    "for sample in range(len(sample_comp)):\n",
    "    plot = sample_comp[sample]\n",
    "    filename = \"resM_\" + plot + variable + \".tss\"\n",
    "    det_sim = pd.read_table(sim_path + folder + back + filename, \n",
    "                                skiprows=4, delim_whitespace=True,\n",
    "                                names=['Jdays', 'SIM'],\n",
    "                                header=None)\n",
    "    # Add ID (remove after running model)\n",
    "    if sample == 1:\n",
    "        label = \"T\"\n",
    "    else:\n",
    "        label = plot[0]\n",
    "        \n",
    "    det_sim['IDcal'] = det_sim.apply (lambda row: newlabel (row, label),axis=1) \n",
    "    n = getSoilDataCal(name_obs, tss=True)\n",
    "    match = pd.merge(n, det_sim, how='inner', on='IDcal')\n",
    "    matches.append(match)\n",
    "    \n",
    "# Concatenate composites\n",
    "conc_comp_dat = pd.concat(matches)\n",
    "\n",
    "conc_dat = pd.concat([conc_det_dat, conc_comp_dat])"
   ]
  },
  {
   "cell_type": "code",
   "execution_count": 7,
   "metadata": {},
   "outputs": [
    {
     "data": {
      "text/html": [
       "<div>\n",
       "<style scoped>\n",
       "    .dataframe tbody tr th:only-of-type {\n",
       "        vertical-align: middle;\n",
       "    }\n",
       "\n",
       "    .dataframe tbody tr th {\n",
       "        vertical-align: top;\n",
       "    }\n",
       "\n",
       "    .dataframe thead th {\n",
       "        text-align: right;\n",
       "    }\n",
       "</style>\n",
       "<table border=\"1\" class=\"dataframe\">\n",
       "  <thead>\n",
       "    <tr style=\"text-align: right;\">\n",
       "      <th></th>\n",
       "      <th>IDcal</th>\n",
       "      <th>Jdays_x</th>\n",
       "      <th>Jdays_y</th>\n",
       "      <th>SIM</th>\n",
       "      <th>Transect</th>\n",
       "      <th>ug.g</th>\n",
       "      <th>ug.g.SD</th>\n",
       "    </tr>\n",
       "  </thead>\n",
       "  <tbody>\n",
       "    <tr>\n",
       "      <th>0</th>\n",
       "      <td>N1-181</td>\n",
       "      <td>181</td>\n",
       "      <td>181</td>\n",
       "      <td>0.05728</td>\n",
       "      <td>N</td>\n",
       "      <td>0.071209</td>\n",
       "      <td>NaN</td>\n",
       "    </tr>\n",
       "    <tr>\n",
       "      <th>1</th>\n",
       "      <td>N1-286</td>\n",
       "      <td>286</td>\n",
       "      <td>286</td>\n",
       "      <td>4.69364</td>\n",
       "      <td>N</td>\n",
       "      <td>4.289449</td>\n",
       "      <td>NaN</td>\n",
       "    </tr>\n",
       "    <tr>\n",
       "      <th>0</th>\n",
       "      <td>N2-181</td>\n",
       "      <td>181</td>\n",
       "      <td>181</td>\n",
       "      <td>7.14343</td>\n",
       "      <td>N</td>\n",
       "      <td>4.710027</td>\n",
       "      <td>NaN</td>\n",
       "    </tr>\n",
       "    <tr>\n",
       "      <th>1</th>\n",
       "      <td>N2-225</td>\n",
       "      <td>225</td>\n",
       "      <td>225</td>\n",
       "      <td>2.62046</td>\n",
       "      <td>N</td>\n",
       "      <td>4.781827</td>\n",
       "      <td>NaN</td>\n",
       "    </tr>\n",
       "    <tr>\n",
       "      <th>2</th>\n",
       "      <td>N2-272</td>\n",
       "      <td>272</td>\n",
       "      <td>272</td>\n",
       "      <td>1.26034</td>\n",
       "      <td>N</td>\n",
       "      <td>0.776233</td>\n",
       "      <td>NaN</td>\n",
       "    </tr>\n",
       "  </tbody>\n",
       "</table>\n",
       "</div>"
      ],
      "text/plain": [
       "    IDcal  Jdays_x  Jdays_y      SIM Transect      ug.g  ug.g.SD\n",
       "0  N1-181      181      181  0.05728        N  0.071209      NaN\n",
       "1  N1-286      286      286  4.69364        N  4.289449      NaN\n",
       "0  N2-181      181      181  7.14343        N  4.710027      NaN\n",
       "1  N2-225      225      225  2.62046        N  4.781827      NaN\n",
       "2  N2-272      272      272  1.26034        N  0.776233      NaN"
      ]
     },
     "execution_count": 7,
     "metadata": {},
     "output_type": "execute_result"
    }
   ],
   "source": [
    "conc_dat.head()"
   ]
  },
  {
   "cell_type": "markdown",
   "metadata": {},
   "source": [
    "## Delta"
   ]
  },
  {
   "cell_type": "code",
   "execution_count": 8,
   "metadata": {},
   "outputs": [],
   "source": [
    "variable = 'd13C'\n",
    "name_obs = 'delta_det_cal'\n",
    "matches = []\n",
    "for sample in range(len(detail_plots)):\n",
    "    plot = detail_plots[sample]\n",
    "    filename = \"resM_\" + plot + variable + \".tss\"\n",
    "    det_sim = pd.read_table(sim_path + folder + back + filename, \n",
    "                                skiprows=4, delim_whitespace=True,\n",
    "                                names=['Jdays', 'SIM'],\n",
    "                                header=None)\n",
    "    # Add ID\n",
    "    det_sim['IDcal'] = det_sim.apply (lambda row: newlabel (row, plot),axis=1) \n",
    "    n = getSoilDataCal(name_obs, tss=True)\n",
    "    match = pd.merge(n, det_sim, how='inner', on='IDcal')\n",
    "    matches.append(match)\n",
    "    \n",
    "delta_det_dat = pd.concat(matches)\n",
    "\n",
    "variable = 'd13C'\n",
    "name_obs = 'delta_comp_cal'\n",
    "matches = []\n",
    "for sample in range(len(sample_comp)):\n",
    "    plot = sample_comp[sample]\n",
    "    filename = \"resM_\" + plot + variable + \".tss\"\n",
    "    det_sim = pd.read_table(sim_path + folder + back + filename, \n",
    "                                skiprows=4, delim_whitespace=True,\n",
    "                                names=['Jdays', 'SIM'],\n",
    "                                header=None)\n",
    "    # Add ID (remove after running model)\n",
    "    if sample == 1:\n",
    "        label = \"T\"\n",
    "    else:\n",
    "        label = plot[0]\n",
    "        \n",
    "    det_sim['IDcal'] = det_sim.apply (lambda row: newlabel (row, label),axis=1) \n",
    "    n = getSoilDataCal(name_obs, tss=True)\n",
    "    match = pd.merge(n, det_sim, how='inner', on='IDcal')\n",
    "    matches.append(match)\n",
    "    \n",
    "delta_comp_dat = pd.concat(matches)\n",
    "\n",
    "delta_dat = pd.concat([delta_det_dat, delta_comp_dat])"
   ]
  },
  {
   "cell_type": "code",
   "execution_count": 9,
   "metadata": {},
   "outputs": [
    {
     "data": {
      "text/html": [
       "<div>\n",
       "<style scoped>\n",
       "    .dataframe tbody tr th:only-of-type {\n",
       "        vertical-align: middle;\n",
       "    }\n",
       "\n",
       "    .dataframe tbody tr th {\n",
       "        vertical-align: top;\n",
       "    }\n",
       "\n",
       "    .dataframe thead th {\n",
       "        text-align: right;\n",
       "    }\n",
       "</style>\n",
       "<table border=\"1\" class=\"dataframe\">\n",
       "  <thead>\n",
       "    <tr style=\"text-align: right;\">\n",
       "      <th></th>\n",
       "      <th>Jdays_x</th>\n",
       "      <th>Transect</th>\n",
       "      <th>IDcal</th>\n",
       "      <th>d13C</th>\n",
       "      <th>d13C.SD</th>\n",
       "      <th>Jdays_y</th>\n",
       "      <th>SIM</th>\n",
       "    </tr>\n",
       "  </thead>\n",
       "  <tbody>\n",
       "    <tr>\n",
       "      <th>6</th>\n",
       "      <td>230</td>\n",
       "      <td>S</td>\n",
       "      <td>S-230</td>\n",
       "      <td>-29.466667</td>\n",
       "      <td>0.642910</td>\n",
       "      <td>230</td>\n",
       "      <td>-31.3669</td>\n",
       "    </tr>\n",
       "    <tr>\n",
       "      <th>7</th>\n",
       "      <td>244</td>\n",
       "      <td>S</td>\n",
       "      <td>S-244</td>\n",
       "      <td>-28.633333</td>\n",
       "      <td>0.288675</td>\n",
       "      <td>244</td>\n",
       "      <td>-31.2651</td>\n",
       "    </tr>\n",
       "    <tr>\n",
       "      <th>8</th>\n",
       "      <td>251</td>\n",
       "      <td>S</td>\n",
       "      <td>S-251</td>\n",
       "      <td>-28.933333</td>\n",
       "      <td>0.152753</td>\n",
       "      <td>251</td>\n",
       "      <td>-31.2282</td>\n",
       "    </tr>\n",
       "    <tr>\n",
       "      <th>9</th>\n",
       "      <td>258</td>\n",
       "      <td>S</td>\n",
       "      <td>S-258</td>\n",
       "      <td>-27.600000</td>\n",
       "      <td>0.435890</td>\n",
       "      <td>258</td>\n",
       "      <td>-31.1982</td>\n",
       "    </tr>\n",
       "    <tr>\n",
       "      <th>10</th>\n",
       "      <td>265</td>\n",
       "      <td>S</td>\n",
       "      <td>S-265</td>\n",
       "      <td>-28.166667</td>\n",
       "      <td>0.378594</td>\n",
       "      <td>265</td>\n",
       "      <td>-31.1740</td>\n",
       "    </tr>\n",
       "  </tbody>\n",
       "</table>\n",
       "</div>"
      ],
      "text/plain": [
       "    Jdays_x Transect  IDcal       d13C   d13C.SD  Jdays_y      SIM\n",
       "6       230        S  S-230 -29.466667  0.642910      230 -31.3669\n",
       "7       244        S  S-244 -28.633333  0.288675      244 -31.2651\n",
       "8       251        S  S-251 -28.933333  0.152753      251 -31.2282\n",
       "9       258        S  S-258 -27.600000  0.435890      258 -31.1982\n",
       "10      265        S  S-265 -28.166667  0.378594      265 -31.1740"
      ]
     },
     "execution_count": 9,
     "metadata": {},
     "output_type": "execute_result"
    }
   ],
   "source": [
    "delta_dat.tail()"
   ]
  },
  {
   "cell_type": "markdown",
   "metadata": {},
   "source": []
  },
  {
   "cell_type": "markdown",
   "metadata": {},
   "source": [
    "## Plotting"
   ]
  },
  {
   "cell_type": "markdown",
   "metadata": {},
   "source": [
    "### Concentrations"
   ]
  },
  {
   "cell_type": "code",
   "execution_count": 10,
   "metadata": {},
   "outputs": [
    {
     "data": {
      "text/html": [
       "<div>\n",
       "<style scoped>\n",
       "    .dataframe tbody tr th:only-of-type {\n",
       "        vertical-align: middle;\n",
       "    }\n",
       "\n",
       "    .dataframe tbody tr th {\n",
       "        vertical-align: top;\n",
       "    }\n",
       "\n",
       "    .dataframe thead th {\n",
       "        text-align: right;\n",
       "    }\n",
       "</style>\n",
       "<table border=\"1\" class=\"dataframe\">\n",
       "  <thead>\n",
       "    <tr style=\"text-align: right;\">\n",
       "      <th></th>\n",
       "      <th>IDcal</th>\n",
       "      <th>Jdays_x</th>\n",
       "      <th>Jdays_y</th>\n",
       "      <th>SIM</th>\n",
       "      <th>Transect</th>\n",
       "      <th>ug.g</th>\n",
       "      <th>ug.g.SD</th>\n",
       "    </tr>\n",
       "  </thead>\n",
       "  <tbody>\n",
       "    <tr>\n",
       "      <th>0</th>\n",
       "      <td>N1-181</td>\n",
       "      <td>181</td>\n",
       "      <td>181</td>\n",
       "      <td>0.05728</td>\n",
       "      <td>N</td>\n",
       "      <td>0.071209</td>\n",
       "      <td>NaN</td>\n",
       "    </tr>\n",
       "    <tr>\n",
       "      <th>1</th>\n",
       "      <td>N1-286</td>\n",
       "      <td>286</td>\n",
       "      <td>286</td>\n",
       "      <td>4.69364</td>\n",
       "      <td>N</td>\n",
       "      <td>4.289449</td>\n",
       "      <td>NaN</td>\n",
       "    </tr>\n",
       "    <tr>\n",
       "      <th>0</th>\n",
       "      <td>N2-181</td>\n",
       "      <td>181</td>\n",
       "      <td>181</td>\n",
       "      <td>7.14343</td>\n",
       "      <td>N</td>\n",
       "      <td>4.710027</td>\n",
       "      <td>NaN</td>\n",
       "    </tr>\n",
       "    <tr>\n",
       "      <th>1</th>\n",
       "      <td>N2-225</td>\n",
       "      <td>225</td>\n",
       "      <td>225</td>\n",
       "      <td>2.62046</td>\n",
       "      <td>N</td>\n",
       "      <td>4.781827</td>\n",
       "      <td>NaN</td>\n",
       "    </tr>\n",
       "    <tr>\n",
       "      <th>2</th>\n",
       "      <td>N2-272</td>\n",
       "      <td>272</td>\n",
       "      <td>272</td>\n",
       "      <td>1.26034</td>\n",
       "      <td>N</td>\n",
       "      <td>0.776233</td>\n",
       "      <td>NaN</td>\n",
       "    </tr>\n",
       "  </tbody>\n",
       "</table>\n",
       "</div>"
      ],
      "text/plain": [
       "    IDcal  Jdays_x  Jdays_y      SIM Transect      ug.g  ug.g.SD\n",
       "0  N1-181      181      181  0.05728        N  0.071209      NaN\n",
       "1  N1-286      286      286  4.69364        N  4.289449      NaN\n",
       "0  N2-181      181      181  7.14343        N  4.710027      NaN\n",
       "1  N2-225      225      225  2.62046        N  4.781827      NaN\n",
       "2  N2-272      272      272  1.26034        N  0.776233      NaN"
      ]
     },
     "execution_count": 10,
     "metadata": {},
     "output_type": "execute_result"
    }
   ],
   "source": [
    "conc_dat.head()"
   ]
  },
  {
   "cell_type": "code",
   "execution_count": 11,
   "metadata": {},
   "outputs": [
    {
     "data": {
      "application/vnd.plotly.v1+json": {
       "data": [
        {
         "marker": {
          "color": "grey",
          "opacity": 0.9
         },
         "mode": "lines",
         "type": "scatter",
         "x": [
          0,
          26.436545199999998
         ],
         "y": [
          0,
          26.436545199999998
         ]
        },
        {
         "error_y": {
          "array": [
           null,
           null,
           null,
           null,
           null,
           null,
           null,
           null,
           null,
           null,
           null,
           null,
           null,
           null,
           null,
           null,
           null,
           null,
           null,
           null,
           null,
           null,
           null,
           null,
           null,
           null,
           null,
           null,
           null,
           null,
           null,
           0.010288946,
           0.155633773,
           0.17648320399999998,
           0.058313366,
           0.152796017,
           0.600840786,
           0.278037274,
           0.019135925,
           0.313604719,
           0.028442107999999997,
           0.035495092,
           0.077662959,
           0.101761818,
           0.626292978,
           0.111861049,
           0.101761818,
           0.16737351,
           0.00657097,
           0.1401344,
           0.038672698,
           0.066458216,
           0.32947805399999996,
           0.214465718,
           0.367750969,
           0.092805925,
           0.159470271,
           0.04886719900000001,
           0.06724565099999999,
           0.20554771800000002,
           0.017312609,
           0.479018314,
           0.383421554,
           0.277698668,
           0.229583438,
           0.011403146999999999,
           0.560696642,
           0.11071771,
           0.310806228,
           0.186857153,
           0.029371373,
           0.027161247000000003,
           0.059438057999999995,
           0.040502218,
           0.043844607,
           0.018424565,
           0.800041607,
           0.6689991279999999,
           0.021019822999999997,
           0.20889847,
           0.17885480399999998,
           0.20317537600000002
          ],
          "symmetric": true,
          "type": "data"
         },
         "mode": "markers+text",
         "text": [
          "N1-181",
          "N1-286",
          "N2-181",
          "N2-225",
          "N2-272",
          "N3-181",
          "N3-230",
          "N3-286",
          "N4-181",
          "N4-197",
          "N4-286",
          "N5-181",
          "N5-230",
          "N5-286",
          "N7-181",
          "N7-197",
          "N7-244",
          "N8-181",
          "N8-197",
          "N8-244",
          "N8-286",
          "S11-182",
          "S11-225",
          "S11-272",
          "S12-182",
          "S12-244",
          "S12-286",
          "S13-182",
          "S13-197",
          "S13-244",
          "S13-286",
          "N-177",
          "N-182",
          "N-188",
          "N-197",
          "N-201",
          "N-209",
          "N-216",
          "N-223",
          "N-230",
          "N-237",
          "N-244",
          "N-251",
          "N-258",
          "N-265",
          "N-272",
          "N-278",
          "N-286",
          "T-177",
          "T-182",
          "T-188",
          "T-197",
          "T-201",
          "T-209",
          "T-216",
          "T-223",
          "T-230",
          "T-237",
          "T-244",
          "T-251",
          "T-258",
          "T-265",
          "T-272",
          "T-278",
          "T-286",
          "S-177",
          "S-182",
          "S-188",
          "S-197",
          "S-201",
          "S-209",
          "S-216",
          "S-223",
          "S-230",
          "S-237",
          "S-244",
          "S-251",
          "S-258",
          "S-265",
          "S-272",
          "S-278",
          "S-286"
         ],
         "textfont": {
          "size": 7
         },
         "textposition": "right",
         "type": "scatter",
         "x": [
          0.0572798,
          4.69364,
          7.14343,
          2.62046,
          1.26034,
          0.0572091,
          0.030610900000000003,
          0.0168956,
          0.05654580000000001,
          11.7121,
          2.30429,
          0.0574558,
          0.0313885,
          0.0178105,
          0.05649439999999999,
          11.7046,
          3.96009,
          0.056494600000000006,
          11.7047,
          3.923,
          2.21285,
          6.99525,
          2.62812,
          1.26966,
          6.99366,
          1.9413099999999999,
          1.15752,
          0.056422400000000004,
          11.7218,
          3.9887,
          2.2995900000000002,
          2.20255,
          1.90547,
          1.53595,
          5.56693,
          4.718999999999999,
          4.154380000000001,
          3.39225,
          3.0641700000000003,
          2.54755,
          2.29805,
          3.08075,
          2.62485,
          2.21002,
          1.9283099999999997,
          1.76055,
          1.7257099999999999,
          1.6231799999999998,
          1.9884700000000002,
          1.7219200000000001,
          1.38849,
          6.30091,
          5.33368,
          4.68392,
          3.8145,
          3.44085,
          2.85531,
          2.5747299999999997,
          4.83817,
          4.06198,
          3.38288,
          2.9276299999999997,
          2.65238,
          2.5855200000000003,
          2.41819,
          6.5515300000000005,
          5.66207,
          4.55273,
          6.05545,
          5.19043,
          4.66715,
          3.8626,
          3.53134,
          2.96022,
          2.69149,
          2.35465,
          2.0712599999999997,
          1.78752,
          1.58955,
          1.4738200000000001,
          1.46048,
          1.38936
         ],
         "y": [
          0.071209308,
          4.289448803,
          4.710027477,
          4.781826711,
          0.7762326509999999,
          1.4860262469999999,
          0.071909544,
          0.057082362000000005,
          0.023645114,
          19.65574111,
          0.545152531,
          0.158613678,
          0.039049584,
          0.045620655999999996,
          0.025117074,
          10.47425727,
          1.893997005,
          0.019431835,
          26.436545199999998,
          1.613332229,
          0.317081154,
          4.96452968,
          0.801897339,
          0.239439105,
          6.1733821760000005,
          1.6277531809999999,
          0.641584575,
          0.076020979,
          11.61982789,
          7.350583133,
          0.869203504,
          0.068592974,
          1.037558485,
          1.8544809869999999,
          5.628514952000001,
          7.183662148,
          4.2233451330000005,
          1.248904411,
          1.285325524,
          1.7504548119999999,
          1.183860904,
          1.001734733,
          1.866402862,
          1.300052437,
          0.539267143,
          0.35651763799999997,
          0.8117856390000001,
          1.115823402,
          0.043806464,
          0.934229335,
          1.7071507769999998,
          3.518030954,
          5.093894891000001,
          4.697419678999999,
          1.942645207,
          2.128457231,
          0.794915258,
          0.726180171,
          2.231496296,
          2.589412953,
          2.912150122,
          3.193455428,
          2.556143693,
          1.851324451,
          1.5305562519999998,
          0.076020979,
          3.7379776110000003,
          7.623602113,
          3.686627797,
          4.918231505,
          2.596176704,
          3.224764562,
          2.454447695,
          1.779697273,
          1.245562032,
          1.2103604540000001,
          2.363893981,
          0.864562637,
          0.902910201,
          1.392656465,
          1.192365363,
          1.35450251
         ]
        }
       ],
       "layout": {
        "annotations": [
         {
          "showarrow": false,
          "text": "R-sq. = 0.68",
          "x": 23.79289068,
          "y": 1.1890756
         }
        ],
        "showlegend": false,
        "title": "Conc. Soils (Sim vs. Obs)",
        "xaxis": {
         "title": "Simulated",
         "titlefont": {
          "color": "#7f7f7f",
          "family": "Courier New, monospace",
          "size": 18
         }
        },
        "yaxis": {
         "title": "Observed",
         "titlefont": {
          "color": "#7f7f7f",
          "family": "Courier New, monospace",
          "size": 18
         }
        }
       }
      },
      "text/html": [
       "<div id=\"83d333c0-d021-4a64-9727-7b05be7e5ce8\" style=\"height: 525px; width: 100%;\" class=\"plotly-graph-div\"></div><script type=\"text/javascript\">require([\"plotly\"], function(Plotly) { window.PLOTLYENV=window.PLOTLYENV || {};window.PLOTLYENV.BASE_URL=\"https://plot.ly\";Plotly.newPlot(\"83d333c0-d021-4a64-9727-7b05be7e5ce8\", [{\"marker\": {\"opacity\": 0.9, \"color\": \"grey\"}, \"y\": [0, 26.436545199999998], \"type\": \"scatter\", \"mode\": \"lines\", \"x\": [0, 26.436545199999998]}, {\"textposition\": \"right\", \"textfont\": {\"size\": 7}, \"error_y\": {\"symmetric\": true, \"array\": [null, null, null, null, null, null, null, null, null, null, null, null, null, null, null, null, null, null, null, null, null, null, null, null, null, null, null, null, null, null, null, 0.010288946, 0.155633773, 0.17648320399999998, 0.058313366, 0.152796017, 0.600840786, 0.278037274, 0.019135925, 0.313604719, 0.028442107999999997, 0.035495092, 0.077662959, 0.101761818, 0.626292978, 0.111861049, 0.101761818, 0.16737351, 0.00657097, 0.1401344, 0.038672698, 0.066458216, 0.32947805399999996, 0.214465718, 0.367750969, 0.092805925, 0.159470271, 0.04886719900000001, 0.06724565099999999, 0.20554771800000002, 0.017312609, 0.479018314, 0.383421554, 0.277698668, 0.229583438, 0.011403146999999999, 0.560696642, 0.11071771, 0.310806228, 0.186857153, 0.029371373, 0.027161247000000003, 0.059438057999999995, 0.040502218, 0.043844607, 0.018424565, 0.800041607, 0.6689991279999999, 0.021019822999999997, 0.20889847, 0.17885480399999998, 0.20317537600000002], \"type\": \"data\"}, \"text\": [\"N1-181\", \"N1-286\", \"N2-181\", \"N2-225\", \"N2-272\", \"N3-181\", \"N3-230\", \"N3-286\", \"N4-181\", \"N4-197\", \"N4-286\", \"N5-181\", \"N5-230\", \"N5-286\", \"N7-181\", \"N7-197\", \"N7-244\", \"N8-181\", \"N8-197\", \"N8-244\", \"N8-286\", \"S11-182\", \"S11-225\", \"S11-272\", \"S12-182\", \"S12-244\", \"S12-286\", \"S13-182\", \"S13-197\", \"S13-244\", \"S13-286\", \"N-177\", \"N-182\", \"N-188\", \"N-197\", \"N-201\", \"N-209\", \"N-216\", \"N-223\", \"N-230\", \"N-237\", \"N-244\", \"N-251\", \"N-258\", \"N-265\", \"N-272\", \"N-278\", \"N-286\", \"T-177\", \"T-182\", \"T-188\", \"T-197\", \"T-201\", \"T-209\", \"T-216\", \"T-223\", \"T-230\", \"T-237\", \"T-244\", \"T-251\", \"T-258\", \"T-265\", \"T-272\", \"T-278\", \"T-286\", \"S-177\", \"S-182\", \"S-188\", \"S-197\", \"S-201\", \"S-209\", \"S-216\", \"S-223\", \"S-230\", \"S-237\", \"S-244\", \"S-251\", \"S-258\", \"S-265\", \"S-272\", \"S-278\", \"S-286\"], \"mode\": \"markers+text\", \"y\": [0.071209308, 4.289448803, 4.710027477, 4.781826711, 0.7762326509999999, 1.4860262469999999, 0.071909544, 0.057082362000000005, 0.023645114, 19.65574111, 0.545152531, 0.158613678, 0.039049584, 0.045620655999999996, 0.025117074, 10.47425727, 1.893997005, 0.019431835, 26.436545199999998, 1.613332229, 0.317081154, 4.96452968, 0.801897339, 0.239439105, 6.1733821760000005, 1.6277531809999999, 0.641584575, 0.076020979, 11.61982789, 7.350583133, 0.869203504, 0.068592974, 1.037558485, 1.8544809869999999, 5.628514952000001, 7.183662148, 4.2233451330000005, 1.248904411, 1.285325524, 1.7504548119999999, 1.183860904, 1.001734733, 1.866402862, 1.300052437, 0.539267143, 0.35651763799999997, 0.8117856390000001, 1.115823402, 0.043806464, 0.934229335, 1.7071507769999998, 3.518030954, 5.093894891000001, 4.697419678999999, 1.942645207, 2.128457231, 0.794915258, 0.726180171, 2.231496296, 2.589412953, 2.912150122, 3.193455428, 2.556143693, 1.851324451, 1.5305562519999998, 0.076020979, 3.7379776110000003, 7.623602113, 3.686627797, 4.918231505, 2.596176704, 3.224764562, 2.454447695, 1.779697273, 1.245562032, 1.2103604540000001, 2.363893981, 0.864562637, 0.902910201, 1.392656465, 1.192365363, 1.35450251], \"x\": [0.0572798, 4.69364, 7.14343, 2.62046, 1.26034, 0.0572091, 0.030610900000000003, 0.0168956, 0.05654580000000001, 11.7121, 2.30429, 0.0574558, 0.0313885, 0.0178105, 0.05649439999999999, 11.7046, 3.96009, 0.056494600000000006, 11.7047, 3.923, 2.21285, 6.99525, 2.62812, 1.26966, 6.99366, 1.9413099999999999, 1.15752, 0.056422400000000004, 11.7218, 3.9887, 2.2995900000000002, 2.20255, 1.90547, 1.53595, 5.56693, 4.718999999999999, 4.154380000000001, 3.39225, 3.0641700000000003, 2.54755, 2.29805, 3.08075, 2.62485, 2.21002, 1.9283099999999997, 1.76055, 1.7257099999999999, 1.6231799999999998, 1.9884700000000002, 1.7219200000000001, 1.38849, 6.30091, 5.33368, 4.68392, 3.8145, 3.44085, 2.85531, 2.5747299999999997, 4.83817, 4.06198, 3.38288, 2.9276299999999997, 2.65238, 2.5855200000000003, 2.41819, 6.5515300000000005, 5.66207, 4.55273, 6.05545, 5.19043, 4.66715, 3.8626, 3.53134, 2.96022, 2.69149, 2.35465, 2.0712599999999997, 1.78752, 1.58955, 1.4738200000000001, 1.46048, 1.38936], \"type\": \"scatter\"}], {\"showlegend\": false, \"title\": \"Conc. Soils (Sim vs. Obs)\", \"annotations\": [{\"y\": 1.1890756, \"text\": \"R-sq. = 0.68\", \"x\": 23.79289068, \"showarrow\": false}], \"xaxis\": {\"titlefont\": {\"color\": \"#7f7f7f\", \"family\": \"Courier New, monospace\", \"size\": 18}, \"title\": \"Simulated\"}, \"yaxis\": {\"titlefont\": {\"color\": \"#7f7f7f\", \"family\": \"Courier New, monospace\", \"size\": 18}, \"title\": \"Observed\"}}, {\"linkText\": \"Export to plot.ly\", \"showLink\": true})});</script>"
      ],
      "text/vnd.plotly.v1+html": [
       "<div id=\"83d333c0-d021-4a64-9727-7b05be7e5ce8\" style=\"height: 525px; width: 100%;\" class=\"plotly-graph-div\"></div><script type=\"text/javascript\">require([\"plotly\"], function(Plotly) { window.PLOTLYENV=window.PLOTLYENV || {};window.PLOTLYENV.BASE_URL=\"https://plot.ly\";Plotly.newPlot(\"83d333c0-d021-4a64-9727-7b05be7e5ce8\", [{\"marker\": {\"opacity\": 0.9, \"color\": \"grey\"}, \"y\": [0, 26.436545199999998], \"type\": \"scatter\", \"mode\": \"lines\", \"x\": [0, 26.436545199999998]}, {\"textposition\": \"right\", \"textfont\": {\"size\": 7}, \"error_y\": {\"symmetric\": true, \"array\": [null, null, null, null, null, null, null, null, null, null, null, null, null, null, null, null, null, null, null, null, null, null, null, null, null, null, null, null, null, null, null, 0.010288946, 0.155633773, 0.17648320399999998, 0.058313366, 0.152796017, 0.600840786, 0.278037274, 0.019135925, 0.313604719, 0.028442107999999997, 0.035495092, 0.077662959, 0.101761818, 0.626292978, 0.111861049, 0.101761818, 0.16737351, 0.00657097, 0.1401344, 0.038672698, 0.066458216, 0.32947805399999996, 0.214465718, 0.367750969, 0.092805925, 0.159470271, 0.04886719900000001, 0.06724565099999999, 0.20554771800000002, 0.017312609, 0.479018314, 0.383421554, 0.277698668, 0.229583438, 0.011403146999999999, 0.560696642, 0.11071771, 0.310806228, 0.186857153, 0.029371373, 0.027161247000000003, 0.059438057999999995, 0.040502218, 0.043844607, 0.018424565, 0.800041607, 0.6689991279999999, 0.021019822999999997, 0.20889847, 0.17885480399999998, 0.20317537600000002], \"type\": \"data\"}, \"text\": [\"N1-181\", \"N1-286\", \"N2-181\", \"N2-225\", \"N2-272\", \"N3-181\", \"N3-230\", \"N3-286\", \"N4-181\", \"N4-197\", \"N4-286\", \"N5-181\", \"N5-230\", \"N5-286\", \"N7-181\", \"N7-197\", \"N7-244\", \"N8-181\", \"N8-197\", \"N8-244\", \"N8-286\", \"S11-182\", \"S11-225\", \"S11-272\", \"S12-182\", \"S12-244\", \"S12-286\", \"S13-182\", \"S13-197\", \"S13-244\", \"S13-286\", \"N-177\", \"N-182\", \"N-188\", \"N-197\", \"N-201\", \"N-209\", \"N-216\", \"N-223\", \"N-230\", \"N-237\", \"N-244\", \"N-251\", \"N-258\", \"N-265\", \"N-272\", \"N-278\", \"N-286\", \"T-177\", \"T-182\", \"T-188\", \"T-197\", \"T-201\", \"T-209\", \"T-216\", \"T-223\", \"T-230\", \"T-237\", \"T-244\", \"T-251\", \"T-258\", \"T-265\", \"T-272\", \"T-278\", \"T-286\", \"S-177\", \"S-182\", \"S-188\", \"S-197\", \"S-201\", \"S-209\", \"S-216\", \"S-223\", \"S-230\", \"S-237\", \"S-244\", \"S-251\", \"S-258\", \"S-265\", \"S-272\", \"S-278\", \"S-286\"], \"mode\": \"markers+text\", \"y\": [0.071209308, 4.289448803, 4.710027477, 4.781826711, 0.7762326509999999, 1.4860262469999999, 0.071909544, 0.057082362000000005, 0.023645114, 19.65574111, 0.545152531, 0.158613678, 0.039049584, 0.045620655999999996, 0.025117074, 10.47425727, 1.893997005, 0.019431835, 26.436545199999998, 1.613332229, 0.317081154, 4.96452968, 0.801897339, 0.239439105, 6.1733821760000005, 1.6277531809999999, 0.641584575, 0.076020979, 11.61982789, 7.350583133, 0.869203504, 0.068592974, 1.037558485, 1.8544809869999999, 5.628514952000001, 7.183662148, 4.2233451330000005, 1.248904411, 1.285325524, 1.7504548119999999, 1.183860904, 1.001734733, 1.866402862, 1.300052437, 0.539267143, 0.35651763799999997, 0.8117856390000001, 1.115823402, 0.043806464, 0.934229335, 1.7071507769999998, 3.518030954, 5.093894891000001, 4.697419678999999, 1.942645207, 2.128457231, 0.794915258, 0.726180171, 2.231496296, 2.589412953, 2.912150122, 3.193455428, 2.556143693, 1.851324451, 1.5305562519999998, 0.076020979, 3.7379776110000003, 7.623602113, 3.686627797, 4.918231505, 2.596176704, 3.224764562, 2.454447695, 1.779697273, 1.245562032, 1.2103604540000001, 2.363893981, 0.864562637, 0.902910201, 1.392656465, 1.192365363, 1.35450251], \"x\": [0.0572798, 4.69364, 7.14343, 2.62046, 1.26034, 0.0572091, 0.030610900000000003, 0.0168956, 0.05654580000000001, 11.7121, 2.30429, 0.0574558, 0.0313885, 0.0178105, 0.05649439999999999, 11.7046, 3.96009, 0.056494600000000006, 11.7047, 3.923, 2.21285, 6.99525, 2.62812, 1.26966, 6.99366, 1.9413099999999999, 1.15752, 0.056422400000000004, 11.7218, 3.9887, 2.2995900000000002, 2.20255, 1.90547, 1.53595, 5.56693, 4.718999999999999, 4.154380000000001, 3.39225, 3.0641700000000003, 2.54755, 2.29805, 3.08075, 2.62485, 2.21002, 1.9283099999999997, 1.76055, 1.7257099999999999, 1.6231799999999998, 1.9884700000000002, 1.7219200000000001, 1.38849, 6.30091, 5.33368, 4.68392, 3.8145, 3.44085, 2.85531, 2.5747299999999997, 4.83817, 4.06198, 3.38288, 2.9276299999999997, 2.65238, 2.5855200000000003, 2.41819, 6.5515300000000005, 5.66207, 4.55273, 6.05545, 5.19043, 4.66715, 3.8626, 3.53134, 2.96022, 2.69149, 2.35465, 2.0712599999999997, 1.78752, 1.58955, 1.4738200000000001, 1.46048, 1.38936], \"type\": \"scatter\"}], {\"showlegend\": false, \"title\": \"Conc. Soils (Sim vs. Obs)\", \"annotations\": [{\"y\": 1.1890756, \"text\": \"R-sq. = 0.68\", \"x\": 23.79289068, \"showarrow\": false}], \"xaxis\": {\"titlefont\": {\"color\": \"#7f7f7f\", \"family\": \"Courier New, monospace\", \"size\": 18}, \"title\": \"Simulated\"}, \"yaxis\": {\"titlefont\": {\"color\": \"#7f7f7f\", \"family\": \"Courier New, monospace\", \"size\": 18}, \"title\": \"Observed\"}}, {\"linkText\": \"Export to plot.ly\", \"showLink\": true})});</script>"
      ]
     },
     "metadata": {},
     "output_type": "display_data"
    }
   ],
   "source": [
    "test_var = 'ug.g'\n",
    "sd = 'ug.g.SD'\n",
    "\n",
    "data = [get_xy_line(conc_dat, test_var), \n",
    "        get_scatter(conc_dat, test_var, sd)]\n",
    "\n",
    "fig = go.Figure(data=data, layout=get_layout(conc_dat, test_var, title='Conc. Soils (Sim vs. Obs)'))\n",
    "iplot(fig)"
   ]
  },
  {
   "cell_type": "markdown",
   "metadata": {},
   "source": [
    "### Isotopes"
   ]
  },
  {
   "cell_type": "code",
   "execution_count": 12,
   "metadata": {},
   "outputs": [
    {
     "data": {
      "text/html": [
       "<div>\n",
       "<style scoped>\n",
       "    .dataframe tbody tr th:only-of-type {\n",
       "        vertical-align: middle;\n",
       "    }\n",
       "\n",
       "    .dataframe tbody tr th {\n",
       "        vertical-align: top;\n",
       "    }\n",
       "\n",
       "    .dataframe thead th {\n",
       "        text-align: right;\n",
       "    }\n",
       "</style>\n",
       "<table border=\"1\" class=\"dataframe\">\n",
       "  <thead>\n",
       "    <tr style=\"text-align: right;\">\n",
       "      <th></th>\n",
       "      <th>Jdays_x</th>\n",
       "      <th>Transect</th>\n",
       "      <th>IDcal</th>\n",
       "      <th>d13C</th>\n",
       "      <th>d13C.SD</th>\n",
       "      <th>Jdays_y</th>\n",
       "      <th>SIM</th>\n",
       "    </tr>\n",
       "  </thead>\n",
       "  <tbody>\n",
       "    <tr>\n",
       "      <th>6</th>\n",
       "      <td>230</td>\n",
       "      <td>S</td>\n",
       "      <td>S-230</td>\n",
       "      <td>-29.466667</td>\n",
       "      <td>0.642910</td>\n",
       "      <td>230</td>\n",
       "      <td>-31.3669</td>\n",
       "    </tr>\n",
       "    <tr>\n",
       "      <th>7</th>\n",
       "      <td>244</td>\n",
       "      <td>S</td>\n",
       "      <td>S-244</td>\n",
       "      <td>-28.633333</td>\n",
       "      <td>0.288675</td>\n",
       "      <td>244</td>\n",
       "      <td>-31.2651</td>\n",
       "    </tr>\n",
       "    <tr>\n",
       "      <th>8</th>\n",
       "      <td>251</td>\n",
       "      <td>S</td>\n",
       "      <td>S-251</td>\n",
       "      <td>-28.933333</td>\n",
       "      <td>0.152753</td>\n",
       "      <td>251</td>\n",
       "      <td>-31.2282</td>\n",
       "    </tr>\n",
       "    <tr>\n",
       "      <th>9</th>\n",
       "      <td>258</td>\n",
       "      <td>S</td>\n",
       "      <td>S-258</td>\n",
       "      <td>-27.600000</td>\n",
       "      <td>0.435890</td>\n",
       "      <td>258</td>\n",
       "      <td>-31.1982</td>\n",
       "    </tr>\n",
       "    <tr>\n",
       "      <th>10</th>\n",
       "      <td>265</td>\n",
       "      <td>S</td>\n",
       "      <td>S-265</td>\n",
       "      <td>-28.166667</td>\n",
       "      <td>0.378594</td>\n",
       "      <td>265</td>\n",
       "      <td>-31.1740</td>\n",
       "    </tr>\n",
       "  </tbody>\n",
       "</table>\n",
       "</div>"
      ],
      "text/plain": [
       "    Jdays_x Transect  IDcal       d13C   d13C.SD  Jdays_y      SIM\n",
       "6       230        S  S-230 -29.466667  0.642910      230 -31.3669\n",
       "7       244        S  S-244 -28.633333  0.288675      244 -31.2651\n",
       "8       251        S  S-251 -28.933333  0.152753      251 -31.2282\n",
       "9       258        S  S-258 -27.600000  0.435890      258 -31.1982\n",
       "10      265        S  S-265 -28.166667  0.378594      265 -31.1740"
      ]
     },
     "execution_count": 12,
     "metadata": {},
     "output_type": "execute_result"
    }
   ],
   "source": [
    "delta_dat.tail()"
   ]
  },
  {
   "cell_type": "code",
   "execution_count": 13,
   "metadata": {},
   "outputs": [
    {
     "data": {
      "application/vnd.plotly.v1+json": {
       "data": [
        {
         "marker": {
          "color": "grey",
          "opacity": 0.9
         },
         "mode": "lines",
         "type": "scatter",
         "x": [
          -33.1967,
          -22.704
         ],
         "y": [
          -33.1967,
          -22.704
         ]
        },
        {
         "error_y": {
          "array": [
           0.045961940777124,
           0.11357339770680001,
           0.282044322757967,
           0.0558300994088319,
           0.255265548008344,
           0.394482361244878,
           0.106066017177981,
           0.270152426110397,
           0.201698620058078,
           0.35001785668733904,
           0.151265770527682,
           0.0707106781186558,
           0.33381781458354404,
           0.407293505963452,
           0.5,
           0.0999999999999996,
           0.251661147842358,
           0.251661147842358,
           0.141421356237309,
           0.351188458428424,
           0.0816496580927723,
           0.17320508075688598,
           0.0707106781186558,
           null,
           0.353553390593274,
           0.40414518843273706,
           0.11547005383792501,
           0.556776436283001,
           0.4163331998932271,
           0.5686240703077329,
           0.6363961030678941,
           0.173205080756888,
           0.36055512754640007,
           0.0999999999999996,
           0.20816659994661302,
           0.461880215351699,
           0.141421356237309,
           0.513160143944688,
           0.45092497528228903,
           0.45092497528228903,
           0.0999999999999996,
           0.435889894354067,
           0.251661147842358,
           0.642910050732863,
           0.288675134594813,
           0.152752523165195,
           0.43588989435406794,
           0.37859388972002
          ],
          "symmetric": true,
          "type": "data"
         },
         "mode": "markers+text",
         "text": [
          "N1-181",
          "N2-181",
          "N4-197",
          "N7-197",
          "N7-244",
          "N8-197",
          "N8-244",
          "S11-182",
          "S12-182",
          "S12-244",
          "S12-286",
          "S13-197",
          "S13-244",
          "S13-286",
          "N-188",
          "N-197",
          "N-201",
          "N-209",
          "N-216",
          "N-223",
          "N-237",
          "N-251",
          "N-258",
          "N-272",
          "N-278",
          "T-188",
          "T-197",
          "T-201",
          "T-209",
          "T-216",
          "T-223",
          "T-244",
          "T-251",
          "T-258",
          "T-265",
          "T-272",
          "T-278",
          "S-188",
          "S-197",
          "S-201",
          "S-209",
          "S-216",
          "S-223",
          "S-230",
          "S-244",
          "S-251",
          "S-258",
          "S-265"
         ],
         "textfont": {
          "size": 7
         },
         "textposition": "right",
         "type": "scatter",
         "x": [
          -23.704,
          -32.0733,
          -32.1966,
          -32.1966,
          -31.3653,
          -32.1967,
          -31.3652,
          -32.0436,
          -32.0436,
          -31.218000000000004,
          -31.1063,
          -32.1964,
          -31.365,
          -31.1689,
          -31.6883,
          -32.0562,
          -31.9412,
          -31.7486,
          -31.6149,
          -31.5066,
          -31.348000000000003,
          -31.4616,
          -31.3808,
          -31.2674,
          -31.2329,
          -31.6595,
          -32.0853,
          -31.9683,
          -31.7724,
          -31.6362,
          -31.5259,
          -31.7211,
          -31.5914,
          -31.4898,
          -31.4098,
          -31.3463,
          -31.3023,
          -31.8665,
          -31.879,
          -31.7851,
          -31.6302,
          -31.5229,
          -31.4367,
          -31.3669,
          -31.2651,
          -31.2282,
          -31.1982,
          -31.174
         ],
         "y": [
          -28.0595,
          -30.66375,
          -30.180999999999997,
          -30.846,
          -28.7955,
          -30.960666666666697,
          -28.855,
          -31.150666666666698,
          -31.5833333333333,
          -29.3385,
          -28.2596666666667,
          -31.441999999999997,
          -28.9943333333333,
          -28.415,
          -31.4,
          -31.2,
          -31.8333333333333,
          -31.766666666666698,
          -30.7,
          -29.4333333333333,
          -29.6,
          -29.8,
          -29.45,
          -29.5,
          -28.95,
          -29.966666666666697,
          -31.766666666666698,
          -31.1,
          -30.6333333333333,
          -29.8333333333333,
          -29.35,
          -30.5,
          -29.7,
          -29.9,
          -29.533333333333303,
          -29.6333333333333,
          -27.9,
          -31.233333333333302,
          -31.0666666666667,
          -30.9333333333333,
          -30.6,
          -30.8,
          -31.0666666666667,
          -29.466666666666697,
          -28.6333333333333,
          -28.9333333333333,
          -27.6,
          -28.1666666666667
         ]
        }
       ],
       "layout": {
        "annotations": [
         {
          "showarrow": false,
          "text": "R-sq. = 0.93",
          "x": -24.84,
          "y": -34.567099999999996
         }
        ],
        "showlegend": false,
        "title": "Delta Soils (Sim vs. Obs)",
        "xaxis": {
         "title": "Simulated",
         "titlefont": {
          "color": "#7f7f7f",
          "family": "Courier New, monospace",
          "size": 18
         }
        },
        "yaxis": {
         "title": "Observed",
         "titlefont": {
          "color": "#7f7f7f",
          "family": "Courier New, monospace",
          "size": 18
         }
        }
       }
      },
      "text/html": [
       "<div id=\"f0793e8a-db80-41d4-abe4-c6cca919a7ee\" style=\"height: 525px; width: 100%;\" class=\"plotly-graph-div\"></div><script type=\"text/javascript\">require([\"plotly\"], function(Plotly) { window.PLOTLYENV=window.PLOTLYENV || {};window.PLOTLYENV.BASE_URL=\"https://plot.ly\";Plotly.newPlot(\"f0793e8a-db80-41d4-abe4-c6cca919a7ee\", [{\"marker\": {\"opacity\": 0.9, \"color\": \"grey\"}, \"y\": [-33.1967, -22.704], \"type\": \"scatter\", \"mode\": \"lines\", \"x\": [-33.1967, -22.704]}, {\"textposition\": \"right\", \"textfont\": {\"size\": 7}, \"error_y\": {\"symmetric\": true, \"array\": [0.045961940777124, 0.11357339770680001, 0.282044322757967, 0.0558300994088319, 0.255265548008344, 0.394482361244878, 0.106066017177981, 0.270152426110397, 0.201698620058078, 0.35001785668733904, 0.151265770527682, 0.0707106781186558, 0.33381781458354404, 0.407293505963452, 0.5, 0.0999999999999996, 0.251661147842358, 0.251661147842358, 0.141421356237309, 0.351188458428424, 0.0816496580927723, 0.17320508075688598, 0.0707106781186558, null, 0.353553390593274, 0.40414518843273706, 0.11547005383792501, 0.556776436283001, 0.4163331998932271, 0.5686240703077329, 0.6363961030678941, 0.173205080756888, 0.36055512754640007, 0.0999999999999996, 0.20816659994661302, 0.461880215351699, 0.141421356237309, 0.513160143944688, 0.45092497528228903, 0.45092497528228903, 0.0999999999999996, 0.435889894354067, 0.251661147842358, 0.642910050732863, 0.288675134594813, 0.152752523165195, 0.43588989435406794, 0.37859388972002], \"type\": \"data\"}, \"text\": [\"N1-181\", \"N2-181\", \"N4-197\", \"N7-197\", \"N7-244\", \"N8-197\", \"N8-244\", \"S11-182\", \"S12-182\", \"S12-244\", \"S12-286\", \"S13-197\", \"S13-244\", \"S13-286\", \"N-188\", \"N-197\", \"N-201\", \"N-209\", \"N-216\", \"N-223\", \"N-237\", \"N-251\", \"N-258\", \"N-272\", \"N-278\", \"T-188\", \"T-197\", \"T-201\", \"T-209\", \"T-216\", \"T-223\", \"T-244\", \"T-251\", \"T-258\", \"T-265\", \"T-272\", \"T-278\", \"S-188\", \"S-197\", \"S-201\", \"S-209\", \"S-216\", \"S-223\", \"S-230\", \"S-244\", \"S-251\", \"S-258\", \"S-265\"], \"mode\": \"markers+text\", \"y\": [-28.0595, -30.66375, -30.180999999999997, -30.846, -28.7955, -30.960666666666697, -28.855, -31.150666666666698, -31.5833333333333, -29.3385, -28.2596666666667, -31.441999999999997, -28.9943333333333, -28.415, -31.4, -31.2, -31.8333333333333, -31.766666666666698, -30.7, -29.4333333333333, -29.6, -29.8, -29.45, -29.5, -28.95, -29.966666666666697, -31.766666666666698, -31.1, -30.6333333333333, -29.8333333333333, -29.35, -30.5, -29.7, -29.9, -29.533333333333303, -29.6333333333333, -27.9, -31.233333333333302, -31.0666666666667, -30.9333333333333, -30.6, -30.8, -31.0666666666667, -29.466666666666697, -28.6333333333333, -28.9333333333333, -27.6, -28.1666666666667], \"x\": [-23.704, -32.0733, -32.1966, -32.1966, -31.3653, -32.1967, -31.3652, -32.0436, -32.0436, -31.218000000000004, -31.1063, -32.1964, -31.365, -31.1689, -31.6883, -32.0562, -31.9412, -31.7486, -31.6149, -31.5066, -31.348000000000003, -31.4616, -31.3808, -31.2674, -31.2329, -31.6595, -32.0853, -31.9683, -31.7724, -31.6362, -31.5259, -31.7211, -31.5914, -31.4898, -31.4098, -31.3463, -31.3023, -31.8665, -31.879, -31.7851, -31.6302, -31.5229, -31.4367, -31.3669, -31.2651, -31.2282, -31.1982, -31.174], \"type\": \"scatter\"}], {\"showlegend\": false, \"title\": \"Delta Soils (Sim vs. Obs)\", \"annotations\": [{\"y\": -34.567099999999996, \"text\": \"R-sq. = 0.93\", \"x\": -24.84, \"showarrow\": false}], \"xaxis\": {\"titlefont\": {\"color\": \"#7f7f7f\", \"family\": \"Courier New, monospace\", \"size\": 18}, \"title\": \"Simulated\"}, \"yaxis\": {\"titlefont\": {\"color\": \"#7f7f7f\", \"family\": \"Courier New, monospace\", \"size\": 18}, \"title\": \"Observed\"}}, {\"linkText\": \"Export to plot.ly\", \"showLink\": true})});</script>"
      ],
      "text/vnd.plotly.v1+html": [
       "<div id=\"f0793e8a-db80-41d4-abe4-c6cca919a7ee\" style=\"height: 525px; width: 100%;\" class=\"plotly-graph-div\"></div><script type=\"text/javascript\">require([\"plotly\"], function(Plotly) { window.PLOTLYENV=window.PLOTLYENV || {};window.PLOTLYENV.BASE_URL=\"https://plot.ly\";Plotly.newPlot(\"f0793e8a-db80-41d4-abe4-c6cca919a7ee\", [{\"marker\": {\"opacity\": 0.9, \"color\": \"grey\"}, \"y\": [-33.1967, -22.704], \"type\": \"scatter\", \"mode\": \"lines\", \"x\": [-33.1967, -22.704]}, {\"textposition\": \"right\", \"textfont\": {\"size\": 7}, \"error_y\": {\"symmetric\": true, \"array\": [0.045961940777124, 0.11357339770680001, 0.282044322757967, 0.0558300994088319, 0.255265548008344, 0.394482361244878, 0.106066017177981, 0.270152426110397, 0.201698620058078, 0.35001785668733904, 0.151265770527682, 0.0707106781186558, 0.33381781458354404, 0.407293505963452, 0.5, 0.0999999999999996, 0.251661147842358, 0.251661147842358, 0.141421356237309, 0.351188458428424, 0.0816496580927723, 0.17320508075688598, 0.0707106781186558, null, 0.353553390593274, 0.40414518843273706, 0.11547005383792501, 0.556776436283001, 0.4163331998932271, 0.5686240703077329, 0.6363961030678941, 0.173205080756888, 0.36055512754640007, 0.0999999999999996, 0.20816659994661302, 0.461880215351699, 0.141421356237309, 0.513160143944688, 0.45092497528228903, 0.45092497528228903, 0.0999999999999996, 0.435889894354067, 0.251661147842358, 0.642910050732863, 0.288675134594813, 0.152752523165195, 0.43588989435406794, 0.37859388972002], \"type\": \"data\"}, \"text\": [\"N1-181\", \"N2-181\", \"N4-197\", \"N7-197\", \"N7-244\", \"N8-197\", \"N8-244\", \"S11-182\", \"S12-182\", \"S12-244\", \"S12-286\", \"S13-197\", \"S13-244\", \"S13-286\", \"N-188\", \"N-197\", \"N-201\", \"N-209\", \"N-216\", \"N-223\", \"N-237\", \"N-251\", \"N-258\", \"N-272\", \"N-278\", \"T-188\", \"T-197\", \"T-201\", \"T-209\", \"T-216\", \"T-223\", \"T-244\", \"T-251\", \"T-258\", \"T-265\", \"T-272\", \"T-278\", \"S-188\", \"S-197\", \"S-201\", \"S-209\", \"S-216\", \"S-223\", \"S-230\", \"S-244\", \"S-251\", \"S-258\", \"S-265\"], \"mode\": \"markers+text\", \"y\": [-28.0595, -30.66375, -30.180999999999997, -30.846, -28.7955, -30.960666666666697, -28.855, -31.150666666666698, -31.5833333333333, -29.3385, -28.2596666666667, -31.441999999999997, -28.9943333333333, -28.415, -31.4, -31.2, -31.8333333333333, -31.766666666666698, -30.7, -29.4333333333333, -29.6, -29.8, -29.45, -29.5, -28.95, -29.966666666666697, -31.766666666666698, -31.1, -30.6333333333333, -29.8333333333333, -29.35, -30.5, -29.7, -29.9, -29.533333333333303, -29.6333333333333, -27.9, -31.233333333333302, -31.0666666666667, -30.9333333333333, -30.6, -30.8, -31.0666666666667, -29.466666666666697, -28.6333333333333, -28.9333333333333, -27.6, -28.1666666666667], \"x\": [-23.704, -32.0733, -32.1966, -32.1966, -31.3653, -32.1967, -31.3652, -32.0436, -32.0436, -31.218000000000004, -31.1063, -32.1964, -31.365, -31.1689, -31.6883, -32.0562, -31.9412, -31.7486, -31.6149, -31.5066, -31.348000000000003, -31.4616, -31.3808, -31.2674, -31.2329, -31.6595, -32.0853, -31.9683, -31.7724, -31.6362, -31.5259, -31.7211, -31.5914, -31.4898, -31.4098, -31.3463, -31.3023, -31.8665, -31.879, -31.7851, -31.6302, -31.5229, -31.4367, -31.3669, -31.2651, -31.2282, -31.1982, -31.174], \"type\": \"scatter\"}], {\"showlegend\": false, \"title\": \"Delta Soils (Sim vs. Obs)\", \"annotations\": [{\"y\": -34.567099999999996, \"text\": \"R-sq. = 0.93\", \"x\": -24.84, \"showarrow\": false}], \"xaxis\": {\"titlefont\": {\"color\": \"#7f7f7f\", \"family\": \"Courier New, monospace\", \"size\": 18}, \"title\": \"Simulated\"}, \"yaxis\": {\"titlefont\": {\"color\": \"#7f7f7f\", \"family\": \"Courier New, monospace\", \"size\": 18}, \"title\": \"Observed\"}}, {\"linkText\": \"Export to plot.ly\", \"showLink\": true})});</script>"
      ]
     },
     "metadata": {},
     "output_type": "display_data"
    }
   ],
   "source": [
    "test_var = 'd13C'\n",
    "sd = 'd13C.SD'\n",
    "\n",
    "data = [get_xy_line(delta_dat, test_var, delta=True), \n",
    "        get_scatter(delta_dat, test_var, sd)]\n",
    "\n",
    "fig = go.Figure(data=data, layout=get_layout(delta_dat, test_var, title='Delta Soils (Sim vs. Obs)'))\n",
    "iplot(fig)"
   ]
  },
  {
   "cell_type": "code",
   "execution_count": 14,
   "metadata": {},
   "outputs": [
    {
     "data": {
      "application/vnd.plotly.v1+json": {
       "data": [
        {
         "marker": {
          "color": "grey",
          "opacity": 0.9
         },
         "mode": "lines",
         "type": "scatter",
         "x": [
          -33.1967,
          -22.704
         ],
         "y": [
          -33.1967,
          -22.704
         ]
        },
        {
         "error_y": {
          "array": [
           0.045961940777124,
           0.11357339770680001,
           0.282044322757967,
           0.0558300994088319,
           0.255265548008344,
           0.394482361244878,
           0.106066017177981,
           0.5,
           0.0999999999999996,
           0.251661147842358,
           0.251661147842358,
           0.141421356237309,
           0.351188458428424,
           0.0816496580927723,
           0.17320508075688598,
           0.0707106781186558,
           null,
           0.353553390593274
          ],
          "symmetric": true,
          "type": "data"
         },
         "mode": "markers+text",
         "text": [
          "N1-181",
          "N2-181",
          "N4-197",
          "N7-197",
          "N7-244",
          "N8-197",
          "N8-244",
          "N-188",
          "N-197",
          "N-201",
          "N-209",
          "N-216",
          "N-223",
          "N-237",
          "N-251",
          "N-258",
          "N-272",
          "N-278"
         ],
         "textfont": {
          "size": 7
         },
         "textposition": "right",
         "type": "scatter",
         "x": [
          -23.704,
          -32.0733,
          -32.1966,
          -32.1966,
          -31.3653,
          -32.1967,
          -31.3652,
          -31.6883,
          -32.0562,
          -31.9412,
          -31.7486,
          -31.6149,
          -31.5066,
          -31.348000000000003,
          -31.4616,
          -31.3808,
          -31.2674,
          -31.2329
         ],
         "y": [
          -28.0595,
          -30.66375,
          -30.180999999999997,
          -30.846,
          -28.7955,
          -30.960666666666697,
          -28.855,
          -31.4,
          -31.2,
          -31.8333333333333,
          -31.766666666666698,
          -30.7,
          -29.4333333333333,
          -29.6,
          -29.8,
          -29.45,
          -29.5,
          -28.95
         ]
        }
       ],
       "layout": {
        "annotations": [
         {
          "showarrow": false,
          "text": "R-sq. = 0.96",
          "x": -25.25355,
          "y": -34.567099999999996
         }
        ],
        "showlegend": false,
        "title": "North - Delta Soils (Sim vs. Obs)",
        "xaxis": {
         "title": "Simulated",
         "titlefont": {
          "color": "#7f7f7f",
          "family": "Courier New, monospace",
          "size": 18
         }
        },
        "yaxis": {
         "title": "Observed",
         "titlefont": {
          "color": "#7f7f7f",
          "family": "Courier New, monospace",
          "size": 18
         }
        }
       }
      },
      "text/html": [
       "<div id=\"40e9d18a-9498-490f-8da0-03c714266134\" style=\"height: 525px; width: 100%;\" class=\"plotly-graph-div\"></div><script type=\"text/javascript\">require([\"plotly\"], function(Plotly) { window.PLOTLYENV=window.PLOTLYENV || {};window.PLOTLYENV.BASE_URL=\"https://plot.ly\";Plotly.newPlot(\"40e9d18a-9498-490f-8da0-03c714266134\", [{\"marker\": {\"opacity\": 0.9, \"color\": \"grey\"}, \"y\": [-33.1967, -22.704], \"type\": \"scatter\", \"mode\": \"lines\", \"x\": [-33.1967, -22.704]}, {\"textposition\": \"right\", \"textfont\": {\"size\": 7}, \"error_y\": {\"symmetric\": true, \"array\": [0.045961940777124, 0.11357339770680001, 0.282044322757967, 0.0558300994088319, 0.255265548008344, 0.394482361244878, 0.106066017177981, 0.5, 0.0999999999999996, 0.251661147842358, 0.251661147842358, 0.141421356237309, 0.351188458428424, 0.0816496580927723, 0.17320508075688598, 0.0707106781186558, null, 0.353553390593274], \"type\": \"data\"}, \"text\": [\"N1-181\", \"N2-181\", \"N4-197\", \"N7-197\", \"N7-244\", \"N8-197\", \"N8-244\", \"N-188\", \"N-197\", \"N-201\", \"N-209\", \"N-216\", \"N-223\", \"N-237\", \"N-251\", \"N-258\", \"N-272\", \"N-278\"], \"mode\": \"markers+text\", \"y\": [-28.0595, -30.66375, -30.180999999999997, -30.846, -28.7955, -30.960666666666697, -28.855, -31.4, -31.2, -31.8333333333333, -31.766666666666698, -30.7, -29.4333333333333, -29.6, -29.8, -29.45, -29.5, -28.95], \"x\": [-23.704, -32.0733, -32.1966, -32.1966, -31.3653, -32.1967, -31.3652, -31.6883, -32.0562, -31.9412, -31.7486, -31.6149, -31.5066, -31.348000000000003, -31.4616, -31.3808, -31.2674, -31.2329], \"type\": \"scatter\"}], {\"showlegend\": false, \"title\": \"North - Delta Soils (Sim vs. Obs)\", \"annotations\": [{\"y\": -34.567099999999996, \"text\": \"R-sq. = 0.96\", \"x\": -25.25355, \"showarrow\": false}], \"xaxis\": {\"titlefont\": {\"color\": \"#7f7f7f\", \"family\": \"Courier New, monospace\", \"size\": 18}, \"title\": \"Simulated\"}, \"yaxis\": {\"titlefont\": {\"color\": \"#7f7f7f\", \"family\": \"Courier New, monospace\", \"size\": 18}, \"title\": \"Observed\"}}, {\"linkText\": \"Export to plot.ly\", \"showLink\": true})});</script>"
      ],
      "text/vnd.plotly.v1+html": [
       "<div id=\"40e9d18a-9498-490f-8da0-03c714266134\" style=\"height: 525px; width: 100%;\" class=\"plotly-graph-div\"></div><script type=\"text/javascript\">require([\"plotly\"], function(Plotly) { window.PLOTLYENV=window.PLOTLYENV || {};window.PLOTLYENV.BASE_URL=\"https://plot.ly\";Plotly.newPlot(\"40e9d18a-9498-490f-8da0-03c714266134\", [{\"marker\": {\"opacity\": 0.9, \"color\": \"grey\"}, \"y\": [-33.1967, -22.704], \"type\": \"scatter\", \"mode\": \"lines\", \"x\": [-33.1967, -22.704]}, {\"textposition\": \"right\", \"textfont\": {\"size\": 7}, \"error_y\": {\"symmetric\": true, \"array\": [0.045961940777124, 0.11357339770680001, 0.282044322757967, 0.0558300994088319, 0.255265548008344, 0.394482361244878, 0.106066017177981, 0.5, 0.0999999999999996, 0.251661147842358, 0.251661147842358, 0.141421356237309, 0.351188458428424, 0.0816496580927723, 0.17320508075688598, 0.0707106781186558, null, 0.353553390593274], \"type\": \"data\"}, \"text\": [\"N1-181\", \"N2-181\", \"N4-197\", \"N7-197\", \"N7-244\", \"N8-197\", \"N8-244\", \"N-188\", \"N-197\", \"N-201\", \"N-209\", \"N-216\", \"N-223\", \"N-237\", \"N-251\", \"N-258\", \"N-272\", \"N-278\"], \"mode\": \"markers+text\", \"y\": [-28.0595, -30.66375, -30.180999999999997, -30.846, -28.7955, -30.960666666666697, -28.855, -31.4, -31.2, -31.8333333333333, -31.766666666666698, -30.7, -29.4333333333333, -29.6, -29.8, -29.45, -29.5, -28.95], \"x\": [-23.704, -32.0733, -32.1966, -32.1966, -31.3653, -32.1967, -31.3652, -31.6883, -32.0562, -31.9412, -31.7486, -31.6149, -31.5066, -31.348000000000003, -31.4616, -31.3808, -31.2674, -31.2329], \"type\": \"scatter\"}], {\"showlegend\": false, \"title\": \"North - Delta Soils (Sim vs. Obs)\", \"annotations\": [{\"y\": -34.567099999999996, \"text\": \"R-sq. = 0.96\", \"x\": -25.25355, \"showarrow\": false}], \"xaxis\": {\"titlefont\": {\"color\": \"#7f7f7f\", \"family\": \"Courier New, monospace\", \"size\": 18}, \"title\": \"Simulated\"}, \"yaxis\": {\"titlefont\": {\"color\": \"#7f7f7f\", \"family\": \"Courier New, monospace\", \"size\": 18}, \"title\": \"Observed\"}}, {\"linkText\": \"Export to plot.ly\", \"showLink\": true})});</script>"
      ]
     },
     "metadata": {},
     "output_type": "display_data"
    }
   ],
   "source": [
    "df = delta_dat.loc[delta_dat['Transect'] == 'N']\n",
    "\n",
    "data = [get_xy_line(df , test_var, delta=True), \n",
    "        get_scatter(df , test_var, sd)]\n",
    "\n",
    "fig = go.Figure(data=data, layout=get_layout(df, test_var, title='North - Delta Soils (Sim vs. Obs)'))\n",
    "iplot(fig)"
   ]
  },
  {
   "cell_type": "code",
   "execution_count": 15,
   "metadata": {},
   "outputs": [
    {
     "data": {
      "application/vnd.plotly.v1+json": {
       "data": [
        {
         "marker": {
          "color": "grey",
          "opacity": 0.9
         },
         "mode": "lines",
         "type": "scatter",
         "x": [
          -33.0853,
          -26.9
         ],
         "y": [
          -33.0853,
          -26.9
         ]
        },
        {
         "error_y": {
          "array": [
           0.40414518843273706,
           0.11547005383792501,
           0.556776436283001,
           0.4163331998932271,
           0.5686240703077329,
           0.6363961030678941,
           0.173205080756888,
           0.36055512754640007,
           0.0999999999999996,
           0.20816659994661302,
           0.461880215351699,
           0.141421356237309
          ],
          "symmetric": true,
          "type": "data"
         },
         "mode": "markers+text",
         "text": [
          "T-188",
          "T-197",
          "T-201",
          "T-209",
          "T-216",
          "T-223",
          "T-244",
          "T-251",
          "T-258",
          "T-265",
          "T-272",
          "T-278"
         ],
         "textfont": {
          "size": 7
         },
         "textposition": "right",
         "type": "scatter",
         "x": [
          -31.6595,
          -32.0853,
          -31.9683,
          -31.7724,
          -31.6362,
          -31.5259,
          -31.7211,
          -31.5914,
          -31.4898,
          -31.4098,
          -31.3463,
          -31.3023
         ],
         "y": [
          -29.966666666666697,
          -31.766666666666698,
          -31.1,
          -30.6333333333333,
          -29.8333333333333,
          -29.35,
          -30.5,
          -29.7,
          -29.9,
          -29.533333333333303,
          -29.6333333333333,
          -27.9
         ]
        }
       ],
       "layout": {
        "annotations": [
         {
          "showarrow": false,
          "text": "R-sq. = 0.99",
          "x": -25.11,
          "y": -35.215529999999994
         }
        ],
        "showlegend": false,
        "title": "Valley - Delta Soils (Sim vs. Obs)",
        "xaxis": {
         "title": "Simulated",
         "titlefont": {
          "color": "#7f7f7f",
          "family": "Courier New, monospace",
          "size": 18
         }
        },
        "yaxis": {
         "title": "Observed",
         "titlefont": {
          "color": "#7f7f7f",
          "family": "Courier New, monospace",
          "size": 18
         }
        }
       }
      },
      "text/html": [
       "<div id=\"fbdb616d-b203-4212-afed-7b0644d0a9ea\" style=\"height: 525px; width: 100%;\" class=\"plotly-graph-div\"></div><script type=\"text/javascript\">require([\"plotly\"], function(Plotly) { window.PLOTLYENV=window.PLOTLYENV || {};window.PLOTLYENV.BASE_URL=\"https://plot.ly\";Plotly.newPlot(\"fbdb616d-b203-4212-afed-7b0644d0a9ea\", [{\"marker\": {\"opacity\": 0.9, \"color\": \"grey\"}, \"y\": [-33.0853, -26.9], \"type\": \"scatter\", \"mode\": \"lines\", \"x\": [-33.0853, -26.9]}, {\"textposition\": \"right\", \"textfont\": {\"size\": 7}, \"error_y\": {\"symmetric\": true, \"array\": [0.40414518843273706, 0.11547005383792501, 0.556776436283001, 0.4163331998932271, 0.5686240703077329, 0.6363961030678941, 0.173205080756888, 0.36055512754640007, 0.0999999999999996, 0.20816659994661302, 0.461880215351699, 0.141421356237309], \"type\": \"data\"}, \"text\": [\"T-188\", \"T-197\", \"T-201\", \"T-209\", \"T-216\", \"T-223\", \"T-244\", \"T-251\", \"T-258\", \"T-265\", \"T-272\", \"T-278\"], \"mode\": \"markers+text\", \"y\": [-29.966666666666697, -31.766666666666698, -31.1, -30.6333333333333, -29.8333333333333, -29.35, -30.5, -29.7, -29.9, -29.533333333333303, -29.6333333333333, -27.9], \"x\": [-31.6595, -32.0853, -31.9683, -31.7724, -31.6362, -31.5259, -31.7211, -31.5914, -31.4898, -31.4098, -31.3463, -31.3023], \"type\": \"scatter\"}], {\"showlegend\": false, \"title\": \"Valley - Delta Soils (Sim vs. Obs)\", \"annotations\": [{\"y\": -35.215529999999994, \"text\": \"R-sq. = 0.99\", \"x\": -25.11, \"showarrow\": false}], \"xaxis\": {\"titlefont\": {\"color\": \"#7f7f7f\", \"family\": \"Courier New, monospace\", \"size\": 18}, \"title\": \"Simulated\"}, \"yaxis\": {\"titlefont\": {\"color\": \"#7f7f7f\", \"family\": \"Courier New, monospace\", \"size\": 18}, \"title\": \"Observed\"}}, {\"linkText\": \"Export to plot.ly\", \"showLink\": true})});</script>"
      ],
      "text/vnd.plotly.v1+html": [
       "<div id=\"fbdb616d-b203-4212-afed-7b0644d0a9ea\" style=\"height: 525px; width: 100%;\" class=\"plotly-graph-div\"></div><script type=\"text/javascript\">require([\"plotly\"], function(Plotly) { window.PLOTLYENV=window.PLOTLYENV || {};window.PLOTLYENV.BASE_URL=\"https://plot.ly\";Plotly.newPlot(\"fbdb616d-b203-4212-afed-7b0644d0a9ea\", [{\"marker\": {\"opacity\": 0.9, \"color\": \"grey\"}, \"y\": [-33.0853, -26.9], \"type\": \"scatter\", \"mode\": \"lines\", \"x\": [-33.0853, -26.9]}, {\"textposition\": \"right\", \"textfont\": {\"size\": 7}, \"error_y\": {\"symmetric\": true, \"array\": [0.40414518843273706, 0.11547005383792501, 0.556776436283001, 0.4163331998932271, 0.5686240703077329, 0.6363961030678941, 0.173205080756888, 0.36055512754640007, 0.0999999999999996, 0.20816659994661302, 0.461880215351699, 0.141421356237309], \"type\": \"data\"}, \"text\": [\"T-188\", \"T-197\", \"T-201\", \"T-209\", \"T-216\", \"T-223\", \"T-244\", \"T-251\", \"T-258\", \"T-265\", \"T-272\", \"T-278\"], \"mode\": \"markers+text\", \"y\": [-29.966666666666697, -31.766666666666698, -31.1, -30.6333333333333, -29.8333333333333, -29.35, -30.5, -29.7, -29.9, -29.533333333333303, -29.6333333333333, -27.9], \"x\": [-31.6595, -32.0853, -31.9683, -31.7724, -31.6362, -31.5259, -31.7211, -31.5914, -31.4898, -31.4098, -31.3463, -31.3023], \"type\": \"scatter\"}], {\"showlegend\": false, \"title\": \"Valley - Delta Soils (Sim vs. Obs)\", \"annotations\": [{\"y\": -35.215529999999994, \"text\": \"R-sq. = 0.99\", \"x\": -25.11, \"showarrow\": false}], \"xaxis\": {\"titlefont\": {\"color\": \"#7f7f7f\", \"family\": \"Courier New, monospace\", \"size\": 18}, \"title\": \"Simulated\"}, \"yaxis\": {\"titlefont\": {\"color\": \"#7f7f7f\", \"family\": \"Courier New, monospace\", \"size\": 18}, \"title\": \"Observed\"}}, {\"linkText\": \"Export to plot.ly\", \"showLink\": true})});</script>"
      ]
     },
     "metadata": {},
     "output_type": "display_data"
    }
   ],
   "source": [
    "df = delta_dat.loc[delta_dat['Transect'] == 'T']\n",
    "\n",
    "data = [get_xy_line(df , test_var, delta=True), \n",
    "        get_scatter(df , test_var, sd)]\n",
    "\n",
    "fig = go.Figure(data=data, layout=get_layout(df, test_var, title='Valley - Delta Soils (Sim vs. Obs)'))\n",
    "iplot(fig)"
   ]
  },
  {
   "cell_type": "code",
   "execution_count": 16,
   "metadata": {},
   "outputs": [
    {
     "data": {
      "application/vnd.plotly.v1+json": {
       "data": [
        {
         "marker": {
          "color": "grey",
          "opacity": 0.9
         },
         "mode": "lines",
         "type": "scatter",
         "x": [
          -33.1964,
          -26.6
         ],
         "y": [
          -33.1964,
          -26.6
         ]
        },
        {
         "error_y": {
          "array": [
           0.270152426110397,
           0.201698620058078,
           0.35001785668733904,
           0.151265770527682,
           0.0707106781186558,
           0.33381781458354404,
           0.407293505963452,
           0.513160143944688,
           0.45092497528228903,
           0.45092497528228903,
           0.0999999999999996,
           0.435889894354067,
           0.251661147842358,
           0.642910050732863,
           0.288675134594813,
           0.152752523165195,
           0.43588989435406794,
           0.37859388972002
          ],
          "symmetric": true,
          "type": "data"
         },
         "mode": "markers+text",
         "text": [
          "S11-182",
          "S12-182",
          "S12-244",
          "S12-286",
          "S13-197",
          "S13-244",
          "S13-286",
          "S-188",
          "S-197",
          "S-201",
          "S-209",
          "S-216",
          "S-223",
          "S-230",
          "S-244",
          "S-251",
          "S-258",
          "S-265"
         ],
         "textfont": {
          "size": 7
         },
         "textposition": "right",
         "type": "scatter",
         "x": [
          -32.0436,
          -32.0436,
          -31.218000000000004,
          -31.1063,
          -32.1964,
          -31.365,
          -31.1689,
          -31.8665,
          -31.879,
          -31.7851,
          -31.6302,
          -31.5229,
          -31.4367,
          -31.3669,
          -31.2651,
          -31.2282,
          -31.1982,
          -31.174
         ],
         "y": [
          -31.150666666666698,
          -31.5833333333333,
          -29.3385,
          -28.2596666666667,
          -31.441999999999997,
          -28.9943333333333,
          -28.415,
          -31.233333333333302,
          -31.0666666666667,
          -30.9333333333333,
          -30.6,
          -30.8,
          -31.0666666666667,
          -29.466666666666697,
          -28.6333333333333,
          -28.9333333333333,
          -27.6,
          -28.1666666666667
         ]
        }
       ],
       "layout": {
        "annotations": [
         {
          "showarrow": false,
          "text": "R-sq. = 0.98",
          "x": -24.84,
          "y": -35.30703
         }
        ],
        "showlegend": false,
        "title": "South - Delta Soils (Sim vs. Obs)",
        "xaxis": {
         "title": "Simulated",
         "titlefont": {
          "color": "#7f7f7f",
          "family": "Courier New, monospace",
          "size": 18
         }
        },
        "yaxis": {
         "title": "Observed",
         "titlefont": {
          "color": "#7f7f7f",
          "family": "Courier New, monospace",
          "size": 18
         }
        }
       }
      },
      "text/html": [
       "<div id=\"540122c2-27a4-4592-adf1-b503b77e43b3\" style=\"height: 525px; width: 100%;\" class=\"plotly-graph-div\"></div><script type=\"text/javascript\">require([\"plotly\"], function(Plotly) { window.PLOTLYENV=window.PLOTLYENV || {};window.PLOTLYENV.BASE_URL=\"https://plot.ly\";Plotly.newPlot(\"540122c2-27a4-4592-adf1-b503b77e43b3\", [{\"marker\": {\"opacity\": 0.9, \"color\": \"grey\"}, \"y\": [-33.1964, -26.6], \"type\": \"scatter\", \"mode\": \"lines\", \"x\": [-33.1964, -26.6]}, {\"textposition\": \"right\", \"textfont\": {\"size\": 7}, \"error_y\": {\"symmetric\": true, \"array\": [0.270152426110397, 0.201698620058078, 0.35001785668733904, 0.151265770527682, 0.0707106781186558, 0.33381781458354404, 0.407293505963452, 0.513160143944688, 0.45092497528228903, 0.45092497528228903, 0.0999999999999996, 0.435889894354067, 0.251661147842358, 0.642910050732863, 0.288675134594813, 0.152752523165195, 0.43588989435406794, 0.37859388972002], \"type\": \"data\"}, \"text\": [\"S11-182\", \"S12-182\", \"S12-244\", \"S12-286\", \"S13-197\", \"S13-244\", \"S13-286\", \"S-188\", \"S-197\", \"S-201\", \"S-209\", \"S-216\", \"S-223\", \"S-230\", \"S-244\", \"S-251\", \"S-258\", \"S-265\"], \"mode\": \"markers+text\", \"y\": [-31.150666666666698, -31.5833333333333, -29.3385, -28.2596666666667, -31.441999999999997, -28.9943333333333, -28.415, -31.233333333333302, -31.0666666666667, -30.9333333333333, -30.6, -30.8, -31.0666666666667, -29.466666666666697, -28.6333333333333, -28.9333333333333, -27.6, -28.1666666666667], \"x\": [-32.0436, -32.0436, -31.218000000000004, -31.1063, -32.1964, -31.365, -31.1689, -31.8665, -31.879, -31.7851, -31.6302, -31.5229, -31.4367, -31.3669, -31.2651, -31.2282, -31.1982, -31.174], \"type\": \"scatter\"}], {\"showlegend\": false, \"title\": \"South - Delta Soils (Sim vs. Obs)\", \"annotations\": [{\"y\": -35.30703, \"text\": \"R-sq. = 0.98\", \"x\": -24.84, \"showarrow\": false}], \"xaxis\": {\"titlefont\": {\"color\": \"#7f7f7f\", \"family\": \"Courier New, monospace\", \"size\": 18}, \"title\": \"Simulated\"}, \"yaxis\": {\"titlefont\": {\"color\": \"#7f7f7f\", \"family\": \"Courier New, monospace\", \"size\": 18}, \"title\": \"Observed\"}}, {\"linkText\": \"Export to plot.ly\", \"showLink\": true})});</script>"
      ],
      "text/vnd.plotly.v1+html": [
       "<div id=\"540122c2-27a4-4592-adf1-b503b77e43b3\" style=\"height: 525px; width: 100%;\" class=\"plotly-graph-div\"></div><script type=\"text/javascript\">require([\"plotly\"], function(Plotly) { window.PLOTLYENV=window.PLOTLYENV || {};window.PLOTLYENV.BASE_URL=\"https://plot.ly\";Plotly.newPlot(\"540122c2-27a4-4592-adf1-b503b77e43b3\", [{\"marker\": {\"opacity\": 0.9, \"color\": \"grey\"}, \"y\": [-33.1964, -26.6], \"type\": \"scatter\", \"mode\": \"lines\", \"x\": [-33.1964, -26.6]}, {\"textposition\": \"right\", \"textfont\": {\"size\": 7}, \"error_y\": {\"symmetric\": true, \"array\": [0.270152426110397, 0.201698620058078, 0.35001785668733904, 0.151265770527682, 0.0707106781186558, 0.33381781458354404, 0.407293505963452, 0.513160143944688, 0.45092497528228903, 0.45092497528228903, 0.0999999999999996, 0.435889894354067, 0.251661147842358, 0.642910050732863, 0.288675134594813, 0.152752523165195, 0.43588989435406794, 0.37859388972002], \"type\": \"data\"}, \"text\": [\"S11-182\", \"S12-182\", \"S12-244\", \"S12-286\", \"S13-197\", \"S13-244\", \"S13-286\", \"S-188\", \"S-197\", \"S-201\", \"S-209\", \"S-216\", \"S-223\", \"S-230\", \"S-244\", \"S-251\", \"S-258\", \"S-265\"], \"mode\": \"markers+text\", \"y\": [-31.150666666666698, -31.5833333333333, -29.3385, -28.2596666666667, -31.441999999999997, -28.9943333333333, -28.415, -31.233333333333302, -31.0666666666667, -30.9333333333333, -30.6, -30.8, -31.0666666666667, -29.466666666666697, -28.6333333333333, -28.9333333333333, -27.6, -28.1666666666667], \"x\": [-32.0436, -32.0436, -31.218000000000004, -31.1063, -32.1964, -31.365, -31.1689, -31.8665, -31.879, -31.7851, -31.6302, -31.5229, -31.4367, -31.3669, -31.2651, -31.2282, -31.1982, -31.174], \"type\": \"scatter\"}], {\"showlegend\": false, \"title\": \"South - Delta Soils (Sim vs. Obs)\", \"annotations\": [{\"y\": -35.30703, \"text\": \"R-sq. = 0.98\", \"x\": -24.84, \"showarrow\": false}], \"xaxis\": {\"titlefont\": {\"color\": \"#7f7f7f\", \"family\": \"Courier New, monospace\", \"size\": 18}, \"title\": \"Simulated\"}, \"yaxis\": {\"titlefont\": {\"color\": \"#7f7f7f\", \"family\": \"Courier New, monospace\", \"size\": 18}, \"title\": \"Observed\"}}, {\"linkText\": \"Export to plot.ly\", \"showLink\": true})});</script>"
      ]
     },
     "metadata": {},
     "output_type": "display_data"
    }
   ],
   "source": [
    "df = delta_dat.loc[delta_dat['Transect'] == 'S']\n",
    "\n",
    "data = [get_xy_line(df , test_var, delta=True), \n",
    "        get_scatter(df , test_var, sd)]\n",
    "\n",
    "fig = go.Figure(data=data, layout=get_layout(df, test_var, title='South - Delta Soils (Sim vs. Obs)'))\n",
    "iplot(fig)"
   ]
  },
  {
   "cell_type": "code",
   "execution_count": null,
   "metadata": {},
   "outputs": [],
   "source": []
  }
 ],
 "metadata": {
  "kernelspec": {
   "display_name": "Python 2",
   "language": "python",
   "name": "python2"
  },
  "language_info": {
   "codemirror_mode": {
    "name": "ipython",
    "version": 2
   },
   "file_extension": ".py",
   "mimetype": "text/x-python",
   "name": "python",
   "nbconvert_exporter": "python",
   "pygments_lexer": "ipython2",
   "version": "2.7.14"
  }
 },
 "nbformat": 4,
 "nbformat_minor": 2
}
